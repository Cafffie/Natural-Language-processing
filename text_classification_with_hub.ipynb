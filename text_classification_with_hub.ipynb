{
 "cells": [
  {
   "cell_type": "markdown",
   "metadata": {
    "id": "Ic4_occAAiAT"
   },
   "source": [
    "##### Copyright 2019 The TensorFlow Authors."
   ]
  },
  {
   "cell_type": "code",
   "execution_count": 1,
   "metadata": {
    "cellView": "form",
    "execution": {
     "iopub.execute_input": "2023-12-07T03:16:08.370483Z",
     "iopub.status.busy": "2023-12-07T03:16:08.370261Z",
     "iopub.status.idle": "2023-12-07T03:16:08.374044Z",
     "shell.execute_reply": "2023-12-07T03:16:08.373437Z"
    },
    "id": "ioaprt5q5US7"
   },
   "outputs": [],
   "source": [
    "#@title Licensed under the Apache License, Version 2.0 (the \"License\");\n",
    "# you may not use this file except in compliance with the License.\n",
    "# You may obtain a copy of the License at\n",
    "#\n",
    "# https://www.apache.org/licenses/LICENSE-2.0\n",
    "#\n",
    "# Unless required by applicable law or agreed to in writing, software\n",
    "# distributed under the License is distributed on an \"AS IS\" BASIS,\n",
    "# WITHOUT WARRANTIES OR CONDITIONS OF ANY KIND, either express or implied.\n",
    "# See the License for the specific language governing permissions and\n",
    "# limitations under the License."
   ]
  },
  {
   "cell_type": "code",
   "execution_count": 2,
   "metadata": {
    "cellView": "form",
    "execution": {
     "iopub.execute_input": "2023-12-07T03:16:08.377155Z",
     "iopub.status.busy": "2023-12-07T03:16:08.376907Z",
     "iopub.status.idle": "2023-12-07T03:16:08.380239Z",
     "shell.execute_reply": "2023-12-07T03:16:08.379639Z"
    },
    "id": "yCl0eTNH5RS3"
   },
   "outputs": [],
   "source": [
    "#@title MIT License\n",
    "#\n",
    "# Copyright (c) 2017 François Chollet\n",
    "#\n",
    "# Permission is hereby granted, free of charge, to any person obtaining a\n",
    "# copy of this software and associated documentation files (the \"Software\"),\n",
    "# to deal in the Software without restriction, including without limitation\n",
    "# the rights to use, copy, modify, merge, publish, distribute, sublicense,\n",
    "# and/or sell copies of the Software, and to permit persons to whom the\n",
    "# Software is furnished to do so, subject to the following conditions:\n",
    "#\n",
    "# The above copyright notice and this permission notice shall be included in\n",
    "# all copies or substantial portions of the Software.\n",
    "#\n",
    "# THE SOFTWARE IS PROVIDED \"AS IS\", WITHOUT WARRANTY OF ANY KIND, EXPRESS OR\n",
    "# IMPLIED, INCLUDING BUT NOT LIMITED TO THE WARRANTIES OF MERCHANTABILITY,\n",
    "# FITNESS FOR A PARTICULAR PURPOSE AND NONINFRINGEMENT. IN NO EVENT SHALL\n",
    "# THE AUTHORS OR COPYRIGHT HOLDERS BE LIABLE FOR ANY CLAIM, DAMAGES OR OTHER\n",
    "# LIABILITY, WHETHER IN AN ACTION OF CONTRACT, TORT OR OTHERWISE, ARISING\n",
    "# FROM, OUT OF OR IN CONNECTION WITH THE SOFTWARE OR THE USE OR OTHER\n",
    "# DEALINGS IN THE SOFTWARE."
   ]
  },
  {
   "cell_type": "markdown",
   "metadata": {
    "id": "ItXfxkxvosLH"
   },
   "source": [
    "# Text classification with TensorFlow Hub: Movie reviews"
   ]
  },
  {
   "cell_type": "markdown",
   "metadata": {
    "id": "hKY4XMc9o8iB"
   },
   "source": [
    "<table class=\"tfo-notebook-buttons\" align=\"left\">\n",
    "  <td>\n",
    "    <a target=\"_blank\" href=\"https://www.tensorflow.org/tutorials/keras/text_classification_with_hub\"><img src=\"https://www.tensorflow.org/images/tf_logo_32px.png\" />View on TensorFlow.org</a>\n",
    "  </td>\n",
    "  <td>\n",
    "    <a target=\"_blank\" href=\"https://colab.research.google.com/github/tensorflow/docs/blob/master/site/en/tutorials/keras/text_classification_with_hub.ipynb\"><img src=\"https://www.tensorflow.org/images/colab_logo_32px.png\" />Run in Google Colab</a>\n",
    "  </td>\n",
    "  <td>\n",
    "    <a target=\"_blank\" href=\"https://github.com/tensorflow/docs/blob/master/site/en/tutorials/keras/text_classification_with_hub.ipynb\"><img src=\"https://www.tensorflow.org/images/GitHub-Mark-32px.png\" />View on GitHub</a>\n",
    "  </td>\n",
    "  <td>\n",
    "    <a href=\"https://storage.googleapis.com/tensorflow_docs/docs/site/en/tutorials/keras/text_classification_with_hub.ipynb\"><img src=\"https://www.tensorflow.org/images/download_logo_32px.png\" />Download notebook</a>\n",
    "  </td>\n",
    "  <td>\n",
    "    <a href=\"https://tfhub.dev/s?module-type=text-embedding\"><img src=\"https://www.tensorflow.org/images/hub_logo_32px.png\" />See TF Hub models</a>\n",
    "  </td>\n",
    "</table>"
   ]
  },
  {
   "cell_type": "markdown",
   "metadata": {
    "id": "Eg62Pmz3o83v"
   },
   "source": [
    "This notebook classifies movie reviews as *positive* or *negative* using the text of the review. This is an example of *binary*—or two-class—classification, an important and widely applicable kind of machine learning problem.\n",
    "\n",
    "The tutorial demonstrates the basic application of transfer learning with [TensorFlow Hub](https://tfhub.dev) and Keras.\n",
    "\n",
    "It uses the [IMDB dataset](https://www.tensorflow.org/api_docs/python/tf/keras/datasets/imdb) that contains the text of 50,000 movie reviews from the [Internet Movie Database](https://www.imdb.com/). These are split into 25,000 reviews for training and 25,000 reviews for testing. The training and testing sets are *balanced*, meaning they contain an equal number of positive and negative reviews. \n",
    "\n",
    "This notebook uses [`tf.keras`](https://www.tensorflow.org/guide/keras), a high-level API to build and train models in TensorFlow, and [`tensorflow_hub`](https://www.tensorflow.org/hub), a library for loading trained models from [TFHub](https://tfhub.dev) in a single line of code. For a more advanced text classification tutorial using `tf.keras`, see the [MLCC Text Classification Guide](https://developers.google.com/machine-learning/guides/text-classification/)."
   ]
  },
  {
   "cell_type": "code",
   "execution_count": 2,
   "metadata": {
    "execution": {
     "iopub.execute_input": "2023-12-07T03:16:08.383484Z",
     "iopub.status.busy": "2023-12-07T03:16:08.383245Z",
     "iopub.status.idle": "2023-12-07T03:16:12.157750Z",
     "shell.execute_reply": "2023-12-07T03:16:12.156886Z"
    },
    "id": "IHTzYqKZ7auw"
   },
   "outputs": [
    {
     "name": "stdout",
     "output_type": "stream",
     "text": [
      "Collecting tensorflow-datasets\n",
      "  Obtaining dependency information for tensorflow-datasets from https://files.pythonhosted.org/packages/fe/18/4865973f5469cfe33bbe1cfc2f1918335eb44f4cc3d316c1bce22c1af2bc/tensorflow_datasets-4.9.4-py3-none-any.whl.metadata\n",
      "  Downloading tensorflow_datasets-4.9.4-py3-none-any.whl.metadata (9.2 kB)\n",
      "Requirement already satisfied: absl-py in c:\\users\\open user\\anaconda3\\lib\\site-packages (from tensorflow-datasets) (2.0.0)\n",
      "Requirement already satisfied: click in c:\\users\\open user\\anaconda3\\lib\\site-packages (from tensorflow-datasets) (8.0.4)\n",
      "Collecting dm-tree (from tensorflow-datasets)\n",
      "  Downloading dm_tree-0.1.8-cp311-cp311-win_amd64.whl (101 kB)\n",
      "     ---------------------------------------- 0.0/101.3 kB ? eta -:--:--\n",
      "     ---------------------------------------- 0.0/101.3 kB ? eta -:--:--\n",
      "     ---------------------------------------- 0.0/101.3 kB ? eta -:--:--\n",
      "     ---------------------------------------- 0.0/101.3 kB ? eta -:--:--\n",
      "     ---------------------------------------- 0.0/101.3 kB ? eta -:--:--\n",
      "     ---------------------------------------- 0.0/101.3 kB ? eta -:--:--\n",
      "     ---------------------------------------- 0.0/101.3 kB ? eta -:--:--\n",
      "     ---------------------------------------- 0.0/101.3 kB ? eta -:--:--\n",
      "     ---------------------------------------- 0.0/101.3 kB ? eta -:--:--\n",
      "     --------------- ----------------------- 41.0/101.3 kB 1.9 MB/s eta 0:00:01\n",
      "     --------------- ----------------------- 41.0/101.3 kB 1.9 MB/s eta 0:00:01\n",
      "     ---------------------- -------------- 61.4/101.3 kB 544.7 kB/s eta 0:00:01\n",
      "     ---------------------- -------------- 61.4/101.3 kB 544.7 kB/s eta 0:00:01\n",
      "     ---------------------- -------------- 61.4/101.3 kB 544.7 kB/s eta 0:00:01\n",
      "     ---------------------- -------------- 61.4/101.3 kB 544.7 kB/s eta 0:00:01\n",
      "     -------------------------- ---------- 71.7/101.3 kB 206.9 kB/s eta 0:00:01\n",
      "     -------------------------- ---------- 71.7/101.3 kB 206.9 kB/s eta 0:00:01\n",
      "     -------------------------- ---------- 71.7/101.3 kB 206.9 kB/s eta 0:00:01\n",
      "     --------------------------------- --- 92.2/101.3 kB 194.1 kB/s eta 0:00:01\n",
      "     ------------------------------------ 101.3/101.3 kB 194.2 kB/s eta 0:00:00\n",
      "Collecting etils[enp,epath,etree]>=0.9.0 (from tensorflow-datasets)\n",
      "  Obtaining dependency information for etils[enp,epath,etree]>=0.9.0 from https://files.pythonhosted.org/packages/cf/10/55adb8074b0211f8cfad76e73da86d4306e45567a5e6a905b4444fd7a751/etils-1.6.0-py3-none-any.whl.metadata\n",
      "  Downloading etils-1.6.0-py3-none-any.whl.metadata (6.4 kB)\n",
      "Requirement already satisfied: numpy in c:\\users\\open user\\anaconda3\\lib\\site-packages (from tensorflow-datasets) (1.24.3)\n",
      "Collecting promise (from tensorflow-datasets)\n",
      "  Downloading promise-2.3.tar.gz (19 kB)\n",
      "  Preparing metadata (setup.py): started\n",
      "  Preparing metadata (setup.py): finished with status 'done'\n",
      "Requirement already satisfied: protobuf>=3.20 in c:\\users\\open user\\anaconda3\\lib\\site-packages (from tensorflow-datasets) (4.23.4)\n",
      "Requirement already satisfied: psutil in c:\\users\\open user\\anaconda3\\lib\\site-packages (from tensorflow-datasets) (5.9.0)\n",
      "Requirement already satisfied: requests>=2.19.0 in c:\\users\\open user\\anaconda3\\lib\\site-packages (from tensorflow-datasets) (2.31.0)\n",
      "Collecting tensorflow-metadata (from tensorflow-datasets)\n",
      "  Obtaining dependency information for tensorflow-metadata from https://files.pythonhosted.org/packages/41/23/3705c7139886c079ef4c0e3be56a5a1fb90e9ee413a4b7caaee0ee0ea6fe/tensorflow_metadata-1.14.0-py3-none-any.whl.metadata\n",
      "  Downloading tensorflow_metadata-1.14.0-py3-none-any.whl.metadata (2.1 kB)\n",
      "Requirement already satisfied: termcolor in c:\\users\\open user\\anaconda3\\lib\\site-packages (from tensorflow-datasets) (2.4.0)\n",
      "Requirement already satisfied: toml in c:\\users\\open user\\anaconda3\\lib\\site-packages (from tensorflow-datasets) (0.10.2)\n",
      "Requirement already satisfied: tqdm in c:\\users\\open user\\anaconda3\\lib\\site-packages (from tensorflow-datasets) (4.65.0)\n",
      "Requirement already satisfied: wrapt in c:\\users\\open user\\anaconda3\\lib\\site-packages (from tensorflow-datasets) (1.14.1)\n",
      "Requirement already satisfied: fsspec in c:\\users\\open user\\anaconda3\\lib\\site-packages (from etils[enp,epath,etree]>=0.9.0->tensorflow-datasets) (2023.4.0)\n",
      "Collecting importlib_resources (from etils[enp,epath,etree]>=0.9.0->tensorflow-datasets)\n",
      "  Obtaining dependency information for importlib_resources from https://files.pythonhosted.org/packages/93/e8/facde510585869b5ec694e8e0363ffe4eba067cb357a8398a55f6a1f8023/importlib_resources-6.1.1-py3-none-any.whl.metadata\n",
      "  Downloading importlib_resources-6.1.1-py3-none-any.whl.metadata (4.1 kB)\n",
      "Requirement already satisfied: typing_extensions in c:\\users\\open user\\anaconda3\\lib\\site-packages (from etils[enp,epath,etree]>=0.9.0->tensorflow-datasets) (4.7.1)\n",
      "Requirement already satisfied: zipp in c:\\users\\open user\\anaconda3\\lib\\site-packages (from etils[enp,epath,etree]>=0.9.0->tensorflow-datasets) (3.11.0)\n",
      "Requirement already satisfied: charset-normalizer<4,>=2 in c:\\users\\open user\\anaconda3\\lib\\site-packages (from requests>=2.19.0->tensorflow-datasets) (2.0.4)\n",
      "Requirement already satisfied: idna<4,>=2.5 in c:\\users\\open user\\anaconda3\\lib\\site-packages (from requests>=2.19.0->tensorflow-datasets) (3.4)\n",
      "Requirement already satisfied: urllib3<3,>=1.21.1 in c:\\users\\open user\\anaconda3\\lib\\site-packages (from requests>=2.19.0->tensorflow-datasets) (1.26.16)\n",
      "Requirement already satisfied: certifi>=2017.4.17 in c:\\users\\open user\\anaconda3\\lib\\site-packages (from requests>=2.19.0->tensorflow-datasets) (2023.7.22)\n",
      "Requirement already satisfied: colorama in c:\\users\\open user\\anaconda3\\lib\\site-packages (from click->tensorflow-datasets) (0.4.6)\n",
      "Requirement already satisfied: six in c:\\users\\open user\\anaconda3\\lib\\site-packages (from promise->tensorflow-datasets) (1.16.0)\n",
      "Collecting absl-py (from tensorflow-datasets)\n",
      "  Downloading absl_py-1.4.0-py3-none-any.whl (126 kB)\n",
      "     ---------------------------------------- 0.0/126.5 kB ? eta -:--:--\n",
      "     ---------------------------------------- 0.0/126.5 kB ? eta -:--:--\n",
      "     ---------------------------------------- 0.0/126.5 kB ? eta -:--:--\n",
      "     --- ------------------------------------ 10.2/126.5 kB ? eta -:--:--\n",
      "     --- ------------------------------------ 10.2/126.5 kB ? eta -:--:--\n",
      "     -------- ---------------------------- 30.7/126.5 kB 186.2 kB/s eta 0:00:01\n",
      "     -------- ---------------------------- 30.7/126.5 kB 186.2 kB/s eta 0:00:01\n",
      "     -------- ---------------------------- 30.7/126.5 kB 186.2 kB/s eta 0:00:01\n",
      "     ----------- ------------------------- 41.0/126.5 kB 122.9 kB/s eta 0:00:01\n",
      "     ----------- ------------------------- 41.0/126.5 kB 122.9 kB/s eta 0:00:01\n",
      "     ----------- ------------------------- 41.0/126.5 kB 122.9 kB/s eta 0:00:01\n",
      "     ----------------- ------------------- 61.4/126.5 kB 142.2 kB/s eta 0:00:01\n",
      "     ----------------- ------------------- 61.4/126.5 kB 142.2 kB/s eta 0:00:01\n",
      "     ----------------- ------------------- 61.4/126.5 kB 142.2 kB/s eta 0:00:01\n",
      "     -------------------- ---------------- 71.7/126.5 kB 126.7 kB/s eta 0:00:01\n",
      "     -------------------- ---------------- 71.7/126.5 kB 126.7 kB/s eta 0:00:01\n",
      "     -------------------------- ---------- 92.2/126.5 kB 141.7 kB/s eta 0:00:01\n",
      "     -------------------------- ---------- 92.2/126.5 kB 141.7 kB/s eta 0:00:01\n",
      "     -------------------------------- --- 112.6/126.5 kB 152.4 kB/s eta 0:00:01\n",
      "     -------------------------------- --- 112.6/126.5 kB 152.4 kB/s eta 0:00:01\n",
      "     ------------------------------------ 126.5/126.5 kB 148.7 kB/s eta 0:00:00\n",
      "Collecting googleapis-common-protos<2,>=1.52.0 (from tensorflow-metadata->tensorflow-datasets)\n",
      "  Obtaining dependency information for googleapis-common-protos<2,>=1.52.0 from https://files.pythonhosted.org/packages/f0/43/c9d8f75ddf08e2a0a27db243c13a700c3cc7ec615b545b697cf6f715ad92/googleapis_common_protos-1.62.0-py2.py3-none-any.whl.metadata\n",
      "  Downloading googleapis_common_protos-1.62.0-py2.py3-none-any.whl.metadata (1.5 kB)\n",
      "Collecting protobuf>=3.20 (from tensorflow-datasets)\n",
      "  Downloading protobuf-3.20.3-py2.py3-none-any.whl (162 kB)\n",
      "     ---------------------------------------- 0.0/162.1 kB ? eta -:--:--\n",
      "     ---------------------------------------- 0.0/162.1 kB ? eta -:--:--\n",
      "     -- ------------------------------------- 10.2/162.1 kB ? eta -:--:--\n",
      "     -- ------------------------------------- 10.2/162.1 kB ? eta -:--:--\n",
      "     ------- ----------------------------- 30.7/162.1 kB 217.9 kB/s eta 0:00:01\n",
      "     ------- ----------------------------- 30.7/162.1 kB 217.9 kB/s eta 0:00:01\n",
      "     ------- ----------------------------- 30.7/162.1 kB 217.9 kB/s eta 0:00:01\n",
      "     --------- --------------------------- 41.0/162.1 kB 140.3 kB/s eta 0:00:01\n",
      "     --------- --------------------------- 41.0/162.1 kB 140.3 kB/s eta 0:00:01\n",
      "     -------------- ---------------------- 61.4/162.1 kB 172.4 kB/s eta 0:00:01\n",
      "     ---------------- -------------------- 71.7/162.1 kB 163.8 kB/s eta 0:00:01\n",
      "     ---------------- -------------------- 71.7/162.1 kB 163.8 kB/s eta 0:00:01\n",
      "     ---------------- -------------------- 71.7/162.1 kB 163.8 kB/s eta 0:00:01\n",
      "     --------------------- --------------- 92.2/162.1 kB 158.8 kB/s eta 0:00:01\n",
      "     --------------------- --------------- 92.2/162.1 kB 158.8 kB/s eta 0:00:01\n",
      "     ---------------------- ------------- 102.4/162.1 kB 151.1 kB/s eta 0:00:01\n",
      "     ---------------------- ------------- 102.4/162.1 kB 151.1 kB/s eta 0:00:01\n",
      "     --------------------------- -------- 122.9/162.1 kB 160.0 kB/s eta 0:00:01\n",
      "     --------------------------- -------- 122.9/162.1 kB 160.0 kB/s eta 0:00:01\n",
      "     --------------------------- -------- 122.9/162.1 kB 160.0 kB/s eta 0:00:01\n",
      "     ------------------------------- ---- 143.4/162.1 kB 160.6 kB/s eta 0:00:01\n",
      "     ---------------------------------- - 153.6/162.1 kB 160.9 kB/s eta 0:00:01\n",
      "     ------------------------------------ 162.1/162.1 kB 164.7 kB/s eta 0:00:00\n",
      "Downloading tensorflow_datasets-4.9.4-py3-none-any.whl (5.1 MB)\n",
      "   ---------------------------------------- 0.0/5.1 MB ? eta -:--:--\n",
      "   ---------------------------------------- 0.0/5.1 MB ? eta -:--:--\n",
      "   ---------------------------------------- 0.0/5.1 MB ? eta -:--:--\n",
      "   ---------------------------------------- 0.0/5.1 MB ? eta -:--:--\n",
      "   ---------------------------------------- 0.0/5.1 MB 262.6 kB/s eta 0:00:20\n",
      "   ---------------------------------------- 0.0/5.1 MB 262.6 kB/s eta 0:00:20\n",
      "   ---------------------------------------- 0.0/5.1 MB 262.6 kB/s eta 0:00:20\n",
      "   ---------------------------------------- 0.0/5.1 MB 131.3 kB/s eta 0:00:39\n",
      "   ---------------------------------------- 0.0/5.1 MB 131.3 kB/s eta 0:00:39\n",
      "   ---------------------------------------- 0.1/5.1 MB 164.1 kB/s eta 0:00:31\n",
      "   ---------------------------------------- 0.1/5.1 MB 164.1 kB/s eta 0:00:31\n",
      "    --------------------------------------- 0.1/5.1 MB 151.3 kB/s eta 0:00:33\n",
      "    --------------------------------------- 0.1/5.1 MB 151.3 kB/s eta 0:00:33\n",
      "    --------------------------------------- 0.1/5.1 MB 154.3 kB/s eta 0:00:33\n",
      "    --------------------------------------- 0.1/5.1 MB 154.3 kB/s eta 0:00:33\n",
      "    --------------------------------------- 0.1/5.1 MB 168.1 kB/s eta 0:00:30\n",
      "    --------------------------------------- 0.1/5.1 MB 168.1 kB/s eta 0:00:30\n",
      "    --------------------------------------- 0.1/5.1 MB 160.2 kB/s eta 0:00:31\n",
      "    --------------------------------------- 0.1/5.1 MB 160.2 kB/s eta 0:00:31\n",
      "    --------------------------------------- 0.1/5.1 MB 160.2 kB/s eta 0:00:31\n",
      "   - -------------------------------------- 0.1/5.1 MB 157.9 kB/s eta 0:00:32\n",
      "   - -------------------------------------- 0.2/5.1 MB 155.7 kB/s eta 0:00:32\n",
      "   - -------------------------------------- 0.2/5.1 MB 155.7 kB/s eta 0:00:32\n",
      "   - -------------------------------------- 0.2/5.1 MB 155.7 kB/s eta 0:00:32\n",
      "   - -------------------------------------- 0.2/5.1 MB 154.3 kB/s eta 0:00:32\n",
      "   - -------------------------------------- 0.2/5.1 MB 154.3 kB/s eta 0:00:32\n",
      "   - -------------------------------------- 0.2/5.1 MB 159.4 kB/s eta 0:00:31\n",
      "   - -------------------------------------- 0.2/5.1 MB 159.4 kB/s eta 0:00:31\n",
      "   - -------------------------------------- 0.2/5.1 MB 159.7 kB/s eta 0:00:31\n",
      "   - -------------------------------------- 0.2/5.1 MB 159.7 kB/s eta 0:00:31\n",
      "   - -------------------------------------- 0.2/5.1 MB 160.1 kB/s eta 0:00:31\n",
      "   - -------------------------------------- 0.2/5.1 MB 160.1 kB/s eta 0:00:31\n",
      "   - -------------------------------------- 0.2/5.1 MB 156.8 kB/s eta 0:00:31\n",
      "   - -------------------------------------- 0.2/5.1 MB 156.8 kB/s eta 0:00:31\n",
      "   -- ------------------------------------- 0.3/5.1 MB 160.5 kB/s eta 0:00:30\n",
      "   -- ------------------------------------- 0.3/5.1 MB 160.5 kB/s eta 0:00:30\n",
      "   -- ------------------------------------- 0.3/5.1 MB 160.5 kB/s eta 0:00:30\n",
      "   -- ------------------------------------- 0.3/5.1 MB 160.8 kB/s eta 0:00:30\n",
      "   -- ------------------------------------- 0.3/5.1 MB 159.4 kB/s eta 0:00:30\n",
      "   -- ------------------------------------- 0.3/5.1 MB 159.4 kB/s eta 0:00:30\n",
      "   -- ------------------------------------- 0.3/5.1 MB 159.4 kB/s eta 0:00:30\n",
      "   -- ------------------------------------- 0.3/5.1 MB 161.1 kB/s eta 0:00:30\n",
      "   -- ------------------------------------- 0.3/5.1 MB 161.1 kB/s eta 0:00:30\n",
      "   -- ------------------------------------- 0.3/5.1 MB 157.3 kB/s eta 0:00:31\n",
      "   -- ------------------------------------- 0.3/5.1 MB 157.3 kB/s eta 0:00:31\n",
      "   -- ------------------------------------- 0.3/5.1 MB 161.3 kB/s eta 0:00:30\n",
      "   -- ------------------------------------- 0.3/5.1 MB 161.3 kB/s eta 0:00:30\n",
      "   -- ------------------------------------- 0.3/5.1 MB 161.3 kB/s eta 0:00:30\n",
      "   -- ------------------------------------- 0.4/5.1 MB 159.2 kB/s eta 0:00:30\n",
      "   -- ------------------------------------- 0.4/5.1 MB 159.2 kB/s eta 0:00:30\n",
      "   -- ------------------------------------- 0.4/5.1 MB 159.2 kB/s eta 0:00:30\n",
      "   -- ------------------------------------- 0.4/5.1 MB 159.2 kB/s eta 0:00:30\n",
      "   -- ------------------------------------- 0.4/5.1 MB 159.2 kB/s eta 0:00:30\n",
      "   -- ------------------------------------- 0.4/5.1 MB 159.2 kB/s eta 0:00:30\n",
      "   -- ------------------------------------- 0.4/5.1 MB 159.2 kB/s eta 0:00:30\n",
      "   -- ------------------------------------- 0.4/5.1 MB 159.2 kB/s eta 0:00:30\n",
      "   -- ------------------------------------- 0.4/5.1 MB 159.2 kB/s eta 0:00:30\n",
      "   -- ------------------------------------- 0.4/5.1 MB 159.2 kB/s eta 0:00:30\n",
      "   --- ------------------------------------ 0.4/5.1 MB 149.5 kB/s eta 0:00:32\n",
      "   --- ------------------------------------ 0.4/5.1 MB 152.7 kB/s eta 0:00:31\n",
      "   --- ------------------------------------ 0.4/5.1 MB 152.7 kB/s eta 0:00:31\n",
      "   --- ------------------------------------ 0.4/5.1 MB 152.7 kB/s eta 0:00:31\n",
      "   --- ------------------------------------ 0.4/5.1 MB 152.7 kB/s eta 0:00:31\n",
      "   --- ------------------------------------ 0.4/5.1 MB 152.7 kB/s eta 0:00:31\n",
      "   --- ------------------------------------ 0.5/5.1 MB 149.1 kB/s eta 0:00:31\n",
      "   --- ------------------------------------ 0.5/5.1 MB 149.1 kB/s eta 0:00:31\n",
      "   --- ------------------------------------ 0.5/5.1 MB 147.9 kB/s eta 0:00:32\n",
      "   --- ------------------------------------ 0.5/5.1 MB 147.9 kB/s eta 0:00:32\n",
      "   --- ------------------------------------ 0.5/5.1 MB 147.9 kB/s eta 0:00:32\n",
      "   --- ------------------------------------ 0.5/5.1 MB 149.3 kB/s eta 0:00:31\n",
      "   --- ------------------------------------ 0.5/5.1 MB 149.3 kB/s eta 0:00:31\n",
      "   --- ------------------------------------ 0.5/5.1 MB 149.3 kB/s eta 0:00:31\n",
      "   --- ------------------------------------ 0.5/5.1 MB 145.3 kB/s eta 0:00:32\n",
      "   --- ------------------------------------ 0.5/5.1 MB 145.3 kB/s eta 0:00:32\n",
      "   --- ------------------------------------ 0.5/5.1 MB 145.3 kB/s eta 0:00:32\n",
      "   ---- ----------------------------------- 0.5/5.1 MB 147.3 kB/s eta 0:00:31\n",
      "   ---- ----------------------------------- 0.5/5.1 MB 147.3 kB/s eta 0:00:31\n",
      "   ---- ----------------------------------- 0.5/5.1 MB 147.3 kB/s eta 0:00:31\n",
      "   ---- ----------------------------------- 0.5/5.1 MB 147.3 kB/s eta 0:00:31\n",
      "   ---- ----------------------------------- 0.5/5.1 MB 147.3 kB/s eta 0:00:31\n",
      "   ---- ----------------------------------- 0.5/5.1 MB 146.9 kB/s eta 0:00:31\n",
      "   ---- ----------------------------------- 0.5/5.1 MB 146.9 kB/s eta 0:00:31\n",
      "   ---- ----------------------------------- 0.6/5.1 MB 149.3 kB/s eta 0:00:31\n",
      "   ---- ----------------------------------- 0.6/5.1 MB 149.3 kB/s eta 0:00:31\n",
      "   ---- ----------------------------------- 0.6/5.1 MB 149.3 kB/s eta 0:00:31\n",
      "   ---- ----------------------------------- 0.6/5.1 MB 146.6 kB/s eta 0:00:31\n",
      "   ---- ----------------------------------- 0.6/5.1 MB 146.6 kB/s eta 0:00:31\n",
      "   ---- ----------------------------------- 0.6/5.1 MB 148.9 kB/s eta 0:00:30\n",
      "   ---- ----------------------------------- 0.6/5.1 MB 148.9 kB/s eta 0:00:30\n",
      "   ---- ----------------------------------- 0.6/5.1 MB 148.9 kB/s eta 0:00:30\n",
      "   ---- ----------------------------------- 0.6/5.1 MB 148.7 kB/s eta 0:00:30\n",
      "   ---- ----------------------------------- 0.6/5.1 MB 148.7 kB/s eta 0:00:30\n",
      "   ---- ----------------------------------- 0.6/5.1 MB 147.3 kB/s eta 0:00:31\n",
      "   ---- ----------------------------------- 0.6/5.1 MB 147.3 kB/s eta 0:00:31\n",
      "   ---- ----------------------------------- 0.6/5.1 MB 147.3 kB/s eta 0:00:31\n",
      "   ---- ----------------------------------- 0.6/5.1 MB 147.3 kB/s eta 0:00:31\n",
      "   ---- ----------------------------------- 0.6/5.1 MB 147.3 kB/s eta 0:00:31\n",
      "   ---- ----------------------------------- 0.6/5.1 MB 147.3 kB/s eta 0:00:31\n",
      "   ---- ----------------------------------- 0.6/5.1 MB 147.3 kB/s eta 0:00:31\n",
      "   ---- ----------------------------------- 0.6/5.1 MB 147.3 kB/s eta 0:00:31\n",
      "   ---- ----------------------------------- 0.6/5.1 MB 147.3 kB/s eta 0:00:31\n",
      "   ---- ----------------------------------- 0.6/5.1 MB 147.3 kB/s eta 0:00:31\n",
      "   ---- ----------------------------------- 0.6/5.1 MB 147.3 kB/s eta 0:00:31\n",
      "   ---- ----------------------------------- 0.6/5.1 MB 147.3 kB/s eta 0:00:31\n",
      "   ---- ----------------------------------- 0.6/5.1 MB 147.3 kB/s eta 0:00:31\n",
      "   ---- ----------------------------------- 0.6/5.1 MB 147.3 kB/s eta 0:00:31\n",
      "   ----- ---------------------------------- 0.7/5.1 MB 142.3 kB/s eta 0:00:31\n",
      "   ----- ---------------------------------- 0.7/5.1 MB 142.3 kB/s eta 0:00:31\n",
      "   ----- ---------------------------------- 0.7/5.1 MB 144.2 kB/s eta 0:00:31\n",
      "   ----- ---------------------------------- 0.7/5.1 MB 144.2 kB/s eta 0:00:31\n",
      "   ----- ---------------------------------- 0.7/5.1 MB 144.2 kB/s eta 0:00:31\n",
      "   ----- ---------------------------------- 0.7/5.1 MB 144.2 kB/s eta 0:00:31\n",
      "   ----- ---------------------------------- 0.7/5.1 MB 144.2 kB/s eta 0:00:31\n",
      "   ----- ---------------------------------- 0.7/5.1 MB 144.2 kB/s eta 0:00:31\n",
      "   ----- ---------------------------------- 0.7/5.1 MB 140.0 kB/s eta 0:00:31\n",
      "   ----- ---------------------------------- 0.7/5.1 MB 140.0 kB/s eta 0:00:31\n",
      "   ----- ---------------------------------- 0.7/5.1 MB 141.4 kB/s eta 0:00:31\n",
      "   ----- ---------------------------------- 0.7/5.1 MB 141.4 kB/s eta 0:00:31\n",
      "   ----- ---------------------------------- 0.7/5.1 MB 141.4 kB/s eta 0:00:31\n",
      "   ----- ---------------------------------- 0.7/5.1 MB 139.6 kB/s eta 0:00:31\n",
      "   ----- ---------------------------------- 0.7/5.1 MB 139.6 kB/s eta 0:00:31\n",
      "   ----- ---------------------------------- 0.7/5.1 MB 139.6 kB/s eta 0:00:31\n",
      "   ------ --------------------------------- 0.8/5.1 MB 140.6 kB/s eta 0:00:31\n",
      "   ------ --------------------------------- 0.8/5.1 MB 140.6 kB/s eta 0:00:31\n",
      "   ------ --------------------------------- 0.8/5.1 MB 140.6 kB/s eta 0:00:31\n",
      "   ------ --------------------------------- 0.8/5.1 MB 140.6 kB/s eta 0:00:31\n",
      "   ------ --------------------------------- 0.8/5.1 MB 140.3 kB/s eta 0:00:31\n",
      "   ------ --------------------------------- 0.8/5.1 MB 140.3 kB/s eta 0:00:31\n",
      "   ------ --------------------------------- 0.8/5.1 MB 139.8 kB/s eta 0:00:31\n",
      "   ------ --------------------------------- 0.8/5.1 MB 139.8 kB/s eta 0:00:31\n",
      "   ------ --------------------------------- 0.8/5.1 MB 139.8 kB/s eta 0:00:31\n",
      "   ------ --------------------------------- 0.8/5.1 MB 140.7 kB/s eta 0:00:31\n",
      "   ------ --------------------------------- 0.8/5.1 MB 140.7 kB/s eta 0:00:31\n",
      "   ------ --------------------------------- 0.8/5.1 MB 140.7 kB/s eta 0:00:31\n",
      "   ------ --------------------------------- 0.8/5.1 MB 139.1 kB/s eta 0:00:31\n",
      "   ------ --------------------------------- 0.8/5.1 MB 139.1 kB/s eta 0:00:31\n",
      "   ------ --------------------------------- 0.8/5.1 MB 139.9 kB/s eta 0:00:31\n",
      "   ------ --------------------------------- 0.8/5.1 MB 139.9 kB/s eta 0:00:31\n",
      "   ------ --------------------------------- 0.8/5.1 MB 139.9 kB/s eta 0:00:31\n",
      "   ------ --------------------------------- 0.9/5.1 MB 140.4 kB/s eta 0:00:30\n",
      "   ------ --------------------------------- 0.9/5.1 MB 140.4 kB/s eta 0:00:30\n",
      "   ------ --------------------------------- 0.9/5.1 MB 140.0 kB/s eta 0:00:30\n",
      "   ------ --------------------------------- 0.9/5.1 MB 140.0 kB/s eta 0:00:30\n",
      "   ------ --------------------------------- 0.9/5.1 MB 140.0 kB/s eta 0:00:30\n",
      "   ------- -------------------------------- 0.9/5.1 MB 141.1 kB/s eta 0:00:30\n",
      "   ------- -------------------------------- 0.9/5.1 MB 141.1 kB/s eta 0:00:30\n",
      "   ------- -------------------------------- 0.9/5.1 MB 141.1 kB/s eta 0:00:30\n",
      "   ------- -------------------------------- 0.9/5.1 MB 139.6 kB/s eta 0:00:30\n",
      "   ------- -------------------------------- 0.9/5.1 MB 139.6 kB/s eta 0:00:30\n",
      "   ------- -------------------------------- 0.9/5.1 MB 140.8 kB/s eta 0:00:30\n",
      "   ------- -------------------------------- 0.9/5.1 MB 140.8 kB/s eta 0:00:30\n",
      "   ------- -------------------------------- 0.9/5.1 MB 140.8 kB/s eta 0:00:30\n",
      "   ------- -------------------------------- 1.0/5.1 MB 141.2 kB/s eta 0:00:30\n",
      "   ------- -------------------------------- 1.0/5.1 MB 141.2 kB/s eta 0:00:30\n",
      "   ------- -------------------------------- 1.0/5.1 MB 141.2 kB/s eta 0:00:30\n",
      "   ------- -------------------------------- 1.0/5.1 MB 140.8 kB/s eta 0:00:30\n",
      "   ------- -------------------------------- 1.0/5.1 MB 140.8 kB/s eta 0:00:30\n",
      "   ------- -------------------------------- 1.0/5.1 MB 141.8 kB/s eta 0:00:29\n",
      "   ------- -------------------------------- 1.0/5.1 MB 141.8 kB/s eta 0:00:29\n",
      "   ------- -------------------------------- 1.0/5.1 MB 141.8 kB/s eta 0:00:29\n",
      "   ------- -------------------------------- 1.0/5.1 MB 141.8 kB/s eta 0:00:29\n",
      "   ------- -------------------------------- 1.0/5.1 MB 140.4 kB/s eta 0:00:29\n",
      "   -------- ------------------------------- 1.0/5.1 MB 141.5 kB/s eta 0:00:29\n",
      "   -------- ------------------------------- 1.0/5.1 MB 141.5 kB/s eta 0:00:29\n",
      "   -------- ------------------------------- 1.0/5.1 MB 141.5 kB/s eta 0:00:29\n",
      "   -------- ------------------------------- 1.0/5.1 MB 141.9 kB/s eta 0:00:29\n",
      "   -------- ------------------------------- 1.0/5.1 MB 141.9 kB/s eta 0:00:29\n",
      "   -------- ------------------------------- 1.0/5.1 MB 141.4 kB/s eta 0:00:29\n",
      "   -------- ------------------------------- 1.0/5.1 MB 141.4 kB/s eta 0:00:29\n",
      "   -------- ------------------------------- 1.1/5.1 MB 142.4 kB/s eta 0:00:29\n",
      "   -------- ------------------------------- 1.1/5.1 MB 142.4 kB/s eta 0:00:29\n",
      "   -------- ------------------------------- 1.1/5.1 MB 142.4 kB/s eta 0:00:29\n",
      "   -------- ------------------------------- 1.1/5.1 MB 140.8 kB/s eta 0:00:29\n",
      "   -------- ------------------------------- 1.1/5.1 MB 140.8 kB/s eta 0:00:29\n",
      "   -------- ------------------------------- 1.1/5.1 MB 142.1 kB/s eta 0:00:28\n",
      "   -------- ------------------------------- 1.1/5.1 MB 142.1 kB/s eta 0:00:28\n",
      "   -------- ------------------------------- 1.1/5.1 MB 142.1 kB/s eta 0:00:28\n",
      "   -------- ------------------------------- 1.1/5.1 MB 142.1 kB/s eta 0:00:28\n",
      "   -------- ------------------------------- 1.1/5.1 MB 142.1 kB/s eta 0:00:28\n",
      "   -------- ------------------------------- 1.1/5.1 MB 142.0 kB/s eta 0:00:28\n",
      "   -------- ------------------------------- 1.1/5.1 MB 142.0 kB/s eta 0:00:28\n",
      "   --------- ------------------------------ 1.1/5.1 MB 142.9 kB/s eta 0:00:28\n",
      "   --------- ------------------------------ 1.1/5.1 MB 142.9 kB/s eta 0:00:28\n",
      "   --------- ------------------------------ 1.1/5.1 MB 142.9 kB/s eta 0:00:28\n",
      "   --------- ------------------------------ 1.2/5.1 MB 141.2 kB/s eta 0:00:28\n",
      "   --------- ------------------------------ 1.2/5.1 MB 141.2 kB/s eta 0:00:28\n",
      "   --------- ------------------------------ 1.2/5.1 MB 142.3 kB/s eta 0:00:28\n",
      "   --------- ------------------------------ 1.2/5.1 MB 142.3 kB/s eta 0:00:28\n",
      "   --------- ------------------------------ 1.2/5.1 MB 142.3 kB/s eta 0:00:28\n",
      "   --------- ------------------------------ 1.2/5.1 MB 142.4 kB/s eta 0:00:28\n",
      "   --------- ------------------------------ 1.2/5.1 MB 142.4 kB/s eta 0:00:28\n",
      "   --------- ------------------------------ 1.2/5.1 MB 142.3 kB/s eta 0:00:28\n",
      "   --------- ------------------------------ 1.2/5.1 MB 142.3 kB/s eta 0:00:28\n",
      "   --------- ------------------------------ 1.2/5.1 MB 142.8 kB/s eta 0:00:27\n",
      "   --------- ------------------------------ 1.2/5.1 MB 142.8 kB/s eta 0:00:27\n",
      "   --------- ------------------------------ 1.2/5.1 MB 142.8 kB/s eta 0:00:27\n",
      "   --------- ------------------------------ 1.2/5.1 MB 142.0 kB/s eta 0:00:27\n",
      "   --------- ------------------------------ 1.2/5.1 MB 142.0 kB/s eta 0:00:27\n",
      "   --------- ------------------------------ 1.2/5.1 MB 142.0 kB/s eta 0:00:27\n",
      "   --------- ------------------------------ 1.3/5.1 MB 142.8 kB/s eta 0:00:27\n",
      "   --------- ------------------------------ 1.3/5.1 MB 142.8 kB/s eta 0:00:27\n",
      "   --------- ------------------------------ 1.3/5.1 MB 142.8 kB/s eta 0:00:27\n",
      "   ---------- ----------------------------- 1.3/5.1 MB 142.8 kB/s eta 0:00:27\n",
      "   ---------- ----------------------------- 1.3/5.1 MB 142.8 kB/s eta 0:00:27\n",
      "   ---------- ----------------------------- 1.3/5.1 MB 142.7 kB/s eta 0:00:27\n",
      "   ---------- ----------------------------- 1.3/5.1 MB 143.1 kB/s eta 0:00:27\n",
      "   ---------- ----------------------------- 1.3/5.1 MB 143.1 kB/s eta 0:00:27\n",
      "   ---------- ----------------------------- 1.3/5.1 MB 143.1 kB/s eta 0:00:27\n",
      "   ---------- ----------------------------- 1.3/5.1 MB 142.8 kB/s eta 0:00:27\n",
      "   ---------- ----------------------------- 1.3/5.1 MB 142.8 kB/s eta 0:00:27\n",
      "   ---------- ----------------------------- 1.3/5.1 MB 142.8 kB/s eta 0:00:27\n",
      "   ---------- ----------------------------- 1.3/5.1 MB 142.8 kB/s eta 0:00:27\n",
      "   ---------- ----------------------------- 1.4/5.1 MB 143.8 kB/s eta 0:00:26\n",
      "   ---------- ----------------------------- 1.4/5.1 MB 143.8 kB/s eta 0:00:26\n",
      "   ---------- ----------------------------- 1.4/5.1 MB 143.7 kB/s eta 0:00:26\n",
      "   ---------- ----------------------------- 1.4/5.1 MB 143.7 kB/s eta 0:00:26\n",
      "   ---------- ----------------------------- 1.4/5.1 MB 143.7 kB/s eta 0:00:26\n",
      "   ---------- ----------------------------- 1.4/5.1 MB 144.0 kB/s eta 0:00:26\n",
      "   ---------- ----------------------------- 1.4/5.1 MB 144.0 kB/s eta 0:00:26\n",
      "   ----------- ---------------------------- 1.4/5.1 MB 143.6 kB/s eta 0:00:26\n",
      "   ----------- ---------------------------- 1.4/5.1 MB 143.6 kB/s eta 0:00:26\n",
      "   ----------- ---------------------------- 1.4/5.1 MB 144.8 kB/s eta 0:00:26\n",
      "   ----------- ---------------------------- 1.4/5.1 MB 144.8 kB/s eta 0:00:26\n",
      "   ----------- ---------------------------- 1.4/5.1 MB 144.8 kB/s eta 0:00:26\n",
      "   ----------- ---------------------------- 1.4/5.1 MB 145.1 kB/s eta 0:00:25\n",
      "   ----------- ---------------------------- 1.4/5.1 MB 145.1 kB/s eta 0:00:25\n",
      "   ----------- ---------------------------- 1.4/5.1 MB 145.0 kB/s eta 0:00:25\n",
      "   ----------- ---------------------------- 1.4/5.1 MB 145.0 kB/s eta 0:00:25\n",
      "   ----------- ---------------------------- 1.5/5.1 MB 146.1 kB/s eta 0:00:25\n",
      "   ----------- ---------------------------- 1.5/5.1 MB 146.1 kB/s eta 0:00:25\n",
      "   ----------- ---------------------------- 1.5/5.1 MB 145.5 kB/s eta 0:00:25\n",
      "   ----------- ---------------------------- 1.5/5.1 MB 145.5 kB/s eta 0:00:25\n",
      "   ----------- ---------------------------- 1.5/5.1 MB 146.4 kB/s eta 0:00:25\n",
      "   ----------- ---------------------------- 1.5/5.1 MB 146.4 kB/s eta 0:00:25\n",
      "   ----------- ---------------------------- 1.5/5.1 MB 147.3 kB/s eta 0:00:25\n",
      "   ----------- ---------------------------- 1.5/5.1 MB 147.3 kB/s eta 0:00:25\n",
      "   ------------ --------------------------- 1.5/5.1 MB 147.0 kB/s eta 0:00:25\n",
      "   ------------ --------------------------- 1.5/5.1 MB 147.0 kB/s eta 0:00:25\n",
      "   ------------ --------------------------- 1.5/5.1 MB 148.0 kB/s eta 0:00:24\n",
      "   ------------ --------------------------- 1.6/5.1 MB 148.1 kB/s eta 0:00:24\n",
      "   ------------ --------------------------- 1.6/5.1 MB 148.1 kB/s eta 0:00:24\n",
      "   ------------ --------------------------- 1.6/5.1 MB 148.2 kB/s eta 0:00:24\n",
      "   ------------ --------------------------- 1.6/5.1 MB 148.2 kB/s eta 0:00:24\n",
      "   ------------ --------------------------- 1.6/5.1 MB 148.9 kB/s eta 0:00:24\n",
      "   ------------ --------------------------- 1.6/5.1 MB 149.9 kB/s eta 0:00:24\n",
      "   ------------ --------------------------- 1.6/5.1 MB 149.9 kB/s eta 0:00:24\n",
      "   ------------ --------------------------- 1.6/5.1 MB 150.0 kB/s eta 0:00:23\n",
      "   ------------ --------------------------- 1.6/5.1 MB 151.2 kB/s eta 0:00:23\n",
      "   ------------ --------------------------- 1.6/5.1 MB 151.2 kB/s eta 0:00:23\n",
      "   ------------- -------------------------- 1.6/5.1 MB 150.9 kB/s eta 0:00:23\n",
      "   ------------- -------------------------- 1.7/5.1 MB 151.9 kB/s eta 0:00:23\n",
      "   ------------- -------------------------- 1.7/5.1 MB 151.9 kB/s eta 0:00:23\n",
      "   ------------- -------------------------- 1.7/5.1 MB 152.9 kB/s eta 0:00:23\n",
      "   ------------- -------------------------- 1.7/5.1 MB 153.2 kB/s eta 0:00:22\n",
      "   ------------- -------------------------- 1.7/5.1 MB 153.2 kB/s eta 0:00:22\n",
      "   ------------- -------------------------- 1.7/5.1 MB 154.2 kB/s eta 0:00:22\n",
      "   ------------- -------------------------- 1.7/5.1 MB 154.0 kB/s eta 0:00:22\n",
      "   ------------- -------------------------- 1.7/5.1 MB 154.0 kB/s eta 0:00:22\n",
      "   ------------- -------------------------- 1.8/5.1 MB 155.0 kB/s eta 0:00:22\n",
      "   -------------- ------------------------- 1.8/5.1 MB 156.1 kB/s eta 0:00:22\n",
      "   -------------- ------------------------- 1.8/5.1 MB 157.5 kB/s eta 0:00:21\n",
      "   -------------- ------------------------- 1.8/5.1 MB 157.5 kB/s eta 0:00:21\n",
      "   -------------- ------------------------- 1.8/5.1 MB 157.8 kB/s eta 0:00:21\n",
      "   -------------- ------------------------- 1.8/5.1 MB 157.8 kB/s eta 0:00:21\n",
      "   -------------- ------------------------- 1.8/5.1 MB 159.0 kB/s eta 0:00:21\n",
      "   -------------- ------------------------- 1.9/5.1 MB 160.1 kB/s eta 0:00:20\n",
      "   -------------- ------------------------- 1.9/5.1 MB 160.3 kB/s eta 0:00:20\n",
      "   -------------- ------------------------- 1.9/5.1 MB 160.3 kB/s eta 0:00:20\n",
      "   -------------- ------------------------- 1.9/5.1 MB 161.2 kB/s eta 0:00:20\n",
      "   --------------- ------------------------ 1.9/5.1 MB 161.4 kB/s eta 0:00:20\n",
      "   --------------- ------------------------ 1.9/5.1 MB 162.5 kB/s eta 0:00:20\n",
      "   --------------- ------------------------ 1.9/5.1 MB 163.6 kB/s eta 0:00:20\n",
      "   --------------- ------------------------ 2.0/5.1 MB 164.1 kB/s eta 0:00:19\n",
      "   --------------- ------------------------ 2.0/5.1 MB 165.1 kB/s eta 0:00:19\n",
      "   --------------- ------------------------ 2.0/5.1 MB 165.1 kB/s eta 0:00:19\n",
      "   --------------- ------------------------ 2.0/5.1 MB 165.3 kB/s eta 0:00:19\n",
      "   --------------- ------------------------ 2.0/5.1 MB 166.4 kB/s eta 0:00:19\n",
      "   ---------------- ----------------------- 2.0/5.1 MB 167.5 kB/s eta 0:00:19\n",
      "   ---------------- ----------------------- 2.0/5.1 MB 167.9 kB/s eta 0:00:18\n",
      "   ---------------- ----------------------- 2.1/5.1 MB 168.9 kB/s eta 0:00:18\n",
      "   ---------------- ----------------------- 2.1/5.1 MB 170.3 kB/s eta 0:00:18\n",
      "   ---------------- ----------------------- 2.1/5.1 MB 170.3 kB/s eta 0:00:18\n",
      "   ---------------- ----------------------- 2.1/5.1 MB 171.8 kB/s eta 0:00:18\n",
      "   ---------------- ----------------------- 2.1/5.1 MB 172.8 kB/s eta 0:00:17\n",
      "   ----------------- ---------------------- 2.2/5.1 MB 172.9 kB/s eta 0:00:17\n",
      "   ----------------- ---------------------- 2.2/5.1 MB 174.4 kB/s eta 0:00:17\n",
      "   ----------------- ---------------------- 2.2/5.1 MB 175.4 kB/s eta 0:00:17\n",
      "   ----------------- ---------------------- 2.2/5.1 MB 175.8 kB/s eta 0:00:17\n",
      "   ----------------- ---------------------- 2.2/5.1 MB 176.7 kB/s eta 0:00:17\n",
      "   ----------------- ---------------------- 2.2/5.1 MB 177.1 kB/s eta 0:00:16\n",
      "   ----------------- ---------------------- 2.3/5.1 MB 178.3 kB/s eta 0:00:16\n",
      "   ----------------- ---------------------- 2.3/5.1 MB 179.5 kB/s eta 0:00:16\n",
      "   ------------------ --------------------- 2.3/5.1 MB 179.6 kB/s eta 0:00:16\n",
      "   ------------------ --------------------- 2.3/5.1 MB 181.2 kB/s eta 0:00:16\n",
      "   ------------------ --------------------- 2.3/5.1 MB 182.3 kB/s eta 0:00:15\n",
      "   ------------------ --------------------- 2.4/5.1 MB 183.5 kB/s eta 0:00:15\n",
      "   ------------------ --------------------- 2.4/5.1 MB 185.0 kB/s eta 0:00:15\n",
      "   ------------------ --------------------- 2.4/5.1 MB 185.3 kB/s eta 0:00:15\n",
      "   ------------------- -------------------- 2.4/5.1 MB 186.5 kB/s eta 0:00:15\n",
      "   ------------------- -------------------- 2.4/5.1 MB 187.6 kB/s eta 0:00:14\n",
      "   ------------------- -------------------- 2.5/5.1 MB 188.3 kB/s eta 0:00:14\n",
      "   ------------------- -------------------- 2.5/5.1 MB 189.6 kB/s eta 0:00:14\n",
      "   ------------------- -------------------- 2.5/5.1 MB 190.5 kB/s eta 0:00:14\n",
      "   -------------------- ------------------- 2.5/5.1 MB 192.2 kB/s eta 0:00:14\n",
      "   -------------------- ------------------- 2.6/5.1 MB 193.6 kB/s eta 0:00:13\n",
      "   -------------------- ------------------- 2.6/5.1 MB 194.9 kB/s eta 0:00:13\n",
      "   -------------------- ------------------- 2.6/5.1 MB 196.3 kB/s eta 0:00:13\n",
      "   --------------------- ------------------ 2.7/5.1 MB 199.2 kB/s eta 0:00:13\n",
      "   --------------------- ------------------ 2.7/5.1 MB 200.1 kB/s eta 0:00:12\n",
      "   --------------------- ------------------ 2.7/5.1 MB 201.7 kB/s eta 0:00:12\n",
      "   --------------------- ------------------ 2.7/5.1 MB 203.2 kB/s eta 0:00:12\n",
      "   --------------------- ------------------ 2.8/5.1 MB 204.3 kB/s eta 0:00:12\n",
      "   ---------------------- ----------------- 2.8/5.1 MB 206.4 kB/s eta 0:00:11\n",
      "   ---------------------- ----------------- 2.8/5.1 MB 208.1 kB/s eta 0:00:11\n",
      "   ---------------------- ----------------- 2.9/5.1 MB 210.7 kB/s eta 0:00:11\n",
      "   ----------------------- ---------------- 2.9/5.1 MB 212.2 kB/s eta 0:00:11\n",
      "   ----------------------- ---------------- 2.9/5.1 MB 213.7 kB/s eta 0:00:10\n",
      "   ----------------------- ---------------- 3.0/5.1 MB 215.2 kB/s eta 0:00:10\n",
      "   ----------------------- ---------------- 3.0/5.1 MB 217.7 kB/s eta 0:00:10\n",
      "   ------------------------ --------------- 3.1/5.1 MB 219.2 kB/s eta 0:00:10\n",
      "   ------------------------ --------------- 3.1/5.1 MB 221.9 kB/s eta 0:00:09\n",
      "   ------------------------ --------------- 3.1/5.1 MB 223.6 kB/s eta 0:00:09\n",
      "   ------------------------- -------------- 3.2/5.1 MB 225.0 kB/s eta 0:00:09\n",
      "   ------------------------- -------------- 3.2/5.1 MB 227.7 kB/s eta 0:00:09\n",
      "   ------------------------- -------------- 3.2/5.1 MB 229.1 kB/s eta 0:00:08\n",
      "   -------------------------- ------------- 3.3/5.1 MB 232.0 kB/s eta 0:00:08\n",
      "   -------------------------- ------------- 3.3/5.1 MB 233.6 kB/s eta 0:00:08\n",
      "   -------------------------- ------------- 3.4/5.1 MB 236.2 kB/s eta 0:00:08\n",
      "   -------------------------- ------------- 3.4/5.1 MB 237.5 kB/s eta 0:00:07\n",
      "   --------------------------- ------------ 3.4/5.1 MB 238.9 kB/s eta 0:00:07\n",
      "   --------------------------- ------------ 3.5/5.1 MB 241.7 kB/s eta 0:00:07\n",
      "   ---------------------------- ----------- 3.6/5.1 MB 245.1 kB/s eta 0:00:07\n",
      "   ---------------------------- ----------- 3.6/5.1 MB 247.2 kB/s eta 0:00:06\n",
      "   ---------------------------- ----------- 3.6/5.1 MB 249.2 kB/s eta 0:00:06\n",
      "   ----------------------------- ---------- 3.7/5.1 MB 251.2 kB/s eta 0:00:06\n",
      "   ----------------------------- ---------- 3.7/5.1 MB 253.2 kB/s eta 0:00:06\n",
      "   ----------------------------- ---------- 3.8/5.1 MB 255.9 kB/s eta 0:00:06\n",
      "   ------------------------------ --------- 3.8/5.1 MB 259.9 kB/s eta 0:00:05\n",
      "   ------------------------------ --------- 3.9/5.1 MB 261.9 kB/s eta 0:00:05\n",
      "   ------------------------------- -------- 3.9/5.1 MB 264.5 kB/s eta 0:00:05\n",
      "   ------------------------------- -------- 4.0/5.1 MB 265.7 kB/s eta 0:00:05\n",
      "   ------------------------------- -------- 4.0/5.1 MB 269.4 kB/s eta 0:00:04\n",
      "   -------------------------------- ------- 4.1/5.1 MB 272.3 kB/s eta 0:00:04\n",
      "   -------------------------------- ------- 4.1/5.1 MB 274.8 kB/s eta 0:00:04\n",
      "   --------------------------------- ------ 4.2/5.1 MB 277.4 kB/s eta 0:00:04\n",
      "   --------------------------------- ------ 4.2/5.1 MB 280.2 kB/s eta 0:00:03\n",
      "   --------------------------------- ------ 4.3/5.1 MB 281.6 kB/s eta 0:00:03\n",
      "   ---------------------------------- ----- 4.3/5.1 MB 282.5 kB/s eta 0:00:03\n",
      "   ---------------------------------- ----- 4.4/5.1 MB 285.3 kB/s eta 0:00:03\n",
      "   ---------------------------------- ----- 4.4/5.1 MB 289.1 kB/s eta 0:00:03\n",
      "   ----------------------------------- ---- 4.5/5.1 MB 291.2 kB/s eta 0:00:03\n",
      "   ----------------------------------- ---- 4.5/5.1 MB 295.0 kB/s eta 0:00:02\n",
      "   ------------------------------------ --- 4.6/5.1 MB 297.7 kB/s eta 0:00:02\n",
      "   ------------------------------------ --- 4.6/5.1 MB 299.2 kB/s eta 0:00:02\n",
      "   ------------------------------------- -- 4.7/5.1 MB 301.9 kB/s eta 0:00:02\n",
      "   ------------------------------------- -- 4.7/5.1 MB 304.3 kB/s eta 0:00:02\n",
      "   ------------------------------------- -- 4.8/5.1 MB 307.6 kB/s eta 0:00:01\n",
      "   -------------------------------------- - 4.9/5.1 MB 311.3 kB/s eta 0:00:01\n",
      "   -------------------------------------- - 4.9/5.1 MB 313.9 kB/s eta 0:00:01\n",
      "   ---------------------------------------  5.0/5.1 MB 317.2 kB/s eta 0:00:01\n",
      "   ---------------------------------------  5.0/5.1 MB 318.2 kB/s eta 0:00:01\n",
      "   ---------------------------------------  5.0/5.1 MB 320.2 kB/s eta 0:00:01\n",
      "   ---------------------------------------- 5.1/5.1 MB 320.1 kB/s eta 0:00:00\n",
      "Downloading tensorflow_metadata-1.14.0-py3-none-any.whl (28 kB)\n",
      "Downloading googleapis_common_protos-1.62.0-py2.py3-none-any.whl (228 kB)\n",
      "   ---------------------------------------- 0.0/228.7 kB ? eta -:--:--\n",
      "   ---------- ----------------------------- 61.4/228.7 kB 3.2 MB/s eta 0:00:01\n",
      "   ------------------------- -------------- 143.4/228.7 kB 2.1 MB/s eta 0:00:01\n",
      "   ---------------------------------------- 228.7/228.7 kB 1.7 MB/s eta 0:00:00\n",
      "Downloading etils-1.6.0-py3-none-any.whl (144 kB)\n",
      "   ---------------------------------------- 0.0/144.9 kB ? eta -:--:--\n",
      "   ------------------- -------------------- 71.7/144.9 kB 2.0 MB/s eta 0:00:01\n",
      "   ---------------------------------------- 144.9/144.9 kB 1.7 MB/s eta 0:00:00\n",
      "Downloading importlib_resources-6.1.1-py3-none-any.whl (33 kB)\n",
      "Building wheels for collected packages: promise\n",
      "  Building wheel for promise (setup.py): started\n",
      "  Building wheel for promise (setup.py): finished with status 'done'\n",
      "  Created wheel for promise: filename=promise-2.3-py3-none-any.whl size=21548 sha256=925df1ea683dd23789e8628da57f2efd62695ab27462cda3b7f2a1463c8c753f\n",
      "  Stored in directory: c:\\users\\open user\\appdata\\local\\pip\\cache\\wheels\\90\\74\\b1\\9b54c896b8d9409e9268329d4d45ede8a8040abe91c8879932\n",
      "Successfully built promise\n",
      "Installing collected packages: dm-tree, protobuf, promise, importlib_resources, etils, absl-py, googleapis-common-protos, tensorflow-metadata, tensorflow-datasets\n",
      "  Attempting uninstall: protobuf\n",
      "    Found existing installation: protobuf 4.23.4\n",
      "    Uninstalling protobuf-4.23.4:\n",
      "      Successfully uninstalled protobuf-4.23.4\n"
     ]
    },
    {
     "name": "stderr",
     "output_type": "stream",
     "text": [
      "ERROR: Could not install packages due to an OSError: [WinError 5] Access is denied: 'C:\\\\Users\\\\Open user\\\\anaconda3\\\\Lib\\\\site-packages\\\\google\\\\~upb\\\\_message.pyd'\n",
      "Consider using the `--user` option or check the permissions.\n",
      "\n"
     ]
    }
   ],
   "source": [
    "#!pip install tensorflow-hub\n",
    "!pip install tensorflow-datasets"
   ]
  },
  {
   "cell_type": "code",
   "execution_count": 1,
   "metadata": {
    "execution": {
     "iopub.execute_input": "2023-12-07T03:16:12.162377Z",
     "iopub.status.busy": "2023-12-07T03:16:12.162118Z",
     "iopub.status.idle": "2023-12-07T03:16:15.588616Z",
     "shell.execute_reply": "2023-12-07T03:16:15.587828Z"
    },
    "id": "2ew7HTbPpCJH"
   },
   "outputs": [
    {
     "name": "stdout",
     "output_type": "stream",
     "text": [
      "WARNING:tensorflow:From C:\\Users\\Open user\\anaconda3\\Lib\\site-packages\\keras\\src\\losses.py:2976: The name tf.losses.sparse_softmax_cross_entropy is deprecated. Please use tf.compat.v1.losses.sparse_softmax_cross_entropy instead.\n",
      "\n",
      "WARNING:tensorflow:From C:\\Users\\Open user\\anaconda3\\Lib\\site-packages\\tensorflow_estimator\\python\\estimator\\util.py:74: The name tf.train.SessionRunHook is deprecated. Please use tf.estimator.SessionRunHook instead.\n",
      "\n",
      "WARNING:tensorflow:From C:\\Users\\Open user\\anaconda3\\Lib\\site-packages\\tensorflow_hub\\native_module.py:92: The name tf.GraphKeys is deprecated. Please use tf.compat.v1.GraphKeys instead.\n",
      "\n",
      "WARNING:tensorflow:From C:\\Users\\Open user\\anaconda3\\Lib\\site-packages\\tensorflow_hub\\saved_model_module.py:40: The name tf.saved_model.constants.LEGACY_INIT_OP_KEY is deprecated. Please use tf.compat.v1.saved_model.constants.LEGACY_INIT_OP_KEY instead.\n",
      "\n"
     ]
    },
    {
     "ename": "ModuleNotFoundError",
     "evalue": "No module named 'tensorflow_datasets'",
     "output_type": "error",
     "traceback": [
      "\u001b[1;31m---------------------------------------------------------------------------\u001b[0m",
      "\u001b[1;31mModuleNotFoundError\u001b[0m                       Traceback (most recent call last)",
      "Cell \u001b[1;32mIn[1], line 6\u001b[0m\n\u001b[0;32m      4\u001b[0m \u001b[38;5;28;01mimport\u001b[39;00m \u001b[38;5;21;01mtensorflow\u001b[39;00m \u001b[38;5;28;01mas\u001b[39;00m \u001b[38;5;21;01mtf\u001b[39;00m\n\u001b[0;32m      5\u001b[0m \u001b[38;5;28;01mimport\u001b[39;00m \u001b[38;5;21;01mtensorflow_hub\u001b[39;00m \u001b[38;5;28;01mas\u001b[39;00m \u001b[38;5;21;01mhub\u001b[39;00m\n\u001b[1;32m----> 6\u001b[0m \u001b[38;5;28;01mimport\u001b[39;00m \u001b[38;5;21;01mtensorflow_datasets\u001b[39;00m \u001b[38;5;28;01mas\u001b[39;00m \u001b[38;5;21;01mtfds\u001b[39;00m\n\u001b[0;32m      8\u001b[0m \u001b[38;5;28mprint\u001b[39m(\u001b[38;5;124m\"\u001b[39m\u001b[38;5;124mVersion: \u001b[39m\u001b[38;5;124m\"\u001b[39m, tf\u001b[38;5;241m.\u001b[39m__version__)\n\u001b[0;32m      9\u001b[0m \u001b[38;5;28mprint\u001b[39m(\u001b[38;5;124m\"\u001b[39m\u001b[38;5;124mEager mode: \u001b[39m\u001b[38;5;124m\"\u001b[39m, tf\u001b[38;5;241m.\u001b[39mexecuting_eagerly())\n",
      "\u001b[1;31mModuleNotFoundError\u001b[0m: No module named 'tensorflow_datasets'"
     ]
    }
   ],
   "source": [
    "import os\n",
    "import numpy as np\n",
    "\n",
    "import tensorflow as tf\n",
    "import tensorflow_hub as hub\n",
    "import tensorflow_datasets as tfds\n",
    "\n",
    "print(\"Version: \", tf.__version__)\n",
    "print(\"Eager mode: \", tf.executing_eagerly())\n",
    "print(\"Hub version: \", hub.__version__)\n",
    "print(\"GPU is\", \"available\" if tf.config.list_physical_devices(\"GPU\") else \"NOT AVAILABLE\")"
   ]
  },
  {
   "cell_type": "markdown",
   "metadata": {
    "id": "iAsKG535pHep"
   },
   "source": [
    "## Download the IMDB dataset\n",
    "\n",
    "The IMDB dataset is available on [imdb reviews](https://www.tensorflow.org/datasets/catalog/imdb_reviews) or on [TensorFlow datasets](https://www.tensorflow.org/datasets). The following code downloads the IMDB dataset to your machine (or the colab runtime):"
   ]
  },
  {
   "cell_type": "code",
   "execution_count": 5,
   "metadata": {
    "execution": {
     "iopub.execute_input": "2023-12-07T03:16:15.592466Z",
     "iopub.status.busy": "2023-12-07T03:16:15.592028Z",
     "iopub.status.idle": "2023-12-07T03:16:18.212742Z",
     "shell.execute_reply": "2023-12-07T03:16:18.212029Z"
    },
    "id": "zXXx5Oc3pOmN"
   },
   "outputs": [],
   "source": [
    "# Split the training set into 60% and 40% to end up with 15,000 examples\n",
    "# for training, 10,000 examples for validation and 25,000 examples for testing.\n",
    "train_data, validation_data, test_data = tfds.load(\n",
    "    name=\"imdb_reviews\", \n",
    "    split=('train[:60%]', 'train[60%:]', 'test'),\n",
    "    as_supervised=True)"
   ]
  },
  {
   "cell_type": "markdown",
   "metadata": {
    "id": "l50X3GfjpU4r"
   },
   "source": [
    "## Explore the data \n",
    "\n",
    "Let's take a moment to understand the format of the data. Each example is a sentence representing the movie review and a corresponding label. The sentence is not preprocessed in any way. The label is an integer value of either 0 or 1, where 0 is a negative review, and 1 is a positive review.\n",
    "\n",
    "Let's print first 10 examples."
   ]
  },
  {
   "cell_type": "code",
   "execution_count": 6,
   "metadata": {
    "execution": {
     "iopub.execute_input": "2023-12-07T03:16:18.216799Z",
     "iopub.status.busy": "2023-12-07T03:16:18.216557Z",
     "iopub.status.idle": "2023-12-07T03:16:18.729937Z",
     "shell.execute_reply": "2023-12-07T03:16:18.729295Z"
    },
    "id": "QtTS4kpEpjbi"
   },
   "outputs": [
    {
     "data": {
      "text/plain": [
       "<tf.Tensor: shape=(10,), dtype=string, numpy=\n",
       "array([b\"This was an absolutely terrible movie. Don't be lured in by Christopher Walken or Michael Ironside. Both are great actors, but this must simply be their worst role in history. Even their great acting could not redeem this movie's ridiculous storyline. This movie is an early nineties US propaganda piece. The most pathetic scenes were those when the Columbian rebels were making their cases for revolutions. Maria Conchita Alonso appeared phony, and her pseudo-love affair with Walken was nothing but a pathetic emotional plug in a movie that was devoid of any real meaning. I am disappointed that there are movies like this, ruining actor's like Christopher Walken's good name. I could barely sit through it.\",\n",
       "       b'I have been known to fall asleep during films, but this is usually due to a combination of things including, really tired, being warm and comfortable on the sette and having just eaten a lot. However on this occasion I fell asleep because the film was rubbish. The plot development was constant. Constantly slow and boring. Things seemed to happen, but with no explanation of what was causing them or why. I admit, I may have missed part of the film, but i watched the majority of it and everything just seemed to happen of its own accord without any real concern for anything else. I cant recommend this film at all.',\n",
       "       b'Mann photographs the Alberta Rocky Mountains in a superb fashion, and Jimmy Stewart and Walter Brennan give enjoyable performances as they always seem to do. <br /><br />But come on Hollywood - a Mountie telling the people of Dawson City, Yukon to elect themselves a marshal (yes a marshal!) and to enforce the law themselves, then gunfighters battling it out on the streets for control of the town? <br /><br />Nothing even remotely resembling that happened on the Canadian side of the border during the Klondike gold rush. Mr. Mann and company appear to have mistaken Dawson City for Deadwood, the Canadian North for the American Wild West.<br /><br />Canadian viewers be prepared for a Reefer Madness type of enjoyable howl with this ludicrous plot, or, to shake your head in disgust.',\n",
       "       b'This is the kind of film for a snowy Sunday afternoon when the rest of the world can go ahead with its own business as you descend into a big arm-chair and mellow for a couple of hours. Wonderful performances from Cher and Nicolas Cage (as always) gently row the plot along. There are no rapids to cross, no dangerous waters, just a warm and witty paddle through New York life at its best. A family film in every sense and one that deserves the praise it received.',\n",
       "       b'As others have mentioned, all the women that go nude in this film are mostly absolutely gorgeous. The plot very ably shows the hypocrisy of the female libido. When men are around they want to be pursued, but when no \"men\" are around, they become the pursuers of a 14 year old boy. And the boy becomes a man really fast (we should all be so lucky at this age!). He then gets up the courage to pursue his true love.',\n",
       "       b\"This is a film which should be seen by anybody interested in, effected by, or suffering from an eating disorder. It is an amazingly accurate and sensitive portrayal of bulimia in a teenage girl, its causes and its symptoms. The girl is played by one of the most brilliant young actresses working in cinema today, Alison Lohman, who was later so spectacular in 'Where the Truth Lies'. I would recommend that this film be shown in all schools, as you will never see a better on this subject. Alison Lohman is absolutely outstanding, and one marvels at her ability to convey the anguish of a girl suffering from this compulsive disorder. If barometers tell us the air pressure, Alison Lohman tells us the emotional pressure with the same degree of accuracy. Her emotional range is so precise, each scene could be measured microscopically for its gradations of trauma, on a scale of rising hysteria and desperation which reaches unbearable intensity. Mare Winningham is the perfect choice to play her mother, and does so with immense sympathy and a range of emotions just as finely tuned as Lohman's. Together, they make a pair of sensitive emotional oscillators vibrating in resonance with one another. This film is really an astonishing achievement, and director Katt Shea should be proud of it. The only reason for not seeing it is if you are not interested in people. But even if you like nature films best, this is after all animal behaviour at the sharp edge. Bulimia is an extreme version of how a tormented soul can destroy her own body in a frenzy of despair. And if we don't sympathise with people suffering from the depths of despair, then we are dead inside.\",\n",
       "       b'Okay, you have:<br /><br />Penelope Keith as Miss Herringbone-Tweed, B.B.E. (Backbone of England.) She\\'s killed off in the first scene - that\\'s right, folks; this show has no backbone!<br /><br />Peter O\\'Toole as Ol\\' Colonel Cricket from The First War and now the emblazered Lord of the Manor.<br /><br />Joanna Lumley as the ensweatered Lady of the Manor, 20 years younger than the colonel and 20 years past her own prime but still glamourous (Brit spelling, not mine) enough to have a toy-boy on the side. It\\'s alright, they have Col. Cricket\\'s full knowledge and consent (they guy even comes \\'round for Christmas!) Still, she\\'s considerate of the colonel enough to have said toy-boy her own age (what a gal!)<br /><br />David McCallum as said toy-boy, equally as pointlessly glamourous as his squeeze. Pilcher couldn\\'t come up with any cover for him within the story, so she gave him a hush-hush job at the Circus.<br /><br />and finally:<br /><br />Susan Hampshire as Miss Polonia Teacups, Venerable Headmistress of the Venerable Girls\\' Boarding-School, serving tea in her office with a dash of deep, poignant advice for life in the outside world just before graduation. Her best bit of advice: \"I\\'ve only been to Nancherrow (the local Stately Home of England) once. I thought it was very beautiful but, somehow, not part of the real world.\" Well, we can\\'t say they didn\\'t warn us.<br /><br />Ah, Susan - time was, your character would have been running the whole show. They don\\'t write \\'em like that any more. Our loss, not yours.<br /><br />So - with a cast and setting like this, you have the re-makings of \"Brideshead Revisited,\" right?<br /><br />Wrong! They took these 1-dimensional supporting roles because they paid so well. After all, acting is one of the oldest temp-jobs there is (YOU name another!)<br /><br />First warning sign: lots and lots of backlighting. They get around it by shooting outdoors - \"hey, it\\'s just the sunlight!\"<br /><br />Second warning sign: Leading Lady cries a lot. When not crying, her eyes are moist. That\\'s the law of romance novels: Leading Lady is \"dewy-eyed.\"<br /><br />Henceforth, Leading Lady shall be known as L.L.<br /><br />Third warning sign: L.L. actually has stars in her eyes when she\\'s in love. Still, I\\'ll give Emily Mortimer an award just for having to act with that spotlight in her eyes (I wonder . did they use contacts?)<br /><br />And lastly, fourth warning sign: no on-screen female character is \"Mrs.\" She\\'s either \"Miss\" or \"Lady.\"<br /><br />When all was said and done, I still couldn\\'t tell you who was pursuing whom and why. I couldn\\'t even tell you what was said and done.<br /><br />To sum up: they all live through World War II without anything happening to them at all.<br /><br />OK, at the end, L.L. finds she\\'s lost her parents to the Japanese prison camps and baby sis comes home catatonic. Meanwhile (there\\'s always a \"meanwhile,\") some young guy L.L. had a crush on (when, I don\\'t know) comes home from some wartime tough spot and is found living on the street by Lady of the Manor (must be some street if SHE\\'s going to find him there.) Both war casualties are whisked away to recover at Nancherrow (SOMEBODY has to be \"whisked away\" SOMEWHERE in these romance stories!)<br /><br />Great drama.',\n",
       "       b'The film is based on a genuine 1950s novel.<br /><br />Journalist Colin McInnes wrote a set of three \"London novels\": \"Absolute Beginners\", \"City of Spades\" and \"Mr Love and Justice\". I have read all three. The first two are excellent. The last, perhaps an experiment that did not come off. But McInnes\\'s work is highly acclaimed; and rightly so. This musical is the novelist\\'s ultimate nightmare - to see the fruits of one\\'s mind being turned into a glitzy, badly-acted, soporific one-dimensional apology of a film that says it captures the spirit of 1950s London, and does nothing of the sort.<br /><br />Thank goodness Colin McInnes wasn\\'t alive to witness it.',\n",
       "       b'I really love the sexy action and sci-fi films of the sixties and its because of the actress\\'s that appeared in them. They found the sexiest women to be in these films and it didn\\'t matter if they could act (Remember \"Candy\"?). The reason I was disappointed by this film was because it wasn\\'t nostalgic enough. The story here has a European sci-fi film called \"Dragonfly\" being made and the director is fired. So the producers decide to let a young aspiring filmmaker (Jeremy Davies) to complete the picture. They\\'re is one real beautiful woman in the film who plays Dragonfly but she\\'s barely in it. Film is written and directed by Roman Coppola who uses some of his fathers exploits from his early days and puts it into the script. I wish the film could have been an homage to those early films. They could have lots of cameos by actors who appeared in them. There is one actor in this film who was popular from the sixties and its John Phillip Law (Barbarella). Gerard Depardieu, Giancarlo Giannini and Dean Stockwell appear as well. I guess I\\'m going to have to continue waiting for a director to make a good homage to the films of the sixties. If any are reading this, \"Make it as sexy as you can\"! I\\'ll be waiting!',\n",
       "       b'Sure, this one isn\\'t really a blockbuster, nor does it target such a position. \"Dieter\" is the first name of a quite popular German musician, who is either loved or hated for his kind of acting and thats exactly what this movie is about. It is based on the autobiography \"Dieter Bohlen\" wrote a few years ago but isn\\'t meant to be accurate on that. The movie is filled with some sexual offensive content (at least for American standard) which is either amusing (not for the other \"actors\" of course) or dumb - it depends on your individual kind of humor or on you being a \"Bohlen\"-Fan or not. Technically speaking there isn\\'t much to criticize. Speaking of me I find this movie to be an OK-movie.'],\n",
       "      dtype=object)>"
      ]
     },
     "execution_count": 6,
     "metadata": {},
     "output_type": "execute_result"
    }
   ],
   "source": [
    "train_examples_batch, train_labels_batch = next(iter(train_data.batch(10)))\n",
    "train_examples_batch"
   ]
  },
  {
   "cell_type": "markdown",
   "metadata": {
    "id": "IFtaCHTdc-GY"
   },
   "source": [
    "Let's also print the first 10 labels."
   ]
  },
  {
   "cell_type": "code",
   "execution_count": 7,
   "metadata": {
    "execution": {
     "iopub.execute_input": "2023-12-07T03:16:18.733827Z",
     "iopub.status.busy": "2023-12-07T03:16:18.733548Z",
     "iopub.status.idle": "2023-12-07T03:16:18.738439Z",
     "shell.execute_reply": "2023-12-07T03:16:18.737854Z"
    },
    "id": "tvAjVXOWc6Mj"
   },
   "outputs": [
    {
     "data": {
      "text/plain": [
       "<tf.Tensor: shape=(10,), dtype=int64, numpy=array([0, 0, 0, 1, 1, 1, 0, 0, 0, 0])>"
      ]
     },
     "execution_count": 7,
     "metadata": {},
     "output_type": "execute_result"
    }
   ],
   "source": [
    "train_labels_batch"
   ]
  },
  {
   "cell_type": "markdown",
   "metadata": {
    "id": "LLC02j2g-llC"
   },
   "source": [
    "## Build the model\n",
    "\n",
    "The neural network is created by stacking layers—this requires three main architectural decisions:\n",
    "\n",
    "* How to represent the text?\n",
    "* How many layers to use in the model?\n",
    "* How many *hidden units* to use for each layer?\n",
    "\n",
    "In this example, the input data consists of sentences. The labels to predict are either 0 or 1.\n",
    "\n",
    "One way to represent the text is to convert sentences into embeddings vectors. Use a pre-trained text embedding as the first layer, which will have three advantages:\n",
    "\n",
    "*   You don't have to worry about text preprocessing,\n",
    "*   Benefit from transfer learning,\n",
    "*   the embedding has a fixed size, so it's simpler to process.\n",
    "\n",
    "For this example you use a **pre-trained text embedding model** from [TensorFlow Hub](https://tfhub.dev) called [google/nnlm-en-dim50/2](https://tfhub.dev/google/nnlm-en-dim50/2).\n",
    "\n",
    "There are many other pre-trained text embeddings from TFHub that can be used in this tutorial:\n",
    "\n",
    "* [google/nnlm-en-dim128/2](https://tfhub.dev/google/nnlm-en-dim128/2) - trained with the same NNLM architecture on the same data as [google/nnlm-en-dim50/2](https://tfhub.dev/google/nnlm-en-dim50/2), but with a larger embedding dimension. Larger dimensional embeddings can improve on your task but it may take longer to train your model.\n",
    "* [google/nnlm-en-dim128-with-normalization/2](https://tfhub.dev/google/nnlm-en-dim128-with-normalization/2) - the same as [google/nnlm-en-dim128/2](https://tfhub.dev/google/nnlm-en-dim128/2), but with additional text normalization such as removing punctuation. This can help if the text in your task contains additional characters or punctuation.\n",
    "* [google/universal-sentence-encoder/4](https://tfhub.dev/google/universal-sentence-encoder/4) - a much larger model yielding 512 dimensional embeddings trained with a deep averaging network (DAN) encoder.\n",
    "\n",
    "And many more! Find more [text embedding models](https://tfhub.dev/s?module-type=text-embedding) on TFHub."
   ]
  },
  {
   "cell_type": "markdown",
   "metadata": {
    "id": "In2nDpTLkgKa"
   },
   "source": [
    "Let's first create a Keras layer that uses a TensorFlow Hub model to embed the sentences, and try it out on a couple of input examples. Note that no matter the length of the input text, the output shape of the embeddings is: `(num_examples, embedding_dimension)`."
   ]
  },
  {
   "cell_type": "code",
   "execution_count": 8,
   "metadata": {
    "execution": {
     "iopub.execute_input": "2023-12-07T03:16:18.741867Z",
     "iopub.status.busy": "2023-12-07T03:16:18.741405Z",
     "iopub.status.idle": "2023-12-07T03:16:23.166812Z",
     "shell.execute_reply": "2023-12-07T03:16:23.166110Z"
    },
    "id": "_NUbzVeYkgcO"
   },
   "outputs": [
    {
     "data": {
      "text/plain": [
       "<tf.Tensor: shape=(3, 50), dtype=float32, numpy=\n",
       "array([[ 0.5423194 , -0.01190171,  0.06337537,  0.0686297 , -0.16776839,\n",
       "        -0.10581177,  0.168653  , -0.04998823, -0.31148052,  0.07910344,\n",
       "         0.15442258,  0.01488661,  0.03930155,  0.19772716, -0.12215477,\n",
       "        -0.04120982, -0.27041087, -0.21922147,  0.26517656, -0.80739075,\n",
       "         0.25833526, -0.31004202,  0.2868321 ,  0.19433866, -0.29036498,\n",
       "         0.0386285 , -0.78444123, -0.04793238,  0.41102988, -0.36388886,\n",
       "        -0.58034706,  0.30269453,  0.36308962, -0.15227163, -0.4439151 ,\n",
       "         0.19462997,  0.19528405,  0.05666233,  0.2890704 , -0.28468323,\n",
       "        -0.00531206,  0.0571938 , -0.3201319 , -0.04418665, -0.08550781,\n",
       "        -0.55847436, -0.2333639 , -0.20782956, -0.03543065, -0.17533456],\n",
       "       [ 0.56338924, -0.12339553, -0.10862677,  0.7753425 , -0.07667087,\n",
       "        -0.15752274,  0.01872334, -0.08169781, -0.3521876 ,  0.46373403,\n",
       "        -0.08492758,  0.07166861, -0.00670818,  0.12686071, -0.19326551,\n",
       "        -0.5262643 , -0.32958236,  0.14394784,  0.09043556, -0.54175544,\n",
       "         0.02468163, -0.15456744,  0.68333143,  0.09068333, -0.45327246,\n",
       "         0.23180094, -0.8615696 ,  0.3448039 ,  0.12838459, -0.58759046,\n",
       "        -0.40712303,  0.23061076,  0.48426905, -0.2712814 , -0.5380918 ,\n",
       "         0.47016335,  0.2257274 , -0.00830665,  0.28462422, -0.30498496,\n",
       "         0.04400366,  0.25025868,  0.14867125,  0.4071703 , -0.15422425,\n",
       "        -0.06878027, -0.40825695, -0.31492147,  0.09283663, -0.20183429],\n",
       "       [ 0.7456156 ,  0.21256858,  0.1440033 ,  0.52338624,  0.11032254,\n",
       "         0.00902788, -0.36678016, -0.08938274, -0.24165548,  0.33384597,\n",
       "        -0.111946  , -0.01460045, -0.00716449,  0.19562715,  0.00685217,\n",
       "        -0.24886714, -0.42796353,  0.1862    , -0.05241097, -0.664625  ,\n",
       "         0.13449019, -0.22205493,  0.08633009,  0.43685383,  0.2972681 ,\n",
       "         0.36140728, -0.71968895,  0.05291242, -0.1431612 , -0.15733941,\n",
       "        -0.15056324, -0.05988007, -0.08178931, -0.15569413, -0.09303784,\n",
       "        -0.18971168,  0.0762079 , -0.02541647, -0.27134502, -0.3392682 ,\n",
       "        -0.10296471, -0.27275252, -0.34078008,  0.20083308, -0.26644838,\n",
       "         0.00655449, -0.05141485, -0.04261916, -0.4541363 ,  0.20023566]],\n",
       "      dtype=float32)>"
      ]
     },
     "execution_count": 8,
     "metadata": {},
     "output_type": "execute_result"
    }
   ],
   "source": [
    "embedding = \"https://tfhub.dev/google/nnlm-en-dim50/2\"\n",
    "hub_layer = hub.KerasLayer(embedding, input_shape=[], \n",
    "                           dtype=tf.string, trainable=True)\n",
    "hub_layer(train_examples_batch[:3])"
   ]
  },
  {
   "cell_type": "markdown",
   "metadata": {
    "id": "dfSbV6igl1EH"
   },
   "source": [
    "Let's now build the full model:"
   ]
  },
  {
   "cell_type": "code",
   "execution_count": 9,
   "metadata": {
    "execution": {
     "iopub.execute_input": "2023-12-07T03:16:23.170570Z",
     "iopub.status.busy": "2023-12-07T03:16:23.170288Z",
     "iopub.status.idle": "2023-12-07T03:16:23.631445Z",
     "shell.execute_reply": "2023-12-07T03:16:23.630728Z"
    },
    "id": "xpKOoWgu-llD"
   },
   "outputs": [
    {
     "name": "stdout",
     "output_type": "stream",
     "text": [
      "Model: \"sequential\"\n",
      "_________________________________________________________________\n",
      " Layer (type)                Output Shape              Param #   \n",
      "=================================================================\n",
      " keras_layer (KerasLayer)    (None, 50)                48190600  \n",
      "                                                                 \n",
      " dense (Dense)               (None, 16)                816       \n",
      "                                                                 \n",
      " dense_1 (Dense)             (None, 1)                 17        \n",
      "                                                                 \n",
      "=================================================================\n",
      "Total params: 48191433 (183.84 MB)\n",
      "Trainable params: 48191433 (183.84 MB)\n",
      "Non-trainable params: 0 (0.00 Byte)\n",
      "_________________________________________________________________\n"
     ]
    }
   ],
   "source": [
    "model = tf.keras.Sequential()\n",
    "model.add(hub_layer)\n",
    "model.add(tf.keras.layers.Dense(16, activation='relu'))\n",
    "model.add(tf.keras.layers.Dense(1))\n",
    "\n",
    "model.summary()"
   ]
  },
  {
   "cell_type": "markdown",
   "metadata": {
    "id": "6PbKQ6mucuKL"
   },
   "source": [
    "The layers are stacked sequentially to build the classifier:\n",
    "\n",
    "1. The first layer is a TensorFlow Hub layer. This layer uses a pre-trained Saved Model to map a sentence into its embedding vector. The pre-trained text embedding model that you are using ([google/nnlm-en-dim50/2](https://tfhub.dev/google/nnlm-en-dim50/2)) splits the sentence into tokens, embeds each token and then combines the embedding. The resulting dimensions are: `(num_examples, embedding_dimension)`. For this NNLM model, the `embedding_dimension` is 50.\n",
    "2. This fixed-length output vector is piped through a fully-connected (`Dense`) layer with 16 hidden units.\n",
    "3. The last layer is densely connected with a single output node.\n",
    "\n",
    "Let's compile the model."
   ]
  },
  {
   "cell_type": "markdown",
   "metadata": {
    "id": "L4EqVWg4-llM"
   },
   "source": [
    "### Loss function and optimizer\n",
    "\n",
    "A model needs a loss function and an optimizer for training. Since this is a binary classification problem and the model outputs logits (a single-unit layer with a linear activation), you'll use the `binary_crossentropy` loss function.\n",
    "\n",
    "This isn't the only choice for a loss function, you could, for instance, choose `mean_squared_error`. But, generally, `binary_crossentropy` is better for dealing with probabilities—it measures the \"distance\" between probability distributions, or in our case, between the ground-truth distribution and the predictions.\n",
    "\n",
    "Later, when you are exploring regression problems (say, to predict the price of a house), you'll see how to use another loss function called mean squared error.\n",
    "\n",
    "Now, configure the model to use an optimizer and a loss function:"
   ]
  },
  {
   "cell_type": "code",
   "execution_count": 10,
   "metadata": {
    "execution": {
     "iopub.execute_input": "2023-12-07T03:16:23.638116Z",
     "iopub.status.busy": "2023-12-07T03:16:23.637865Z",
     "iopub.status.idle": "2023-12-07T03:16:23.652497Z",
     "shell.execute_reply": "2023-12-07T03:16:23.651698Z"
    },
    "id": "Mr0GP-cQ-llN"
   },
   "outputs": [],
   "source": [
    "model.compile(optimizer='adam',\n",
    "              loss=tf.keras.losses.BinaryCrossentropy(from_logits=True),\n",
    "              metrics=['accuracy'])"
   ]
  },
  {
   "cell_type": "markdown",
   "metadata": {
    "id": "35jv_fzP-llU"
   },
   "source": [
    "## Train the model\n",
    "\n",
    "Train the model for 10 epochs in mini-batches of 512 samples. This is 10 iterations over all samples in the `x_train` and `y_train` tensors. While training, monitor the model's loss and accuracy on the 10,000 samples from the validation set:"
   ]
  },
  {
   "cell_type": "code",
   "execution_count": 11,
   "metadata": {
    "execution": {
     "iopub.execute_input": "2023-12-07T03:16:23.655962Z",
     "iopub.status.busy": "2023-12-07T03:16:23.655726Z",
     "iopub.status.idle": "2023-12-07T03:18:14.781965Z",
     "shell.execute_reply": "2023-12-07T03:18:14.781071Z"
    },
    "id": "tXSGrjWZ-llW"
   },
   "outputs": [
    {
     "name": "stdout",
     "output_type": "stream",
     "text": [
      "Epoch 1/10\n"
     ]
    },
    {
     "name": "stderr",
     "output_type": "stream",
     "text": [
      "WARNING: All log messages before absl::InitializeLog() is called are written to STDERR\n",
      "I0000 00:00:1701918985.657311  104571 device_compiler.h:186] Compiled cluster using XLA!  This line is logged at most once for the lifetime of the process.\n"
     ]
    },
    {
     "name": "stdout",
     "output_type": "stream",
     "text": [
      "30/30 [==============================] - 9s 213ms/step - loss: 0.6203 - accuracy: 0.5744 - val_loss: 0.5576 - val_accuracy: 0.6664\n",
      "Epoch 2/10\n",
      "30/30 [==============================] - 31s 208ms/step - loss: 0.4857 - accuracy: 0.7514 - val_loss: 0.4508 - val_accuracy: 0.7807\n",
      "Epoch 3/10\n",
      "30/30 [==============================] - 27s 869ms/step - loss: 0.3556 - accuracy: 0.8531 - val_loss: 0.3718 - val_accuracy: 0.8284\n",
      "Epoch 4/10\n",
      "30/30 [==============================] - 7s 218ms/step - loss: 0.2594 - accuracy: 0.9011 - val_loss: 0.3327 - val_accuracy: 0.8588\n",
      "Epoch 5/10\n",
      "30/30 [==============================] - 7s 207ms/step - loss: 0.1920 - accuracy: 0.9361 - val_loss: 0.3139 - val_accuracy: 0.8648\n",
      "Epoch 6/10\n",
      "30/30 [==============================] - 7s 204ms/step - loss: 0.1423 - accuracy: 0.9575 - val_loss: 0.3079 - val_accuracy: 0.8640\n",
      "Epoch 7/10\n",
      "30/30 [==============================] - 6s 196ms/step - loss: 0.1046 - accuracy: 0.9723 - val_loss: 0.3100 - val_accuracy: 0.8702\n",
      "Epoch 8/10\n",
      "30/30 [==============================] - 5s 164ms/step - loss: 0.0752 - accuracy: 0.9821 - val_loss: 0.3170 - val_accuracy: 0.8675\n",
      "Epoch 9/10\n",
      "30/30 [==============================] - 6s 186ms/step - loss: 0.0537 - accuracy: 0.9903 - val_loss: 0.3281 - val_accuracy: 0.8687\n",
      "Epoch 10/10\n",
      "30/30 [==============================] - 6s 184ms/step - loss: 0.0385 - accuracy: 0.9944 - val_loss: 0.3415 - val_accuracy: 0.8669\n"
     ]
    }
   ],
   "source": [
    "history = model.fit(train_data.shuffle(10000).batch(512),\n",
    "                    epochs=10,\n",
    "                    validation_data=validation_data.batch(512),\n",
    "                    verbose=1)"
   ]
  },
  {
   "cell_type": "markdown",
   "metadata": {
    "id": "9EEGuDVuzb5r"
   },
   "source": [
    "## Evaluate the model\n",
    "\n",
    "And let's see how the model performs. Two values will be returned. Loss (a number which represents our error, lower values are better), and accuracy."
   ]
  },
  {
   "cell_type": "code",
   "execution_count": 12,
   "metadata": {
    "execution": {
     "iopub.execute_input": "2023-12-07T03:18:14.786137Z",
     "iopub.status.busy": "2023-12-07T03:18:14.785838Z",
     "iopub.status.idle": "2023-12-07T03:18:16.289946Z",
     "shell.execute_reply": "2023-12-07T03:18:16.289154Z"
    },
    "id": "zOMKywn4zReN"
   },
   "outputs": [
    {
     "name": "stdout",
     "output_type": "stream",
     "text": [
      "49/49 - 1s - loss: 0.3715 - accuracy: 0.8503 - 1s/epoch - 30ms/step\n",
      "loss: 0.371\n",
      "accuracy: 0.850\n"
     ]
    }
   ],
   "source": [
    "results = model.evaluate(test_data.batch(512), verbose=2)\n",
    "\n",
    "for name, value in zip(model.metrics_names, results):\n",
    "  print(\"%s: %.3f\" % (name, value))"
   ]
  },
  {
   "cell_type": "markdown",
   "metadata": {
    "id": "z1iEXVTR0Z2t"
   },
   "source": [
    "This fairly naive approach achieves an accuracy of about 87%. With more advanced approaches, the model should get closer to 95%."
   ]
  },
  {
   "cell_type": "markdown",
   "metadata": {
    "id": "5KggXVeL-llZ"
   },
   "source": [
    "## Further reading\n",
    "\n",
    "* For a more general way to work with string inputs and for a more detailed analysis of the progress of accuracy and loss during training, see the [Text classification with preprocessed text](./text_classification.ipynb) tutorial.\n",
    "* Try out more [text-related tutorials](https://www.tensorflow.org/hub/tutorials#text-related-tutorials) using trained models from TFHub."
   ]
  }
 ],
 "metadata": {
  "colab": {
   "collapsed_sections": [],
   "name": "text_classification_with_hub.ipynb",
   "toc_visible": true
  },
  "kernelspec": {
   "display_name": "Python 3 (ipykernel)",
   "language": "python",
   "name": "python3"
  },
  "language_info": {
   "codemirror_mode": {
    "name": "ipython",
    "version": 3
   },
   "file_extension": ".py",
   "mimetype": "text/x-python",
   "name": "python",
   "nbconvert_exporter": "python",
   "pygments_lexer": "ipython3",
   "version": "3.11.5"
  }
 },
 "nbformat": 4,
 "nbformat_minor": 1
}
