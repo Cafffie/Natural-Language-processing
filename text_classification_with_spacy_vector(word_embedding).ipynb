{
 "cells": [
  {
   "cell_type": "code",
   "execution_count": 1,
   "id": "41380244",
   "metadata": {},
   "outputs": [],
   "source": [
    "import pandas as pd\n",
    "import numpy as np\n",
    "\n",
    "from sklearn.naive_bayes import MultinomialNB\n",
    "from sklearn.neighbors import KNeighborsClassifier\n",
    "from sklearn.ensemble import RandomForestClassifier\n",
    "\n",
    "from sklearn.pipeline import Pipeline\n",
    "from sklearn.metrics import classification_report\n",
    "\n",
    "from sklearn.model_selection import train_test_split\n",
    "from sklearn.preprocessing import MinMaxScaler\n",
    "from imblearn.over_sampling import SMOTE\n",
    "import re\n",
    "\n",
    "import spacy"
   ]
  },
  {
   "cell_type": "code",
   "execution_count": 2,
   "id": "0647d88e",
   "metadata": {},
   "outputs": [
    {
     "data": {
      "text/html": [
       "<div>\n",
       "<style scoped>\n",
       "    .dataframe tbody tr th:only-of-type {\n",
       "        vertical-align: middle;\n",
       "    }\n",
       "\n",
       "    .dataframe tbody tr th {\n",
       "        vertical-align: top;\n",
       "    }\n",
       "\n",
       "    .dataframe thead th {\n",
       "        text-align: right;\n",
       "    }\n",
       "</style>\n",
       "<table border=\"1\" class=\"dataframe\">\n",
       "  <thead>\n",
       "    <tr style=\"text-align: right;\">\n",
       "      <th></th>\n",
       "      <th>category</th>\n",
       "      <th>text</th>\n",
       "    </tr>\n",
       "  </thead>\n",
       "  <tbody>\n",
       "    <tr>\n",
       "      <th>0</th>\n",
       "      <td>Household</td>\n",
       "      <td>Paper Plane Design Framed Wall Hanging Motivat...</td>\n",
       "    </tr>\n",
       "    <tr>\n",
       "      <th>1</th>\n",
       "      <td>Household</td>\n",
       "      <td>SAF 'Floral' Framed Painting (Wood, 30 inch x ...</td>\n",
       "    </tr>\n",
       "    <tr>\n",
       "      <th>2</th>\n",
       "      <td>Household</td>\n",
       "      <td>SAF 'UV Textured Modern Art Print Framed' Pain...</td>\n",
       "    </tr>\n",
       "    <tr>\n",
       "      <th>3</th>\n",
       "      <td>Household</td>\n",
       "      <td>SAF Flower Print Framed Painting (Synthetic, 1...</td>\n",
       "    </tr>\n",
       "    <tr>\n",
       "      <th>4</th>\n",
       "      <td>Household</td>\n",
       "      <td>Incredible Gifts India Wooden Happy Birthday U...</td>\n",
       "    </tr>\n",
       "  </tbody>\n",
       "</table>\n",
       "</div>"
      ],
      "text/plain": [
       "    category                                               text\n",
       "0  Household  Paper Plane Design Framed Wall Hanging Motivat...\n",
       "1  Household  SAF 'Floral' Framed Painting (Wood, 30 inch x ...\n",
       "2  Household  SAF 'UV Textured Modern Art Print Framed' Pain...\n",
       "3  Household  SAF Flower Print Framed Painting (Synthetic, 1...\n",
       "4  Household  Incredible Gifts India Wooden Happy Birthday U..."
      ]
     },
     "execution_count": 2,
     "metadata": {},
     "output_type": "execute_result"
    }
   ],
   "source": [
    "ecommerce_data= pd.read_csv(\"ecommerceDataset.csv\", names=['category', 'text'])\n",
    "ecommerce_data[:5]"
   ]
  },
  {
   "cell_type": "code",
   "execution_count": 3,
   "id": "049e465c",
   "metadata": {},
   "outputs": [
    {
     "data": {
      "text/plain": [
       "(50425, 2)"
      ]
     },
     "execution_count": 3,
     "metadata": {},
     "output_type": "execute_result"
    }
   ],
   "source": [
    "ecommerce_data.shape"
   ]
  },
  {
   "cell_type": "code",
   "execution_count": 4,
   "id": "4aab11bf",
   "metadata": {},
   "outputs": [
    {
     "data": {
      "text/plain": [
       "category\n",
       "Household                 19313\n",
       "Books                     11820\n",
       "Electronics               10621\n",
       "Clothing & Accessories     8671\n",
       "Name: count, dtype: int64"
      ]
     },
     "execution_count": 4,
     "metadata": {},
     "output_type": "execute_result"
    }
   ],
   "source": [
    "ecommerce_data.category.value_counts()"
   ]
  },
  {
   "cell_type": "code",
   "execution_count": 5,
   "id": "b6465c3e",
   "metadata": {},
   "outputs": [
    {
     "name": "stdout",
     "output_type": "stream",
     "text": [
      "<class 'pandas.core.frame.DataFrame'>\n",
      "RangeIndex: 50425 entries, 0 to 50424\n",
      "Data columns (total 2 columns):\n",
      " #   Column    Non-Null Count  Dtype \n",
      "---  ------    --------------  ----- \n",
      " 0   category  50425 non-null  object\n",
      " 1   text      50424 non-null  object\n",
      "dtypes: object(2)\n",
      "memory usage: 788.0+ KB\n"
     ]
    }
   ],
   "source": [
    "ecommerce_data.info()"
   ]
  },
  {
   "cell_type": "code",
   "execution_count": 6,
   "id": "3a9a1e66",
   "metadata": {},
   "outputs": [],
   "source": [
    "ecommerce_data[\"category_label\"]= ecommerce_data.category.map({\n",
    "    \"Household\": 0,\n",
    "    \"Books\": 1,\n",
    "    \"Electronics\": 2,\n",
    "    \"Clothing & Accessories\": 3\n",
    "})"
   ]
  },
  {
   "cell_type": "code",
   "execution_count": 7,
   "id": "55a6ee34",
   "metadata": {},
   "outputs": [
    {
     "data": {
      "text/html": [
       "<div>\n",
       "<style scoped>\n",
       "    .dataframe tbody tr th:only-of-type {\n",
       "        vertical-align: middle;\n",
       "    }\n",
       "\n",
       "    .dataframe tbody tr th {\n",
       "        vertical-align: top;\n",
       "    }\n",
       "\n",
       "    .dataframe thead th {\n",
       "        text-align: right;\n",
       "    }\n",
       "</style>\n",
       "<table border=\"1\" class=\"dataframe\">\n",
       "  <thead>\n",
       "    <tr style=\"text-align: right;\">\n",
       "      <th></th>\n",
       "      <th>category</th>\n",
       "      <th>text</th>\n",
       "      <th>category_label</th>\n",
       "    </tr>\n",
       "  </thead>\n",
       "  <tbody>\n",
       "    <tr>\n",
       "      <th>0</th>\n",
       "      <td>Household</td>\n",
       "      <td>Paper Plane Design Framed Wall Hanging Motivat...</td>\n",
       "      <td>0</td>\n",
       "    </tr>\n",
       "    <tr>\n",
       "      <th>1</th>\n",
       "      <td>Household</td>\n",
       "      <td>SAF 'Floral' Framed Painting (Wood, 30 inch x ...</td>\n",
       "      <td>0</td>\n",
       "    </tr>\n",
       "    <tr>\n",
       "      <th>2</th>\n",
       "      <td>Household</td>\n",
       "      <td>SAF 'UV Textured Modern Art Print Framed' Pain...</td>\n",
       "      <td>0</td>\n",
       "    </tr>\n",
       "    <tr>\n",
       "      <th>3</th>\n",
       "      <td>Household</td>\n",
       "      <td>SAF Flower Print Framed Painting (Synthetic, 1...</td>\n",
       "      <td>0</td>\n",
       "    </tr>\n",
       "    <tr>\n",
       "      <th>4</th>\n",
       "      <td>Household</td>\n",
       "      <td>Incredible Gifts India Wooden Happy Birthday U...</td>\n",
       "      <td>0</td>\n",
       "    </tr>\n",
       "  </tbody>\n",
       "</table>\n",
       "</div>"
      ],
      "text/plain": [
       "    category                                               text  \\\n",
       "0  Household  Paper Plane Design Framed Wall Hanging Motivat...   \n",
       "1  Household  SAF 'Floral' Framed Painting (Wood, 30 inch x ...   \n",
       "2  Household  SAF 'UV Textured Modern Art Print Framed' Pain...   \n",
       "3  Household  SAF Flower Print Framed Painting (Synthetic, 1...   \n",
       "4  Household  Incredible Gifts India Wooden Happy Birthday U...   \n",
       "\n",
       "   category_label  \n",
       "0               0  \n",
       "1               0  \n",
       "2               0  \n",
       "3               0  \n",
       "4               0  "
      ]
     },
     "execution_count": 7,
     "metadata": {},
     "output_type": "execute_result"
    }
   ],
   "source": [
    "ecommerce_data[:5]"
   ]
  },
  {
   "cell_type": "code",
   "execution_count": 8,
   "id": "0c9feddb",
   "metadata": {},
   "outputs": [
    {
     "data": {
      "text/plain": [
       "category          0\n",
       "text              1\n",
       "category_label    0\n",
       "dtype: int64"
      ]
     },
     "execution_count": 8,
     "metadata": {},
     "output_type": "execute_result"
    }
   ],
   "source": [
    "#Checking for missing values\n",
    "ecommerce_data.isnull().sum()"
   ]
  },
  {
   "cell_type": "code",
   "execution_count": 9,
   "id": "47b089e3",
   "metadata": {},
   "outputs": [
    {
     "data": {
      "text/html": [
       "<div>\n",
       "<style scoped>\n",
       "    .dataframe tbody tr th:only-of-type {\n",
       "        vertical-align: middle;\n",
       "    }\n",
       "\n",
       "    .dataframe tbody tr th {\n",
       "        vertical-align: top;\n",
       "    }\n",
       "\n",
       "    .dataframe thead th {\n",
       "        text-align: right;\n",
       "    }\n",
       "</style>\n",
       "<table border=\"1\" class=\"dataframe\">\n",
       "  <thead>\n",
       "    <tr style=\"text-align: right;\">\n",
       "      <th></th>\n",
       "      <th>category</th>\n",
       "      <th>text</th>\n",
       "      <th>category_label</th>\n",
       "    </tr>\n",
       "  </thead>\n",
       "  <tbody>\n",
       "    <tr>\n",
       "      <th>39330</th>\n",
       "      <td>Clothing &amp; Accessories</td>\n",
       "      <td>NaN</td>\n",
       "      <td>3</td>\n",
       "    </tr>\n",
       "  </tbody>\n",
       "</table>\n",
       "</div>"
      ],
      "text/plain": [
       "                     category text  category_label\n",
       "39330  Clothing & Accessories  NaN               3"
      ]
     },
     "execution_count": 9,
     "metadata": {},
     "output_type": "execute_result"
    }
   ],
   "source": [
    "ecommerce_data[ecommerce_data.text.isnull()]"
   ]
  },
  {
   "cell_type": "code",
   "execution_count": 10,
   "id": "3cffc273",
   "metadata": {},
   "outputs": [],
   "source": [
    "#Replacing missing missing value with zero\n",
    "ecommerce_data[\"text\"]= ecommerce_data.text.fillna(0)"
   ]
  },
  {
   "cell_type": "code",
   "execution_count": 11,
   "id": "838497aa",
   "metadata": {},
   "outputs": [],
   "source": [
    "#Dropping row with missing value\n",
    "ecommerce_data= ecommerce_data[ecommerce_data.text != 0]"
   ]
  },
  {
   "cell_type": "code",
   "execution_count": 12,
   "id": "7fa1856b",
   "metadata": {},
   "outputs": [
    {
     "data": {
      "text/plain": [
       "(50424, 3)"
      ]
     },
     "execution_count": 12,
     "metadata": {},
     "output_type": "execute_result"
    }
   ],
   "source": [
    "ecommerce_data.shape"
   ]
  },
  {
   "cell_type": "code",
   "execution_count": 13,
   "id": "c2bb6b84",
   "metadata": {},
   "outputs": [
    {
     "data": {
      "text/html": [
       "<div>\n",
       "<style scoped>\n",
       "    .dataframe tbody tr th:only-of-type {\n",
       "        vertical-align: middle;\n",
       "    }\n",
       "\n",
       "    .dataframe tbody tr th {\n",
       "        vertical-align: top;\n",
       "    }\n",
       "\n",
       "    .dataframe thead th {\n",
       "        text-align: right;\n",
       "    }\n",
       "</style>\n",
       "<table border=\"1\" class=\"dataframe\">\n",
       "  <thead>\n",
       "    <tr style=\"text-align: right;\">\n",
       "      <th></th>\n",
       "      <th>category</th>\n",
       "      <th>text</th>\n",
       "      <th>category_label</th>\n",
       "    </tr>\n",
       "  </thead>\n",
       "  <tbody>\n",
       "    <tr>\n",
       "      <th>0</th>\n",
       "      <td>Household</td>\n",
       "      <td>Paper Plane Design Framed Wall Hanging Motivat...</td>\n",
       "      <td>0</td>\n",
       "    </tr>\n",
       "    <tr>\n",
       "      <th>1</th>\n",
       "      <td>Household</td>\n",
       "      <td>SAF 'Floral' Framed Painting (Wood, 30 inch x ...</td>\n",
       "      <td>0</td>\n",
       "    </tr>\n",
       "    <tr>\n",
       "      <th>2</th>\n",
       "      <td>Household</td>\n",
       "      <td>SAF 'UV Textured Modern Art Print Framed' Pain...</td>\n",
       "      <td>0</td>\n",
       "    </tr>\n",
       "    <tr>\n",
       "      <th>3</th>\n",
       "      <td>Household</td>\n",
       "      <td>SAF Flower Print Framed Painting (Synthetic, 1...</td>\n",
       "      <td>0</td>\n",
       "    </tr>\n",
       "    <tr>\n",
       "      <th>4</th>\n",
       "      <td>Household</td>\n",
       "      <td>Incredible Gifts India Wooden Happy Birthday U...</td>\n",
       "      <td>0</td>\n",
       "    </tr>\n",
       "  </tbody>\n",
       "</table>\n",
       "</div>"
      ],
      "text/plain": [
       "    category                                               text  \\\n",
       "0  Household  Paper Plane Design Framed Wall Hanging Motivat...   \n",
       "1  Household  SAF 'Floral' Framed Painting (Wood, 30 inch x ...   \n",
       "2  Household  SAF 'UV Textured Modern Art Print Framed' Pain...   \n",
       "3  Household  SAF Flower Print Framed Painting (Synthetic, 1...   \n",
       "4  Household  Incredible Gifts India Wooden Happy Birthday U...   \n",
       "\n",
       "   category_label  \n",
       "0               0  \n",
       "1               0  \n",
       "2               0  \n",
       "3               0  \n",
       "4               0  "
      ]
     },
     "execution_count": 13,
     "metadata": {},
     "output_type": "execute_result"
    }
   ],
   "source": [
    "ecommerce_data[:5]"
   ]
  },
  {
   "cell_type": "code",
   "execution_count": 14,
   "id": "9ee04b11",
   "metadata": {},
   "outputs": [
    {
     "data": {
      "text/plain": [
       "'Incredible Gifts India Wooden Happy Birthday Unique Personalized Gift (5 X 4 Inch) Size:4 x 5   Made Of Natural Imported Wood, Which Is Quite Solid With Light Particle Pattern & Is Soft Pale To Blond Colour. Your Uploaded Photo Will Look Amazing And Beautiful After Laser Engraving On It. This Is One Of The Most Popular Unique Gifts In Our Store. We Offer This In Multiple Sizes, Some Can Be Used As Table Top And The Big Sizes Can Be Used As Wall Hanging Which Just Blends With Your Home Decaration. You Just Need To Upload A Picture And Add Your Own Text And We Will Do The Rest For You. We Will Email You The Preview Before Making The Final Product. Do You Want The Best Moment Of Your Life To Be Engraved On A Wooden Plaque That Lasts For A Longer Time And Stays Close To You Forever? Then You Are At The Right Place. We Present To You Various Sizes Personalized Engraved Wooden Plaques Made With Birch Wood. Let Your Memories Be Engraved On Wooden Plaques And Stay With Your Forever.'"
      ]
     },
     "execution_count": 14,
     "metadata": {},
     "output_type": "execute_result"
    }
   ],
   "source": [
    "ecommerce_data.text[4]"
   ]
  },
  {
   "cell_type": "code",
   "execution_count": 15,
   "id": "378d6c54",
   "metadata": {},
   "outputs": [],
   "source": [
    "nlp= spacy.load(\"en_core_web_lg\")"
   ]
  },
  {
   "cell_type": "code",
   "execution_count": 16,
   "id": "b651ce0c",
   "metadata": {},
   "outputs": [
    {
     "data": {
      "text/plain": [
       "(300,)"
      ]
     },
     "execution_count": 16,
     "metadata": {},
     "output_type": "execute_result"
    }
   ],
   "source": [
    "doc= nlp(\"Paper Plane Design Framed Wall Hanging Motivation\")\n",
    "doc[0].vector.shape"
   ]
  },
  {
   "cell_type": "code",
   "execution_count": 17,
   "id": "0afe16f5",
   "metadata": {},
   "outputs": [
    {
     "data": {
      "text/plain": [
       "array([ 0.033539,  1.0758  ,  4.2654  ,  2.4083  , -1.4626  ],\n",
       "      dtype=float32)"
      ]
     },
     "execution_count": 17,
     "metadata": {},
     "output_type": "execute_result"
    }
   ],
   "source": [
    "doc[1].vector[:5]"
   ]
  },
  {
   "cell_type": "code",
   "execution_count": 18,
   "id": "0e9344d7",
   "metadata": {},
   "outputs": [
    {
     "data": {
      "text/plain": [
       "(300,)"
      ]
     },
     "execution_count": 18,
     "metadata": {},
     "output_type": "execute_result"
    }
   ],
   "source": [
    "doc[1].vector.shape"
   ]
  },
  {
   "cell_type": "code",
   "execution_count": 19,
   "id": "27cf8af7",
   "metadata": {},
   "outputs": [],
   "source": [
    "ecommerce_data[\"vector\"]= ecommerce_data[\"text\"].apply(lambda x: nlp(x).vector)"
   ]
  },
  {
   "cell_type": "code",
   "execution_count": 20,
   "id": "5d82c220",
   "metadata": {},
   "outputs": [
    {
     "data": {
      "text/html": [
       "<div>\n",
       "<style scoped>\n",
       "    .dataframe tbody tr th:only-of-type {\n",
       "        vertical-align: middle;\n",
       "    }\n",
       "\n",
       "    .dataframe tbody tr th {\n",
       "        vertical-align: top;\n",
       "    }\n",
       "\n",
       "    .dataframe thead th {\n",
       "        text-align: right;\n",
       "    }\n",
       "</style>\n",
       "<table border=\"1\" class=\"dataframe\">\n",
       "  <thead>\n",
       "    <tr style=\"text-align: right;\">\n",
       "      <th></th>\n",
       "      <th>category</th>\n",
       "      <th>text</th>\n",
       "      <th>category_label</th>\n",
       "      <th>vector</th>\n",
       "    </tr>\n",
       "  </thead>\n",
       "  <tbody>\n",
       "    <tr>\n",
       "      <th>0</th>\n",
       "      <td>Household</td>\n",
       "      <td>Paper Plane Design Framed Wall Hanging Motivat...</td>\n",
       "      <td>0</td>\n",
       "      <td>[-2.306548, 0.30390584, -2.51085, 0.06632433, ...</td>\n",
       "    </tr>\n",
       "    <tr>\n",
       "      <th>1</th>\n",
       "      <td>Household</td>\n",
       "      <td>SAF 'Floral' Framed Painting (Wood, 30 inch x ...</td>\n",
       "      <td>0</td>\n",
       "      <td>[-2.6766863, -1.1272602, -1.1009779, 0.4870543...</td>\n",
       "    </tr>\n",
       "    <tr>\n",
       "      <th>2</th>\n",
       "      <td>Household</td>\n",
       "      <td>SAF 'UV Textured Modern Art Print Framed' Pain...</td>\n",
       "      <td>0</td>\n",
       "      <td>[-2.414381, 0.7888623, -2.8213925, 0.8304517, ...</td>\n",
       "    </tr>\n",
       "    <tr>\n",
       "      <th>3</th>\n",
       "      <td>Household</td>\n",
       "      <td>SAF Flower Print Framed Painting (Synthetic, 1...</td>\n",
       "      <td>0</td>\n",
       "      <td>[-2.3844197, 0.7978983, -2.7950675, 0.74301887...</td>\n",
       "    </tr>\n",
       "    <tr>\n",
       "      <th>4</th>\n",
       "      <td>Household</td>\n",
       "      <td>Incredible Gifts India Wooden Happy Birthday U...</td>\n",
       "      <td>0</td>\n",
       "      <td>[-0.5195761, -0.46975613, -1.4031031, -0.38848...</td>\n",
       "    </tr>\n",
       "  </tbody>\n",
       "</table>\n",
       "</div>"
      ],
      "text/plain": [
       "    category                                               text  \\\n",
       "0  Household  Paper Plane Design Framed Wall Hanging Motivat...   \n",
       "1  Household  SAF 'Floral' Framed Painting (Wood, 30 inch x ...   \n",
       "2  Household  SAF 'UV Textured Modern Art Print Framed' Pain...   \n",
       "3  Household  SAF Flower Print Framed Painting (Synthetic, 1...   \n",
       "4  Household  Incredible Gifts India Wooden Happy Birthday U...   \n",
       "\n",
       "   category_label                                             vector  \n",
       "0               0  [-2.306548, 0.30390584, -2.51085, 0.06632433, ...  \n",
       "1               0  [-2.6766863, -1.1272602, -1.1009779, 0.4870543...  \n",
       "2               0  [-2.414381, 0.7888623, -2.8213925, 0.8304517, ...  \n",
       "3               0  [-2.3844197, 0.7978983, -2.7950675, 0.74301887...  \n",
       "4               0  [-0.5195761, -0.46975613, -1.4031031, -0.38848...  "
      ]
     },
     "execution_count": 20,
     "metadata": {},
     "output_type": "execute_result"
    }
   ],
   "source": [
    "ecommerce_data[:5]"
   ]
  },
  {
   "cell_type": "code",
   "execution_count": 21,
   "id": "53b4947b",
   "metadata": {},
   "outputs": [
    {
     "data": {
      "text/plain": [
       "0    [-2.306548, 0.30390584, -2.51085, 0.06632433, ...\n",
       "1    [-2.6766863, -1.1272602, -1.1009779, 0.4870543...\n",
       "2    [-2.414381, 0.7888623, -2.8213925, 0.8304517, ...\n",
       "3    [-2.3844197, 0.7978983, -2.7950675, 0.74301887...\n",
       "4    [-0.5195761, -0.46975613, -1.4031031, -0.38848...\n",
       "Name: vector, dtype: object"
      ]
     },
     "execution_count": 21,
     "metadata": {},
     "output_type": "execute_result"
    }
   ],
   "source": [
    "ecommerce_data.vector[:5]"
   ]
  },
  {
   "cell_type": "code",
   "execution_count": 22,
   "id": "bf972a67",
   "metadata": {},
   "outputs": [],
   "source": [
    "X = np.array([np.array(x) for x in ecommerce_data.vector.values])\n",
    "y = ecommerce_data.category_label"
   ]
  },
  {
   "cell_type": "code",
   "execution_count": 23,
   "id": "af688ef7",
   "metadata": {},
   "outputs": [
    {
     "data": {
      "text/plain": [
       "array([[-2.306548  ,  0.30390584, -2.51085   , ..., -1.4262657 ,\n",
       "        -3.3489084 ,  0.57573175],\n",
       "       [-2.6766863 , -1.1272602 , -1.1009779 , ..., -1.6334178 ,\n",
       "        -2.4390118 , -0.24040593],\n",
       "       [-2.414381  ,  0.7888623 , -2.8213925 , ..., -2.1887448 ,\n",
       "        -3.0587976 ,  0.657897  ],\n",
       "       [-2.3844197 ,  0.7978983 , -2.7950675 , ..., -2.13979   ,\n",
       "        -2.9163933 ,  0.48472232],\n",
       "       [-0.5195761 , -0.46975613, -1.4031031 , ..., -0.5076162 ,\n",
       "        -2.1032832 , -0.826409  ]], dtype=float32)"
      ]
     },
     "execution_count": 23,
     "metadata": {},
     "output_type": "execute_result"
    }
   ],
   "source": [
    "X[:5]"
   ]
  },
  {
   "cell_type": "code",
   "execution_count": 24,
   "id": "feeffaec",
   "metadata": {},
   "outputs": [
    {
     "data": {
      "text/plain": [
       "0    0\n",
       "1    0\n",
       "2    0\n",
       "3    0\n",
       "4    0\n",
       "Name: category_label, dtype: int64"
      ]
     },
     "execution_count": 24,
     "metadata": {},
     "output_type": "execute_result"
    }
   ],
   "source": [
    "y[:5]"
   ]
  },
  {
   "cell_type": "code",
   "execution_count": 25,
   "id": "bccad426",
   "metadata": {},
   "outputs": [],
   "source": [
    "#Applying SMOTE to handle the imbalance dataset\n",
    "\n",
    "X_sm, y_sm= SMOTE().fit_resample(X, y)"
   ]
  },
  {
   "cell_type": "code",
   "execution_count": 26,
   "id": "15d2135a",
   "metadata": {},
   "outputs": [
    {
     "data": {
      "text/plain": [
       "(77252, 300)"
      ]
     },
     "execution_count": 26,
     "metadata": {},
     "output_type": "execute_result"
    }
   ],
   "source": [
    "X_sm.shape"
   ]
  },
  {
   "cell_type": "code",
   "execution_count": 27,
   "id": "2f02997e",
   "metadata": {},
   "outputs": [
    {
     "data": {
      "text/plain": [
       "category_label\n",
       "0    19313\n",
       "1    19313\n",
       "3    19313\n",
       "2    19313\n",
       "Name: count, dtype: int64"
      ]
     },
     "execution_count": 27,
     "metadata": {},
     "output_type": "execute_result"
    }
   ],
   "source": [
    "y_sm.value_counts()"
   ]
  },
  {
   "cell_type": "code",
   "execution_count": 28,
   "id": "514f10c6",
   "metadata": {},
   "outputs": [],
   "source": [
    "X_train, X_test, y_train, y_test= train_test_split(\n",
    "    X_sm, \n",
    "    y_sm,\n",
    "    test_size= 0.25,\n",
    "    random_state= 2022)"
   ]
  },
  {
   "cell_type": "code",
   "execution_count": 29,
   "id": "d78e251a",
   "metadata": {},
   "outputs": [
    {
     "data": {
      "text/plain": [
       "category_label\n",
       "1    4973\n",
       "0    4845\n",
       "2    4813\n",
       "3    4682\n",
       "Name: count, dtype: int64"
      ]
     },
     "execution_count": 29,
     "metadata": {},
     "output_type": "execute_result"
    }
   ],
   "source": [
    "y_test.value_counts()"
   ]
  },
  {
   "cell_type": "code",
   "execution_count": 30,
   "id": "a3c9bf39",
   "metadata": {},
   "outputs": [
    {
     "data": {
      "text/plain": [
       "category_label\n",
       "3    14631\n",
       "2    14500\n",
       "0    14468\n",
       "1    14340\n",
       "Name: count, dtype: int64"
      ]
     },
     "execution_count": 30,
     "metadata": {},
     "output_type": "execute_result"
    }
   ],
   "source": [
    "y_train.value_counts()"
   ]
  },
  {
   "cell_type": "code",
   "execution_count": 36,
   "id": "153186f0",
   "metadata": {},
   "outputs": [
    {
     "data": {
      "text/plain": [
       "array([-1.6228391 , -0.8795158 , -0.60475844,  0.09957702,  4.5345936 ,\n",
       "        0.49701482,  0.5316818 ,  2.804304  ,  0.3641683 , -0.42082235,\n",
       "        2.8456032 ,  1.3637278 , -3.202679  ,  0.86895186,  0.23375197,\n",
       "        0.69083005,  0.9995085 ,  0.36960497, -1.0316478 , -1.0361857 ,\n",
       "        0.49809745, -0.12028522, -0.09276063,  0.6998448 ,  0.9360567 ,\n",
       "       -0.10150979, -1.8054459 , -0.93224007,  0.28848827,  0.6398769 ,\n",
       "        0.05864611, -0.39690572,  0.67430156, -0.6484703 , -2.6157746 ,\n",
       "       -0.8849752 , -0.15731286,  0.25606146, -1.3431283 , -1.1228722 ,\n",
       "        1.4037353 , -0.09437145, -1.0761565 ,  0.67094934, -0.42892984,\n",
       "        0.27302143, -0.67013556, -0.6753916 ,  0.23651104, -0.23073682,\n",
       "       -1.5751532 ,  1.431477  , -0.17946924, -2.61857   ,  0.08347544,\n",
       "        0.1525487 , -1.9377465 , -0.19389702,  0.5035086 , -0.9523302 ,\n",
       "       -0.12221701, -0.6814095 ,  0.6373349 ,  0.48782822,  2.3400123 ,\n",
       "        0.9520956 , -2.9526992 , -3.9583101 ,  2.0084848 ,  0.7673964 ,\n",
       "       -0.72210455, -0.96088785, -1.6378684 , -1.5172639 ,  0.76884276,\n",
       "        0.46945265, -1.7607799 ,  1.4887122 , -1.6845447 ,  0.35847476,\n",
       "       -1.7793654 , -0.03296047, -0.5432527 ,  1.1544126 ,  2.6961381 ,\n",
       "       -0.00501263, -1.8264775 , -3.0101113 , -0.41991988, -0.9486519 ,\n",
       "       -2.1213338 ,  0.13833183, -0.17377067, -1.2958767 ,  0.4507209 ,\n",
       "       -1.7340897 ,  0.43637592,  0.40722418,  1.7574849 ,  1.5034331 ,\n",
       "        2.2360559 , -0.04190069,  2.226734  ,  2.5584097 ,  0.14936385,\n",
       "        1.7567486 ,  0.54969114, -1.3936006 ,  0.968038  , -1.7730962 ,\n",
       "        1.8033195 ,  1.8217238 , -1.9550897 ,  1.2229034 ,  1.7148391 ,\n",
       "       -0.7120829 ,  0.32902038,  0.42661044, -0.62852114, -0.75207543,\n",
       "       -1.6307164 , -2.151161  ,  2.284662  ,  1.2705616 ,  0.00746532,\n",
       "       -1.9569099 ,  0.07625232, -2.5674012 ,  2.9723206 , -1.8706608 ,\n",
       "       -2.7114344 ,  0.17093539,  3.4249358 , -0.04779558,  0.2367385 ,\n",
       "        0.10510125, -1.7217877 , -0.5004947 ,  0.9305454 , -0.8688629 ,\n",
       "       -0.88802457, -0.23268934, -0.4161086 ,  1.6836456 ,  1.3967623 ,\n",
       "        0.5861994 , -2.1136868 ,  0.7345955 ,  0.99242574,  0.7588139 ,\n",
       "        1.6683776 ,  1.6559289 , -0.27353564,  0.35608262, -2.4134712 ,\n",
       "        0.90339285,  2.6199045 , -0.16128859, -0.8280575 , -1.4611218 ,\n",
       "       -0.5020719 , -1.1040918 , -0.31650516,  1.2696499 , -2.2729254 ,\n",
       "       -2.4690557 , -1.7175869 , -0.7756811 ,  0.37679663, -0.87007844,\n",
       "        1.2456645 , -1.4370115 ,  2.4415157 ,  0.5791718 ,  1.6353687 ,\n",
       "       -0.05337109, -0.07689505,  0.17290391, -1.7206032 , -1.1583724 ,\n",
       "       -1.1183559 ,  0.5959841 ,  0.2650194 , -1.2352189 , -0.8356905 ,\n",
       "        0.41681492, -1.5337602 , -0.01347856,  0.32388604,  1.2607893 ,\n",
       "       -0.770973  , -1.6066139 ,  0.7614073 , -0.05111526,  1.5788051 ,\n",
       "        0.8644312 , -2.4053948 ,  0.6629868 ,  0.61016726,  0.3885546 ,\n",
       "        1.0290955 , -1.1661177 , -0.35419014, -0.10910565,  3.261081  ,\n",
       "       -0.6120047 , -2.5849721 ,  0.6663683 , -0.2258891 , -1.5580955 ,\n",
       "        0.85783315,  1.1930834 , -1.1664501 ,  1.1278821 ,  0.552811  ,\n",
       "        2.3454025 , -0.87811685, -2.1107008 ,  0.81250787, -0.00505598,\n",
       "       -1.0730528 ,  3.156778  , -0.81582457,  1.6114384 , -1.9425502 ,\n",
       "       -0.35034338,  1.4881387 ,  1.6600652 ,  1.0179559 , -0.22895204,\n",
       "        1.7120979 , -0.7382269 , -1.0071543 , -0.01368497,  2.1060026 ,\n",
       "        1.5543667 , -1.6719917 ,  0.9380239 , -0.48096716, -0.6815036 ,\n",
       "       -0.37331855, -0.68843466,  1.2468321 , -0.2386876 , -0.40027678,\n",
       "        1.8299202 , -2.2143614 , -0.998667  , -0.9722763 ,  1.8823667 ,\n",
       "        0.9923334 , -2.3365242 , -3.0318527 , -0.4003658 ,  0.35629147,\n",
       "       -2.0343032 ,  2.7217863 , -0.82264066, -0.9872501 ,  0.30957052,\n",
       "        0.07190169,  1.3267883 ,  3.5589814 ,  1.4545697 ,  0.46565592,\n",
       "       -1.1369226 , -0.42930308,  1.60853   , -1.4851944 , -0.29773235,\n",
       "       -0.624352  ,  0.36454523,  1.0720371 , -1.018419  ,  1.5703342 ,\n",
       "       -0.22247353,  1.6264728 , -1.1932282 ,  0.15439874,  1.4554257 ,\n",
       "        1.3057917 ,  0.21490231,  1.4486022 , -0.20011364,  1.4525177 ,\n",
       "       -1.3666843 ,  0.3870635 ,  1.8948132 , -0.20184518, -1.2039596 ,\n",
       "       -0.511008  , -1.4417516 , -0.34745532,  0.2027864 , -1.332662  ,\n",
       "       -0.03799459,  0.6281708 , -1.4353336 , -1.9335147 , -0.8100008 ],\n",
       "      dtype=float32)"
      ]
     },
     "execution_count": 36,
     "metadata": {},
     "output_type": "execute_result"
    }
   ],
   "source": [
    "X_train[0]"
   ]
  },
  {
   "cell_type": "code",
   "execution_count": 37,
   "id": "20b9b2a0",
   "metadata": {},
   "outputs": [
    {
     "data": {
      "text/plain": [
       "array([-1.6129826e+00,  3.5974401e-01, -1.5279915e+00,  9.8656183e-01,\n",
       "        3.9608943e+00, -3.9014500e-01,  9.0684134e-01,  3.2379608e+00,\n",
       "       -1.5596658e+00, -5.9574264e-01,  5.4132471e+00,  1.1384041e+00,\n",
       "       -4.3412108e+00,  1.6103960e+00,  1.2325590e+00,  1.0987558e+00,\n",
       "        1.7252977e+00,  5.1287615e-01, -7.6056671e-01, -1.8450770e+00,\n",
       "        2.3989406e-01,  1.9439369e-01, -4.9562806e-01, -1.5488654e-01,\n",
       "       -6.1692488e-01, -1.4273847e+00, -2.3916268e+00, -1.6482418e+00,\n",
       "       -8.1044984e-01,  1.4379320e+00,  3.9494255e-01, -1.0965869e+00,\n",
       "       -6.0291708e-01, -1.2063323e+00, -1.6223649e+00, -6.1752617e-01,\n",
       "        6.5509790e-01,  1.5297965e+00,  1.6739434e+00,  8.4059441e-01,\n",
       "        1.2178181e+00, -1.0812914e+00, -8.3276212e-02,  4.0604895e-01,\n",
       "       -1.9287207e+00,  2.1380622e+00,  1.4113308e+00, -1.2917514e+00,\n",
       "       -9.4705057e-01, -2.1855947e-02, -5.2126064e-03,  1.1391947e+00,\n",
       "       -4.6402788e-01, -3.2397373e+00, -1.2060776e+00,  6.2647069e-01,\n",
       "       -5.9663939e-01,  1.1627965e+00,  4.5708051e-01, -5.5771545e-02,\n",
       "        8.0939192e-01, -9.3520260e-01, -9.2778653e-01, -1.0489216e+00,\n",
       "        1.3673983e+00,  1.1715574e+00, -2.9652970e+00, -3.3498399e+00,\n",
       "        7.8045249e-01,  1.8544476e+00, -8.9507443e-01, -1.8447261e-01,\n",
       "       -1.9128479e+00,  2.7402994e-01, -4.1415676e-01,  1.1088816e+00,\n",
       "       -2.2725818e+00,  8.0146462e-01, -1.9687501e+00,  4.8217186e-01,\n",
       "       -3.1892250e+00, -7.9940391e-01, -2.1743904e-01,  4.6976185e-01,\n",
       "        1.5198755e+00, -7.1214557e-01, -4.4220686e-01, -1.7961689e+00,\n",
       "        5.9179771e-01,  5.2169269e-01, -9.9826145e-01,  1.3653040e+00,\n",
       "        1.6220046e+00, -2.7887259e+00,  4.2786235e-01, -1.3829007e+00,\n",
       "        1.4877329e+00, -2.9490861e-01, -1.5025264e-01,  8.9038414e-01,\n",
       "        8.9453518e-01,  1.5112044e-01,  2.3107653e+00,  2.8283968e+00,\n",
       "        1.4135747e-01,  3.6073680e+00, -3.1171313e-01, -1.9690264e+00,\n",
       "       -4.0243593e-01, -2.0157778e+00,  1.3517491e+00,  4.0186942e-01,\n",
       "       -1.2699912e+00,  4.8345610e-01,  3.4975532e-01,  6.3057381e-01,\n",
       "       -7.1286273e-01, -1.3170780e-01,  7.5660783e-01, -1.0558302e+00,\n",
       "       -1.8139634e+00, -1.7630844e+00,  7.6855665e-01,  1.0064826e+00,\n",
       "       -4.1174045e-01, -2.7664521e+00,  3.7149107e-01, -2.5498106e+00,\n",
       "        3.0602081e+00, -6.6248238e-01, -3.3178985e+00,  3.8289896e-01,\n",
       "        3.9576721e+00, -1.4764576e-01, -6.0914701e-01,  1.7197886e-02,\n",
       "       -1.3656238e+00, -2.1649084e+00,  1.7470589e+00, -9.5365143e-01,\n",
       "       -3.8330796e-01, -5.4463536e-01,  2.5825715e-02,  5.3423941e-01,\n",
       "        1.4368147e+00,  2.8091070e-01, -2.3666525e+00,  1.1614703e-01,\n",
       "        1.6208723e+00,  1.4595182e+00, -7.4668699e-03,  1.5944977e+00,\n",
       "       -9.1060169e-02,  5.1489615e-01, -3.6709523e-01,  5.4577065e-01,\n",
       "        2.6489148e+00,  5.0525833e-02, -6.5398329e-01, -1.4910690e+00,\n",
       "       -5.0795841e-01, -9.2862880e-01,  9.1751426e-01,  1.4987319e+00,\n",
       "       -1.4744362e+00, -1.1712230e+00, -3.0818737e+00,  6.1459184e-01,\n",
       "        8.2042319e-01,  3.6977816e-01,  3.2171032e-01, -4.2621726e-01,\n",
       "        1.6901665e+00,  1.1528825e-01,  9.6261400e-01,  2.1509182e-01,\n",
       "        4.1231993e-01,  1.3721202e-01, -2.1070220e+00, -1.6927209e+00,\n",
       "       -1.1221443e+00,  5.1399392e-01,  1.0476674e+00, -2.2267520e+00,\n",
       "       -1.9452798e+00,  6.5999873e-02, -1.8096538e+00, -6.0220015e-01,\n",
       "       -3.7267470e-01,  1.3220032e+00, -1.8586222e-02, -7.4679047e-01,\n",
       "       -3.0486947e-01, -1.5692023e+00,  8.8266259e-01,  6.8792582e-01,\n",
       "       -1.9080089e+00, -1.0787823e-01,  9.0479571e-01, -1.0947982e+00,\n",
       "       -9.3649751e-01, -1.5756269e+00, -5.9580499e-01, -1.7766368e+00,\n",
       "        1.6619409e+00,  4.5103031e-01, -4.4463673e+00,  2.4866881e+00,\n",
       "        9.5049638e-01, -1.1801839e+00,  1.3632798e+00,  1.1495500e+00,\n",
       "       -6.9161564e-01,  1.0306423e+00, -1.6259316e-01,  1.9099909e+00,\n",
       "        7.5099683e-01, -3.2505136e+00, -1.1693506e+00,  3.8929567e-01,\n",
       "       -1.3755121e+00,  1.6224637e+00, -6.6750324e-01, -7.7245183e-02,\n",
       "       -6.9462407e-01, -1.8759402e+00,  1.5879843e-01,  1.8045174e+00,\n",
       "        2.1914945e+00, -1.7458071e-01,  8.8950157e-01, -2.1372766e+00,\n",
       "        5.9055132e-01,  1.0325140e+00,  1.5513591e+00,  9.6569705e-01,\n",
       "       -1.1441495e+00,  6.9968593e-01,  3.3477402e-01,  8.2262003e-01,\n",
       "       -6.0451967e-01, -9.0939569e-01,  1.0974621e+00,  3.1256369e-01,\n",
       "       -8.9879519e-01,  2.0462520e-01, -2.6067011e+00,  4.9137336e-01,\n",
       "       -7.4975652e-01,  1.1966735e+00,  7.6069772e-01, -1.1431214e+00,\n",
       "       -4.1412921e+00, -8.9288294e-01,  7.2328049e-01, -2.4973078e+00,\n",
       "        2.1616898e+00,  4.9117854e-01,  3.3186623e-01, -1.4809141e-01,\n",
       "       -9.9045587e-01,  4.1506233e+00,  2.2888472e+00,  2.1332598e+00,\n",
       "        1.2887169e+00, -7.6242882e-01, -4.6619782e-01,  9.7352844e-01,\n",
       "       -2.4717164e+00, -3.3295810e-01,  9.6420372e-01, -9.0564686e-01,\n",
       "        6.7043483e-01, -7.1555197e-01, -5.1610656e-02, -4.8104906e-01,\n",
       "        8.7272304e-01, -3.9124170e-01, -3.4364989e-01,  1.2437203e+00,\n",
       "        1.4506035e+00, -5.0574553e-01,  6.6228914e-01,  7.8389055e-01,\n",
       "        2.4502778e+00, -8.9056021e-01, -4.4880500e-01,  8.4218478e-01,\n",
       "       -8.5300058e-01,  3.5063308e-01, -6.2403798e-01,  1.3097896e-02,\n",
       "        9.2553389e-01, -1.2110056e-01, -1.0816741e+00,  9.9104780e-01,\n",
       "        1.3053702e-01, -1.2222221e+00, -1.8089230e+00,  2.2479674e-01],\n",
       "      dtype=float32)"
      ]
     },
     "execution_count": 37,
     "metadata": {},
     "output_type": "execute_result"
    }
   ],
   "source": [
    "X_test[3]"
   ]
  },
  {
   "cell_type": "code",
   "execution_count": 33,
   "id": "88036a74",
   "metadata": {},
   "outputs": [
    {
     "name": "stdout",
     "output_type": "stream",
     "text": [
      "              precision    recall  f1-score   support\n",
      "\n",
      "           0       0.70      0.57      0.63      5955\n",
      "           1       0.80      0.91      0.85      4330\n",
      "           2       0.64      0.64      0.64      4813\n",
      "           3       0.75      0.84      0.79      4215\n",
      "\n",
      "    accuracy                           0.72     19313\n",
      "   macro avg       0.72      0.74      0.73     19313\n",
      "weighted avg       0.72      0.72      0.72     19313\n",
      "\n"
     ]
    }
   ],
   "source": [
    "clf= Pipeline([\n",
    "    (\"scaler\", MinMaxScaler()),\n",
    "    (\"model\", MultinomialNB())\n",
    "])\n",
    "\n",
    "clf.fit(X_train, y_train)\n",
    "y_pred= clf.predict(X_test)\n",
    "print(classification_report(y_pred, y_test))"
   ]
  },
  {
   "cell_type": "code",
   "execution_count": 34,
   "id": "1b41482c",
   "metadata": {},
   "outputs": [
    {
     "name": "stdout",
     "output_type": "stream",
     "text": [
      "              precision    recall  f1-score   support\n",
      "\n",
      "           0       0.84      0.94      0.89      4320\n",
      "           1       0.96      0.98      0.97      4874\n",
      "           2       0.96      0.91      0.94      5105\n",
      "           3       0.99      0.92      0.95      5014\n",
      "\n",
      "    accuracy                           0.94     19313\n",
      "   macro avg       0.94      0.94      0.94     19313\n",
      "weighted avg       0.94      0.94      0.94     19313\n",
      "\n"
     ]
    }
   ],
   "source": [
    "clf2= Pipeline([\n",
    "    (\"scaler\", MinMaxScaler()),\n",
    "    (\"model\", KNeighborsClassifier(n_neighbors=5, metric=\"euclidean\"))\n",
    "])\n",
    "\n",
    "clf2.fit(X_train, y_train)\n",
    "y_pred2= clf2.predict(X_test)\n",
    "print(classification_report(y_pred2, y_test))"
   ]
  },
  {
   "cell_type": "code",
   "execution_count": 38,
   "id": "903fae9e",
   "metadata": {},
   "outputs": [
    {
     "name": "stdout",
     "output_type": "stream",
     "text": [
      "              precision    recall  f1-score   support\n",
      "\n",
      "           0       0.84      0.94      0.89      4320\n",
      "           1       0.96      0.98      0.97      4874\n",
      "           2       0.96      0.91      0.94      5105\n",
      "           3       0.99      0.92      0.95      5014\n",
      "\n",
      "    accuracy                           0.94     19313\n",
      "   macro avg       0.94      0.94      0.94     19313\n",
      "weighted avg       0.94      0.94      0.94     19313\n",
      "\n"
     ]
    }
   ],
   "source": [
    "clf4= Pipeline([\n",
    "    (\"scaler\", MinMaxScaler()),\n",
    "    (\"model\", KNeighborsClassifier())\n",
    "])\n",
    "\n",
    "clf4.fit(X_train, y_train)\n",
    "y_pred4= clf4.predict(X_test)\n",
    "print(classification_report(y_pred4, y_test))"
   ]
  },
  {
   "cell_type": "code",
   "execution_count": 35,
   "id": "cf34fccb",
   "metadata": {},
   "outputs": [
    {
     "name": "stdout",
     "output_type": "stream",
     "text": [
      "              precision    recall  f1-score   support\n",
      "\n",
      "           0       0.97      0.94      0.96      5011\n",
      "           1       0.97      0.99      0.98      4909\n",
      "           2       0.97      0.98      0.98      4726\n",
      "           3       0.98      0.98      0.98      4667\n",
      "\n",
      "    accuracy                           0.97     19313\n",
      "   macro avg       0.97      0.97      0.97     19313\n",
      "weighted avg       0.97      0.97      0.97     19313\n",
      "\n"
     ]
    }
   ],
   "source": [
    "clf3= Pipeline([\n",
    "    (\"scaler\", MinMaxScaler()),\n",
    "    (\"model\", RandomForestClassifier())\n",
    "])\n",
    "\n",
    "clf3.fit(X_train, y_train)\n",
    "y_pred3= clf3.predict(X_test)\n",
    "print(classification_report(y_pred3, y_test))"
   ]
  },
  {
   "cell_type": "code",
   "execution_count": null,
   "id": "42dadb35",
   "metadata": {},
   "outputs": [],
   "source": []
  }
 ],
 "metadata": {
  "kernelspec": {
   "display_name": "Python 3 (ipykernel)",
   "language": "python",
   "name": "python3"
  },
  "language_info": {
   "codemirror_mode": {
    "name": "ipython",
    "version": 3
   },
   "file_extension": ".py",
   "mimetype": "text/x-python",
   "name": "python",
   "nbconvert_exporter": "python",
   "pygments_lexer": "ipython3",
   "version": "3.11.5"
  }
 },
 "nbformat": 4,
 "nbformat_minor": 5
}
