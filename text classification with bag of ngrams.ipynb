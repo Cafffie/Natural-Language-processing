{
 "cells": [
  {
   "cell_type": "code",
   "execution_count": 28,
   "id": "b194fedd",
   "metadata": {},
   "outputs": [],
   "source": [
    "#pip install spacy\n",
    "#pip install -U imbalanced-learn\n",
    "#!python -m spacy download en\n",
    "#!python -m spacy download en_core_web_lg"
   ]
  },
  {
   "cell_type": "code",
   "execution_count": 22,
   "id": "885d6410",
   "metadata": {},
   "outputs": [],
   "source": [
    "import pandas as pd\n",
    "import numpy as np\n",
    "\n",
    "from sklearn.feature_extraction.text import CountVectorizer\n",
    "from sklearn.feature_extraction.text import TfidfVectorizer\n",
    "\n",
    "from sklearn.naive_bayes import MultinomialNB\n",
    "from sklearn.neighbors import KNeighborsClassifier\n",
    "from sklearn.ensemble import RandomForestClassifier\n",
    "from sklearn.ensemble import GradientBoostingClassifier\n",
    "\n",
    "from sklearn.pipeline import Pipeline\n",
    "from sklearn.metrics import classification_report, accuracy_score\n",
    "from sklearn.model_selection import train_test_split\n",
    "from imblearn.over_sampling import SMOTE\n",
    "\n",
    "import spacy"
   ]
  },
  {
   "cell_type": "code",
   "execution_count": 2,
   "id": "f6e07615",
   "metadata": {},
   "outputs": [
    {
     "data": {
      "text/plain": [
       "'Household,\"Paper Plane Design Framed Wall Hanging Motivational Office Decor Art Prints (8.7 X 8.7 inch) - Set of 4 Painting made up in synthetic frame with uv textured print which gives multi effects and attracts towards it. This is an special series of paintings which makes your wall very beautiful and gives a royal touch. This painting is ready to hang, you would be proud to possess this unique painting that is a niche apart. We use only the most modern and efficient printing technology on our prints, with only the and inks and precision epson, roland and hp printers. This innovative hd printing technique results in durable and spectacular looking prints of the highest that last a lifetime. We print solely with top-notch 100% inks, to achieve brilliant and true colours. Due to their high level of uv resistance, our prints retain their beautiful colours for many years. Add colour and style to your living space with this digitally printed painting. Some are for pleasure and some for eternal bliss.so bring home this elegant print that is lushed with rich colors that makes it nothing but sheer elegance to be to your friends and family.it would be treasured forever by whoever your lucky recipient is. Liven up your place with these intriguing paintings that are high definition hd graphic digital prints for home, office or any room.\"\\n'"
      ]
     },
     "execution_count": 2,
     "metadata": {},
     "output_type": "execute_result"
    }
   ],
   "source": [
    "path= (\"C:/Users/Open user/Downloads/archive/ecommerceDataset.csv\")\n",
    "open(path).readline()"
   ]
  },
  {
   "cell_type": "code",
   "execution_count": 3,
   "id": "810a7b2a",
   "metadata": {},
   "outputs": [
    {
     "data": {
      "text/html": [
       "<div>\n",
       "<style scoped>\n",
       "    .dataframe tbody tr th:only-of-type {\n",
       "        vertical-align: middle;\n",
       "    }\n",
       "\n",
       "    .dataframe tbody tr th {\n",
       "        vertical-align: top;\n",
       "    }\n",
       "\n",
       "    .dataframe thead th {\n",
       "        text-align: right;\n",
       "    }\n",
       "</style>\n",
       "<table border=\"1\" class=\"dataframe\">\n",
       "  <thead>\n",
       "    <tr style=\"text-align: right;\">\n",
       "      <th></th>\n",
       "      <th>category</th>\n",
       "      <th>text</th>\n",
       "    </tr>\n",
       "  </thead>\n",
       "  <tbody>\n",
       "    <tr>\n",
       "      <th>0</th>\n",
       "      <td>Household</td>\n",
       "      <td>Paper Plane Design Framed Wall Hanging Motivat...</td>\n",
       "    </tr>\n",
       "    <tr>\n",
       "      <th>1</th>\n",
       "      <td>Household</td>\n",
       "      <td>SAF 'Floral' Framed Painting (Wood, 30 inch x ...</td>\n",
       "    </tr>\n",
       "    <tr>\n",
       "      <th>2</th>\n",
       "      <td>Household</td>\n",
       "      <td>SAF 'UV Textured Modern Art Print Framed' Pain...</td>\n",
       "    </tr>\n",
       "  </tbody>\n",
       "</table>\n",
       "</div>"
      ],
      "text/plain": [
       "    category                                               text\n",
       "0  Household  Paper Plane Design Framed Wall Hanging Motivat...\n",
       "1  Household  SAF 'Floral' Framed Painting (Wood, 30 inch x ...\n",
       "2  Household  SAF 'UV Textured Modern Art Print Framed' Pain..."
      ]
     },
     "execution_count": 3,
     "metadata": {},
     "output_type": "execute_result"
    }
   ],
   "source": [
    "#Reading the file\n",
    "ecommerce_data= pd.read_csv(\"C:/Users/Open user/Documents/ecommerceDataset.csv\", names=['category', 'text'])\n",
    "ecommerce_data[:3]"
   ]
  },
  {
   "cell_type": "code",
   "execution_count": 4,
   "id": "7031d4cc",
   "metadata": {},
   "outputs": [
    {
     "data": {
      "text/plain": [
       "(50425, 2)"
      ]
     },
     "execution_count": 4,
     "metadata": {},
     "output_type": "execute_result"
    }
   ],
   "source": [
    "ecommerce_data.shape"
   ]
  },
  {
   "cell_type": "code",
   "execution_count": 5,
   "id": "2d64e316",
   "metadata": {},
   "outputs": [
    {
     "name": "stdout",
     "output_type": "stream",
     "text": [
      "<class 'pandas.core.frame.DataFrame'>\n",
      "RangeIndex: 50425 entries, 0 to 50424\n",
      "Data columns (total 2 columns):\n",
      " #   Column    Non-Null Count  Dtype \n",
      "---  ------    --------------  ----- \n",
      " 0   category  50425 non-null  object\n",
      " 1   text      50424 non-null  object\n",
      "dtypes: object(2)\n",
      "memory usage: 788.0+ KB\n"
     ]
    }
   ],
   "source": [
    "#Checking the data set information\n",
    "ecommerce_data.info()"
   ]
  },
  {
   "cell_type": "code",
   "execution_count": 6,
   "id": "31959093",
   "metadata": {},
   "outputs": [
    {
     "data": {
      "text/plain": [
       "category    0\n",
       "text        1\n",
       "dtype: int64"
      ]
     },
     "execution_count": 6,
     "metadata": {},
     "output_type": "execute_result"
    }
   ],
   "source": [
    "#Checking for missing values\n",
    "ecommerce_data.isnull().sum()"
   ]
  },
  {
   "cell_type": "code",
   "execution_count": 7,
   "id": "f549aa55",
   "metadata": {},
   "outputs": [
    {
     "data": {
      "text/html": [
       "<div>\n",
       "<style scoped>\n",
       "    .dataframe tbody tr th:only-of-type {\n",
       "        vertical-align: middle;\n",
       "    }\n",
       "\n",
       "    .dataframe tbody tr th {\n",
       "        vertical-align: top;\n",
       "    }\n",
       "\n",
       "    .dataframe thead th {\n",
       "        text-align: right;\n",
       "    }\n",
       "</style>\n",
       "<table border=\"1\" class=\"dataframe\">\n",
       "  <thead>\n",
       "    <tr style=\"text-align: right;\">\n",
       "      <th></th>\n",
       "      <th>category</th>\n",
       "      <th>text</th>\n",
       "    </tr>\n",
       "  </thead>\n",
       "  <tbody>\n",
       "    <tr>\n",
       "      <th>39330</th>\n",
       "      <td>Clothing &amp; Accessories</td>\n",
       "      <td>NaN</td>\n",
       "    </tr>\n",
       "  </tbody>\n",
       "</table>\n",
       "</div>"
      ],
      "text/plain": [
       "                     category text\n",
       "39330  Clothing & Accessories  NaN"
      ]
     },
     "execution_count": 7,
     "metadata": {},
     "output_type": "execute_result"
    }
   ],
   "source": [
    "#viewing the missing value\n",
    "ecommerce_data[ecommerce_data.text.isnull()]"
   ]
  },
  {
   "cell_type": "code",
   "execution_count": 8,
   "id": "5dad7b86",
   "metadata": {},
   "outputs": [],
   "source": [
    "#Dropping the missing value\n",
    "ecommerce_data.dropna(inplace=True)"
   ]
  },
  {
   "cell_type": "code",
   "execution_count": 9,
   "id": "688e966f",
   "metadata": {},
   "outputs": [
    {
     "data": {
      "text/plain": [
       "category    0\n",
       "text        0\n",
       "dtype: int64"
      ]
     },
     "execution_count": 9,
     "metadata": {},
     "output_type": "execute_result"
    }
   ],
   "source": [
    "#Rechecking the dataset to confirm that the missing value has been droppedfor missing \n",
    "ecommerce_data.isnull().sum()"
   ]
  },
  {
   "cell_type": "code",
   "execution_count": 10,
   "id": "a853d3fe",
   "metadata": {},
   "outputs": [
    {
     "data": {
      "text/plain": [
       "category\n",
       "Household                 19313\n",
       "Books                     11820\n",
       "Electronics               10621\n",
       "Clothing & Accessories     8670\n",
       "Name: count, dtype: int64"
      ]
     },
     "execution_count": 10,
     "metadata": {},
     "output_type": "execute_result"
    }
   ],
   "source": [
    "ecommerce_data.category.value_counts()"
   ]
  },
  {
   "cell_type": "code",
   "execution_count": 11,
   "id": "a93a2fc2",
   "metadata": {},
   "outputs": [],
   "source": [
    "#Encoding the target variable\n",
    "ecommerce_data[\"category_label\"] = ecommerce_data.category.map({\n",
    "    \"Household\": 0,\n",
    "    \"Books\": 1,\n",
    "    \"Electronics\": 2,\n",
    "    \"Clothing & Accessories\": 3\n",
    "})"
   ]
  },
  {
   "cell_type": "code",
   "execution_count": 12,
   "id": "790c8b96",
   "metadata": {},
   "outputs": [
    {
     "data": {
      "text/plain": [
       "array([0, 1, 3, 2], dtype=int64)"
      ]
     },
     "execution_count": 12,
     "metadata": {},
     "output_type": "execute_result"
    }
   ],
   "source": [
    "ecommerce_data.category_label.unique()"
   ]
  },
  {
   "cell_type": "code",
   "execution_count": 13,
   "id": "48a7700f",
   "metadata": {},
   "outputs": [
    {
     "data": {
      "text/html": [
       "<div>\n",
       "<style scoped>\n",
       "    .dataframe tbody tr th:only-of-type {\n",
       "        vertical-align: middle;\n",
       "    }\n",
       "\n",
       "    .dataframe tbody tr th {\n",
       "        vertical-align: top;\n",
       "    }\n",
       "\n",
       "    .dataframe thead th {\n",
       "        text-align: right;\n",
       "    }\n",
       "</style>\n",
       "<table border=\"1\" class=\"dataframe\">\n",
       "  <thead>\n",
       "    <tr style=\"text-align: right;\">\n",
       "      <th></th>\n",
       "      <th>category</th>\n",
       "      <th>text</th>\n",
       "      <th>category_label</th>\n",
       "    </tr>\n",
       "  </thead>\n",
       "  <tbody>\n",
       "    <tr>\n",
       "      <th>0</th>\n",
       "      <td>Household</td>\n",
       "      <td>Paper Plane Design Framed Wall Hanging Motivat...</td>\n",
       "      <td>0</td>\n",
       "    </tr>\n",
       "    <tr>\n",
       "      <th>1</th>\n",
       "      <td>Household</td>\n",
       "      <td>SAF 'Floral' Framed Painting (Wood, 30 inch x ...</td>\n",
       "      <td>0</td>\n",
       "    </tr>\n",
       "    <tr>\n",
       "      <th>2</th>\n",
       "      <td>Household</td>\n",
       "      <td>SAF 'UV Textured Modern Art Print Framed' Pain...</td>\n",
       "      <td>0</td>\n",
       "    </tr>\n",
       "    <tr>\n",
       "      <th>3</th>\n",
       "      <td>Household</td>\n",
       "      <td>SAF Flower Print Framed Painting (Synthetic, 1...</td>\n",
       "      <td>0</td>\n",
       "    </tr>\n",
       "    <tr>\n",
       "      <th>4</th>\n",
       "      <td>Household</td>\n",
       "      <td>Incredible Gifts India Wooden Happy Birthday U...</td>\n",
       "      <td>0</td>\n",
       "    </tr>\n",
       "  </tbody>\n",
       "</table>\n",
       "</div>"
      ],
      "text/plain": [
       "    category                                               text  \\\n",
       "0  Household  Paper Plane Design Framed Wall Hanging Motivat...   \n",
       "1  Household  SAF 'Floral' Framed Painting (Wood, 30 inch x ...   \n",
       "2  Household  SAF 'UV Textured Modern Art Print Framed' Pain...   \n",
       "3  Household  SAF Flower Print Framed Painting (Synthetic, 1...   \n",
       "4  Household  Incredible Gifts India Wooden Happy Birthday U...   \n",
       "\n",
       "   category_label  \n",
       "0               0  \n",
       "1               0  \n",
       "2               0  \n",
       "3               0  \n",
       "4               0  "
      ]
     },
     "execution_count": 13,
     "metadata": {},
     "output_type": "execute_result"
    }
   ],
   "source": [
    "ecommerce_data[:5]"
   ]
  },
  {
   "cell_type": "code",
   "execution_count": 14,
   "id": "c30cdf7a",
   "metadata": {},
   "outputs": [],
   "source": [
    "#splitting the data into train and test set\n",
    "X_train, X_test, y_train, y_test= train_test_split(\n",
    "    ecommerce_data.text,\n",
    "    ecommerce_data.category_label,\n",
    "    test_size= 0.25,\n",
    "    random_state= 2022,\n",
    "    stratify= ecommerce_data.category_label\n",
    ")"
   ]
  },
  {
   "cell_type": "code",
   "execution_count": 15,
   "id": "e7aff3ef",
   "metadata": {},
   "outputs": [
    {
     "data": {
      "text/plain": [
       "43762    DOMO nHance CM230B Anaglyph Passive Cyan and M...\n",
       "30292    Bihar Diaries: The True Story of How Bihar's M...\n",
       "8537     Generic 12-Watt Round LED Surface Panel Light ...\n",
       "43713    REES52 12v 1.3Ah SMF/VRLA Battery Batteries ar...\n",
       "36105    Royal Export Women's Georgette Long Party Wear...\n",
       "Name: text, dtype: object"
      ]
     },
     "execution_count": 15,
     "metadata": {},
     "output_type": "execute_result"
    }
   ],
   "source": [
    "X_train[:5]"
   ]
  },
  {
   "cell_type": "code",
   "execution_count": 16,
   "id": "f101692a",
   "metadata": {},
   "outputs": [
    {
     "data": {
      "text/plain": [
       "43762    2\n",
       "30292    1\n",
       "8537     0\n",
       "43713    2\n",
       "36105    3\n",
       "Name: category_label, dtype: int64"
      ]
     },
     "execution_count": 16,
     "metadata": {},
     "output_type": "execute_result"
    }
   ],
   "source": [
    "y_train[:5]"
   ]
  },
  {
   "cell_type": "code",
   "execution_count": 17,
   "id": "2ea9e6ab",
   "metadata": {},
   "outputs": [
    {
     "data": {
      "text/plain": [
       "category_label\n",
       "0    14485\n",
       "1     8865\n",
       "2     7966\n",
       "3     6502\n",
       "Name: count, dtype: int64"
      ]
     },
     "execution_count": 17,
     "metadata": {},
     "output_type": "execute_result"
    }
   ],
   "source": [
    "y_train.value_counts()"
   ]
  },
  {
   "cell_type": "code",
   "execution_count": null,
   "id": "abe33fb1",
   "metadata": {},
   "outputs": [],
   "source": [
    "#Naive baye"
   ]
  },
  {
   "cell_type": "code",
   "execution_count": 18,
   "id": "d9eb08e0",
   "metadata": {},
   "outputs": [
    {
     "name": "stdout",
     "output_type": "stream",
     "text": [
      "              precision    recall  f1-score   support\n",
      "\n",
      "           0       0.95      0.98      0.96      4828\n",
      "           1       0.98      0.94      0.96      2955\n",
      "           2       0.96      0.95      0.96      2655\n",
      "           3       0.97      0.98      0.97      2168\n",
      "\n",
      "    accuracy                           0.96     12606\n",
      "   macro avg       0.97      0.96      0.96     12606\n",
      "weighted avg       0.96      0.96      0.96     12606\n",
      "\n"
     ]
    }
   ],
   "source": [
    "nb= Pipeline([\n",
    "    (\"vectorizer\", CountVectorizer(ngram_range=(1,2))),\n",
    "    (\"Multi NB\", MultinomialNB())\n",
    "])\n",
    "nb.fit(X_train, y_train)\n",
    "y_pred= nb.predict(X_test)\n",
    "print(classification_report(y_test, y_pred))"
   ]
  },
  {
   "cell_type": "markdown",
   "id": "426a4e8f",
   "metadata": {},
   "source": [
    "# Random Forest"
   ]
  },
  {
   "cell_type": "code",
   "execution_count": 19,
   "id": "3e6af4f4",
   "metadata": {},
   "outputs": [
    {
     "name": "stdout",
     "output_type": "stream",
     "text": [
      "              precision    recall  f1-score   support\n",
      "\n",
      "           0       0.94      0.98      0.96      4828\n",
      "           1       0.97      0.98      0.97      2955\n",
      "           2       0.98      0.92      0.95      2655\n",
      "           3       0.99      0.96      0.97      2168\n",
      "\n",
      "    accuracy                           0.96     12606\n",
      "   macro avg       0.97      0.96      0.97     12606\n",
      "weighted avg       0.97      0.96      0.96     12606\n",
      "\n"
     ]
    }
   ],
   "source": [
    "rf= Pipeline([\n",
    "    (\"vectorizer\", CountVectorizer(ngram_range=(1,2))),\n",
    "    (\"Model\", RandomForestClassifier())\n",
    "])\n",
    "rf.fit(X_train, y_train)\n",
    "y_pred2=rf.predict(X_test)\n",
    "print(classification_report(y_test, y_pred2))"
   ]
  },
  {
   "cell_type": "code",
   "execution_count": 29,
   "id": "0aa3a437",
   "metadata": {},
   "outputs": [
    {
     "data": {
      "text/html": [
       "<div>\n",
       "<style scoped>\n",
       "    .dataframe tbody tr th:only-of-type {\n",
       "        vertical-align: middle;\n",
       "    }\n",
       "\n",
       "    .dataframe tbody tr th {\n",
       "        vertical-align: top;\n",
       "    }\n",
       "\n",
       "    .dataframe thead th {\n",
       "        text-align: right;\n",
       "    }\n",
       "</style>\n",
       "<table border=\"1\" class=\"dataframe\">\n",
       "  <thead>\n",
       "    <tr style=\"text-align: right;\">\n",
       "      <th></th>\n",
       "      <th>models</th>\n",
       "      <th>Accuracy</th>\n",
       "    </tr>\n",
       "  </thead>\n",
       "  <tbody>\n",
       "    <tr>\n",
       "      <th>1</th>\n",
       "      <td>Random Forest</td>\n",
       "      <td>0.964779</td>\n",
       "    </tr>\n",
       "    <tr>\n",
       "      <th>0</th>\n",
       "      <td>MultinomialNB</td>\n",
       "      <td>0.963271</td>\n",
       "    </tr>\n",
       "  </tbody>\n",
       "</table>\n",
       "</div>"
      ],
      "text/plain": [
       "          models  Accuracy\n",
       "1  Random Forest  0.964779\n",
       "0  MultinomialNB  0.963271"
      ]
     },
     "execution_count": 29,
     "metadata": {},
     "output_type": "execute_result"
    }
   ],
   "source": [
    "un_processed_text_models= pd.DataFrame({\n",
    "    'models': ['MultinomialNB', 'Random Forest'],\n",
    "    'Accuracy':[accuracy_score(y_test, y_pred),\n",
    "               accuracy_score(y_test, y_pred2)]\n",
    "})\n",
    "un_processed_text_models= un_processed_text_models.sort_values(by='Accuracy', ascending=False)\n",
    "un_processed_text_models"
   ]
  },
  {
   "cell_type": "markdown",
   "id": "3daa1a3f",
   "metadata": {},
   "source": [
    "# Using the preprocessed text"
   ]
  },
  {
   "cell_type": "code",
   "execution_count": 23,
   "id": "89a46f0d",
   "metadata": {},
   "outputs": [],
   "source": [
    "#Function to remove stopwords, punctuation and lemmatize\n",
    "nlp= spacy.load(\"en_core_web_sm\")\n",
    "\n",
    "def preprocess_text(text):\n",
    "    doc= nlp(text)\n",
    "    filtered_tokens= []\n",
    "    \n",
    "    for token in doc:\n",
    "        if token.is_stop or token.is_punct:\n",
    "            continue\n",
    "        filtered_tokens.append(token.lemma_)\n",
    "    return \" \".join(filtered_tokens)"
   ]
  },
  {
   "cell_type": "code",
   "execution_count": 24,
   "id": "25738aa8",
   "metadata": {},
   "outputs": [],
   "source": [
    "ecommerce_data[\"preprocessed_text\"]= ecommerce_data.text.apply(preprocess_text)"
   ]
  },
  {
   "cell_type": "code",
   "execution_count": 25,
   "id": "d9ac8f85",
   "metadata": {},
   "outputs": [],
   "source": [
    "X_train, X_test, y_train, y_test= train_test_split(\n",
    "    ecommerce_data.preprocessed_text,\n",
    "    ecommerce_data.category_label,\n",
    "    test_size= 0.25,\n",
    "    random_state= 2022,\n",
    "    stratify= ecommerce_data.category_label\n",
    ")"
   ]
  },
  {
   "cell_type": "code",
   "execution_count": 26,
   "id": "bbcf905c",
   "metadata": {},
   "outputs": [
    {
     "data": {
      "text/html": [
       "<div>\n",
       "<style scoped>\n",
       "    .dataframe tbody tr th:only-of-type {\n",
       "        vertical-align: middle;\n",
       "    }\n",
       "\n",
       "    .dataframe tbody tr th {\n",
       "        vertical-align: top;\n",
       "    }\n",
       "\n",
       "    .dataframe thead th {\n",
       "        text-align: right;\n",
       "    }\n",
       "</style>\n",
       "<table border=\"1\" class=\"dataframe\">\n",
       "  <thead>\n",
       "    <tr style=\"text-align: right;\">\n",
       "      <th></th>\n",
       "      <th>category</th>\n",
       "      <th>text</th>\n",
       "      <th>category_label</th>\n",
       "      <th>preprocessed_text</th>\n",
       "    </tr>\n",
       "  </thead>\n",
       "  <tbody>\n",
       "    <tr>\n",
       "      <th>0</th>\n",
       "      <td>Household</td>\n",
       "      <td>Paper Plane Design Framed Wall Hanging Motivat...</td>\n",
       "      <td>0</td>\n",
       "      <td>Paper Plane Design Framed Wall Hanging Motivat...</td>\n",
       "    </tr>\n",
       "    <tr>\n",
       "      <th>1</th>\n",
       "      <td>Household</td>\n",
       "      <td>SAF 'Floral' Framed Painting (Wood, 30 inch x ...</td>\n",
       "      <td>0</td>\n",
       "      <td>SAF Floral Framed Painting Wood 30 inch x 10 i...</td>\n",
       "    </tr>\n",
       "    <tr>\n",
       "      <th>2</th>\n",
       "      <td>Household</td>\n",
       "      <td>SAF 'UV Textured Modern Art Print Framed' Pain...</td>\n",
       "      <td>0</td>\n",
       "      <td>saf uv texture Modern Art Print Framed Paintin...</td>\n",
       "    </tr>\n",
       "  </tbody>\n",
       "</table>\n",
       "</div>"
      ],
      "text/plain": [
       "    category                                               text  \\\n",
       "0  Household  Paper Plane Design Framed Wall Hanging Motivat...   \n",
       "1  Household  SAF 'Floral' Framed Painting (Wood, 30 inch x ...   \n",
       "2  Household  SAF 'UV Textured Modern Art Print Framed' Pain...   \n",
       "\n",
       "   category_label                                  preprocessed_text  \n",
       "0               0  Paper Plane Design Framed Wall Hanging Motivat...  \n",
       "1               0  SAF Floral Framed Painting Wood 30 inch x 10 i...  \n",
       "2               0  saf uv texture Modern Art Print Framed Paintin...  "
      ]
     },
     "execution_count": 26,
     "metadata": {},
     "output_type": "execute_result"
    }
   ],
   "source": [
    "ecommerce_data[:3]"
   ]
  },
  {
   "cell_type": "code",
   "execution_count": 27,
   "id": "bd383960",
   "metadata": {},
   "outputs": [
    {
     "name": "stdout",
     "output_type": "stream",
     "text": [
      "              precision    recall  f1-score   support\n",
      "\n",
      "           0       0.94      0.96      0.95      4828\n",
      "           1       0.97      0.93      0.95      2955\n",
      "           2       0.94      0.94      0.94      2655\n",
      "           3       0.95      0.98      0.97      2168\n",
      "\n",
      "    accuracy                           0.95     12606\n",
      "   macro avg       0.95      0.95      0.95     12606\n",
      "weighted avg       0.95      0.95      0.95     12606\n",
      "\n"
     ]
    }
   ],
   "source": [
    "nb= Pipeline([\n",
    "    (\"vectorizer\", CountVectorizer()),\n",
    "    (\"Multi NB\", MultinomialNB())\n",
    "])\n",
    "nb.fit(X_train, y_train)\n",
    "y_pred_nb= nb.predict(X_test)\n",
    "print(classification_report(y_test, y_pred_nb))"
   ]
  },
  {
   "cell_type": "code",
   "execution_count": 28,
   "id": "e73abc73",
   "metadata": {},
   "outputs": [
    {
     "name": "stdout",
     "output_type": "stream",
     "text": [
      "              precision    recall  f1-score   support\n",
      "\n",
      "           0       0.96      0.98      0.97      4828\n",
      "           1       0.98      0.98      0.98      2955\n",
      "           2       0.98      0.95      0.96      2655\n",
      "           3       0.99      0.98      0.98      2168\n",
      "\n",
      "    accuracy                           0.97     12606\n",
      "   macro avg       0.98      0.97      0.97     12606\n",
      "weighted avg       0.97      0.97      0.97     12606\n",
      "\n"
     ]
    }
   ],
   "source": [
    "rf2= Pipeline([\n",
    "    (\"vectorizer\", CountVectorizer()),\n",
    "    (\"Model\", RandomForestClassifier())\n",
    "])\n",
    "rf2.fit(X_train, y_train)\n",
    "y_pred_rf=rf2.predict(X_test)\n",
    "print(classification_report(y_test, y_pred_rf))"
   ]
  },
  {
   "cell_type": "code",
   "execution_count": 31,
   "id": "d57c5a15",
   "metadata": {},
   "outputs": [
    {
     "data": {
      "text/html": [
       "<div>\n",
       "<style scoped>\n",
       "    .dataframe tbody tr th:only-of-type {\n",
       "        vertical-align: middle;\n",
       "    }\n",
       "\n",
       "    .dataframe tbody tr th {\n",
       "        vertical-align: top;\n",
       "    }\n",
       "\n",
       "    .dataframe thead th {\n",
       "        text-align: right;\n",
       "    }\n",
       "</style>\n",
       "<table border=\"1\" class=\"dataframe\">\n",
       "  <thead>\n",
       "    <tr style=\"text-align: right;\">\n",
       "      <th></th>\n",
       "      <th>models</th>\n",
       "      <th>Accuracy</th>\n",
       "    </tr>\n",
       "  </thead>\n",
       "  <tbody>\n",
       "    <tr>\n",
       "      <th>1</th>\n",
       "      <td>Random Forest</td>\n",
       "      <td>0.972553</td>\n",
       "    </tr>\n",
       "    <tr>\n",
       "      <th>0</th>\n",
       "      <td>MultinomialNB</td>\n",
       "      <td>0.951531</td>\n",
       "    </tr>\n",
       "  </tbody>\n",
       "</table>\n",
       "</div>"
      ],
      "text/plain": [
       "          models  Accuracy\n",
       "1  Random Forest  0.972553\n",
       "0  MultinomialNB  0.951531"
      ]
     },
     "execution_count": 31,
     "metadata": {},
     "output_type": "execute_result"
    }
   ],
   "source": [
    "processed_text_models= pd.DataFrame({\n",
    "    'models': ['MultinomialNB', 'Random Forest'],\n",
    "    'Accuracy':[accuracy_score(y_test, y_pred_nb),\n",
    "               accuracy_score(y_test, y_pred_rf)]\n",
    "})\n",
    "processed_text_models= processed_text_models.sort_values(by='Accuracy', ascending=False)\n",
    "processed_text_models"
   ]
  },
  {
   "cell_type": "code",
   "execution_count": null,
   "id": "514c457a",
   "metadata": {},
   "outputs": [],
   "source": []
  }
 ],
 "metadata": {
  "kernelspec": {
   "display_name": "Python 3 (ipykernel)",
   "language": "python",
   "name": "python3"
  },
  "language_info": {
   "codemirror_mode": {
    "name": "ipython",
    "version": 3
   },
   "file_extension": ".py",
   "mimetype": "text/x-python",
   "name": "python",
   "nbconvert_exporter": "python",
   "pygments_lexer": "ipython3",
   "version": "3.11.5"
  }
 },
 "nbformat": 4,
 "nbformat_minor": 5
}
