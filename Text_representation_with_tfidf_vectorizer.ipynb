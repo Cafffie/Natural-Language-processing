{
 "cells": [
  {
   "cell_type": "code",
   "execution_count": 32,
   "id": "353e6dae",
   "metadata": {},
   "outputs": [],
   "source": [
    "import pandas as pd\n",
    "import numpy as np\n",
    "\n",
    "from sklearn.feature_extraction.text import CountVectorizer\n",
    "from sklearn.feature_extraction.text import TfidfVectorizer\n",
    "\n",
    "from sklearn.naive_bayes import MultinomialNB\n",
    "from sklearn.neighbors import KNeighborsClassifier\n",
    "from sklearn.ensemble import RandomForestClassifier\n",
    "from sklearn.pipeline import Pipeline\n",
    "from sklearn.metrics import classification_report, accuracy_score\n",
    "\n",
    "from imblearn.over_sampling import SMOTE\n",
    "from sklearn.model_selection import train_test_split\n",
    "\n",
    "import spacy"
   ]
  },
  {
   "cell_type": "code",
   "execution_count": 2,
   "id": "b7fd984c",
   "metadata": {},
   "outputs": [
    {
     "data": {
      "text/html": [
       "<div>\n",
       "<style scoped>\n",
       "    .dataframe tbody tr th:only-of-type {\n",
       "        vertical-align: middle;\n",
       "    }\n",
       "\n",
       "    .dataframe tbody tr th {\n",
       "        vertical-align: top;\n",
       "    }\n",
       "\n",
       "    .dataframe thead th {\n",
       "        text-align: right;\n",
       "    }\n",
       "</style>\n",
       "<table border=\"1\" class=\"dataframe\">\n",
       "  <thead>\n",
       "    <tr style=\"text-align: right;\">\n",
       "      <th></th>\n",
       "      <th>category</th>\n",
       "      <th>text</th>\n",
       "    </tr>\n",
       "  </thead>\n",
       "  <tbody>\n",
       "    <tr>\n",
       "      <th>0</th>\n",
       "      <td>Household</td>\n",
       "      <td>Paper Plane Design Framed Wall Hanging Motivat...</td>\n",
       "    </tr>\n",
       "    <tr>\n",
       "      <th>1</th>\n",
       "      <td>Household</td>\n",
       "      <td>SAF 'Floral' Framed Painting (Wood, 30 inch x ...</td>\n",
       "    </tr>\n",
       "    <tr>\n",
       "      <th>2</th>\n",
       "      <td>Household</td>\n",
       "      <td>SAF 'UV Textured Modern Art Print Framed' Pain...</td>\n",
       "    </tr>\n",
       "    <tr>\n",
       "      <th>3</th>\n",
       "      <td>Household</td>\n",
       "      <td>SAF Flower Print Framed Painting (Synthetic, 1...</td>\n",
       "    </tr>\n",
       "    <tr>\n",
       "      <th>4</th>\n",
       "      <td>Household</td>\n",
       "      <td>Incredible Gifts India Wooden Happy Birthday U...</td>\n",
       "    </tr>\n",
       "  </tbody>\n",
       "</table>\n",
       "</div>"
      ],
      "text/plain": [
       "    category                                               text\n",
       "0  Household  Paper Plane Design Framed Wall Hanging Motivat...\n",
       "1  Household  SAF 'Floral' Framed Painting (Wood, 30 inch x ...\n",
       "2  Household  SAF 'UV Textured Modern Art Print Framed' Pain...\n",
       "3  Household  SAF Flower Print Framed Painting (Synthetic, 1...\n",
       "4  Household  Incredible Gifts India Wooden Happy Birthday U..."
      ]
     },
     "execution_count": 2,
     "metadata": {},
     "output_type": "execute_result"
    }
   ],
   "source": [
    "ecommerce_data= pd.read_csv(\"ecommerceDataset.csv\", names=['category', 'text'])\n",
    "ecommerce_data[:5]"
   ]
  },
  {
   "cell_type": "code",
   "execution_count": 3,
   "id": "f04fcca9",
   "metadata": {},
   "outputs": [
    {
     "data": {
      "text/plain": [
       "(50425, 2)"
      ]
     },
     "execution_count": 3,
     "metadata": {},
     "output_type": "execute_result"
    }
   ],
   "source": [
    "ecommerce_data.shape"
   ]
  },
  {
   "cell_type": "code",
   "execution_count": 4,
   "id": "29b32239",
   "metadata": {},
   "outputs": [
    {
     "data": {
      "text/plain": [
       "category\n",
       "Household                 19313\n",
       "Books                     11820\n",
       "Electronics               10621\n",
       "Clothing & Accessories     8671\n",
       "Name: count, dtype: int64"
      ]
     },
     "execution_count": 4,
     "metadata": {},
     "output_type": "execute_result"
    }
   ],
   "source": [
    "ecommerce_data.category.value_counts()"
   ]
  },
  {
   "cell_type": "code",
   "execution_count": 5,
   "id": "78f2714a",
   "metadata": {},
   "outputs": [
    {
     "name": "stdout",
     "output_type": "stream",
     "text": [
      "<class 'pandas.core.frame.DataFrame'>\n",
      "RangeIndex: 50425 entries, 0 to 50424\n",
      "Data columns (total 2 columns):\n",
      " #   Column    Non-Null Count  Dtype \n",
      "---  ------    --------------  ----- \n",
      " 0   category  50425 non-null  object\n",
      " 1   text      50424 non-null  object\n",
      "dtypes: object(2)\n",
      "memory usage: 788.0+ KB\n"
     ]
    }
   ],
   "source": [
    "ecommerce_data.info()"
   ]
  },
  {
   "cell_type": "code",
   "execution_count": 6,
   "id": "61754787",
   "metadata": {},
   "outputs": [],
   "source": [
    "ecommerce_data[\"category_label\"]= ecommerce_data.category.map({\n",
    "    \"Household\": 0,\n",
    "    \"Books\": 1,\n",
    "    \"Electronics\": 2,\n",
    "    \"Clothing & Accessories\": 3\n",
    "})"
   ]
  },
  {
   "cell_type": "code",
   "execution_count": 7,
   "id": "8464f7ea",
   "metadata": {},
   "outputs": [
    {
     "data": {
      "text/html": [
       "<div>\n",
       "<style scoped>\n",
       "    .dataframe tbody tr th:only-of-type {\n",
       "        vertical-align: middle;\n",
       "    }\n",
       "\n",
       "    .dataframe tbody tr th {\n",
       "        vertical-align: top;\n",
       "    }\n",
       "\n",
       "    .dataframe thead th {\n",
       "        text-align: right;\n",
       "    }\n",
       "</style>\n",
       "<table border=\"1\" class=\"dataframe\">\n",
       "  <thead>\n",
       "    <tr style=\"text-align: right;\">\n",
       "      <th></th>\n",
       "      <th>category</th>\n",
       "      <th>text</th>\n",
       "      <th>category_label</th>\n",
       "    </tr>\n",
       "  </thead>\n",
       "  <tbody>\n",
       "    <tr>\n",
       "      <th>0</th>\n",
       "      <td>Household</td>\n",
       "      <td>Paper Plane Design Framed Wall Hanging Motivat...</td>\n",
       "      <td>0</td>\n",
       "    </tr>\n",
       "    <tr>\n",
       "      <th>1</th>\n",
       "      <td>Household</td>\n",
       "      <td>SAF 'Floral' Framed Painting (Wood, 30 inch x ...</td>\n",
       "      <td>0</td>\n",
       "    </tr>\n",
       "    <tr>\n",
       "      <th>2</th>\n",
       "      <td>Household</td>\n",
       "      <td>SAF 'UV Textured Modern Art Print Framed' Pain...</td>\n",
       "      <td>0</td>\n",
       "    </tr>\n",
       "    <tr>\n",
       "      <th>3</th>\n",
       "      <td>Household</td>\n",
       "      <td>SAF Flower Print Framed Painting (Synthetic, 1...</td>\n",
       "      <td>0</td>\n",
       "    </tr>\n",
       "    <tr>\n",
       "      <th>4</th>\n",
       "      <td>Household</td>\n",
       "      <td>Incredible Gifts India Wooden Happy Birthday U...</td>\n",
       "      <td>0</td>\n",
       "    </tr>\n",
       "  </tbody>\n",
       "</table>\n",
       "</div>"
      ],
      "text/plain": [
       "    category                                               text  \\\n",
       "0  Household  Paper Plane Design Framed Wall Hanging Motivat...   \n",
       "1  Household  SAF 'Floral' Framed Painting (Wood, 30 inch x ...   \n",
       "2  Household  SAF 'UV Textured Modern Art Print Framed' Pain...   \n",
       "3  Household  SAF Flower Print Framed Painting (Synthetic, 1...   \n",
       "4  Household  Incredible Gifts India Wooden Happy Birthday U...   \n",
       "\n",
       "   category_label  \n",
       "0               0  \n",
       "1               0  \n",
       "2               0  \n",
       "3               0  \n",
       "4               0  "
      ]
     },
     "execution_count": 7,
     "metadata": {},
     "output_type": "execute_result"
    }
   ],
   "source": [
    "ecommerce_data[:5]"
   ]
  },
  {
   "cell_type": "code",
   "execution_count": 8,
   "id": "12a7b707",
   "metadata": {},
   "outputs": [
    {
     "data": {
      "text/plain": [
       "category          0\n",
       "text              1\n",
       "category_label    0\n",
       "dtype: int64"
      ]
     },
     "execution_count": 8,
     "metadata": {},
     "output_type": "execute_result"
    }
   ],
   "source": [
    "#Checking for missing values\n",
    "ecommerce_data.isnull().sum()"
   ]
  },
  {
   "cell_type": "code",
   "execution_count": 9,
   "id": "f6ac79e9",
   "metadata": {},
   "outputs": [
    {
     "data": {
      "text/html": [
       "<div>\n",
       "<style scoped>\n",
       "    .dataframe tbody tr th:only-of-type {\n",
       "        vertical-align: middle;\n",
       "    }\n",
       "\n",
       "    .dataframe tbody tr th {\n",
       "        vertical-align: top;\n",
       "    }\n",
       "\n",
       "    .dataframe thead th {\n",
       "        text-align: right;\n",
       "    }\n",
       "</style>\n",
       "<table border=\"1\" class=\"dataframe\">\n",
       "  <thead>\n",
       "    <tr style=\"text-align: right;\">\n",
       "      <th></th>\n",
       "      <th>category</th>\n",
       "      <th>text</th>\n",
       "      <th>category_label</th>\n",
       "    </tr>\n",
       "  </thead>\n",
       "  <tbody>\n",
       "    <tr>\n",
       "      <th>39330</th>\n",
       "      <td>Clothing &amp; Accessories</td>\n",
       "      <td>NaN</td>\n",
       "      <td>3</td>\n",
       "    </tr>\n",
       "  </tbody>\n",
       "</table>\n",
       "</div>"
      ],
      "text/plain": [
       "                     category text  category_label\n",
       "39330  Clothing & Accessories  NaN               3"
      ]
     },
     "execution_count": 9,
     "metadata": {},
     "output_type": "execute_result"
    }
   ],
   "source": [
    "ecommerce_data[ecommerce_data.text.isnull()]"
   ]
  },
  {
   "cell_type": "code",
   "execution_count": 10,
   "id": "36c3e411",
   "metadata": {},
   "outputs": [],
   "source": [
    "#Dropping row with missing value\n",
    "ecommerce_data.dropna(inplace=True)"
   ]
  },
  {
   "cell_type": "code",
   "execution_count": 11,
   "id": "f16be0d0",
   "metadata": {},
   "outputs": [
    {
     "data": {
      "text/plain": [
       "(50424, 3)"
      ]
     },
     "execution_count": 11,
     "metadata": {},
     "output_type": "execute_result"
    }
   ],
   "source": [
    "ecommerce_data.shape"
   ]
  },
  {
   "cell_type": "code",
   "execution_count": 12,
   "id": "89cb137e",
   "metadata": {},
   "outputs": [
    {
     "data": {
      "text/html": [
       "<div>\n",
       "<style scoped>\n",
       "    .dataframe tbody tr th:only-of-type {\n",
       "        vertical-align: middle;\n",
       "    }\n",
       "\n",
       "    .dataframe tbody tr th {\n",
       "        vertical-align: top;\n",
       "    }\n",
       "\n",
       "    .dataframe thead th {\n",
       "        text-align: right;\n",
       "    }\n",
       "</style>\n",
       "<table border=\"1\" class=\"dataframe\">\n",
       "  <thead>\n",
       "    <tr style=\"text-align: right;\">\n",
       "      <th></th>\n",
       "      <th>category</th>\n",
       "      <th>text</th>\n",
       "      <th>category_label</th>\n",
       "    </tr>\n",
       "  </thead>\n",
       "  <tbody>\n",
       "    <tr>\n",
       "      <th>0</th>\n",
       "      <td>Household</td>\n",
       "      <td>Paper Plane Design Framed Wall Hanging Motivat...</td>\n",
       "      <td>0</td>\n",
       "    </tr>\n",
       "    <tr>\n",
       "      <th>1</th>\n",
       "      <td>Household</td>\n",
       "      <td>SAF 'Floral' Framed Painting (Wood, 30 inch x ...</td>\n",
       "      <td>0</td>\n",
       "    </tr>\n",
       "    <tr>\n",
       "      <th>2</th>\n",
       "      <td>Household</td>\n",
       "      <td>SAF 'UV Textured Modern Art Print Framed' Pain...</td>\n",
       "      <td>0</td>\n",
       "    </tr>\n",
       "    <tr>\n",
       "      <th>3</th>\n",
       "      <td>Household</td>\n",
       "      <td>SAF Flower Print Framed Painting (Synthetic, 1...</td>\n",
       "      <td>0</td>\n",
       "    </tr>\n",
       "    <tr>\n",
       "      <th>4</th>\n",
       "      <td>Household</td>\n",
       "      <td>Incredible Gifts India Wooden Happy Birthday U...</td>\n",
       "      <td>0</td>\n",
       "    </tr>\n",
       "  </tbody>\n",
       "</table>\n",
       "</div>"
      ],
      "text/plain": [
       "    category                                               text  \\\n",
       "0  Household  Paper Plane Design Framed Wall Hanging Motivat...   \n",
       "1  Household  SAF 'Floral' Framed Painting (Wood, 30 inch x ...   \n",
       "2  Household  SAF 'UV Textured Modern Art Print Framed' Pain...   \n",
       "3  Household  SAF Flower Print Framed Painting (Synthetic, 1...   \n",
       "4  Household  Incredible Gifts India Wooden Happy Birthday U...   \n",
       "\n",
       "   category_label  \n",
       "0               0  \n",
       "1               0  \n",
       "2               0  \n",
       "3               0  \n",
       "4               0  "
      ]
     },
     "execution_count": 12,
     "metadata": {},
     "output_type": "execute_result"
    }
   ],
   "source": [
    "ecommerce_data[:5]"
   ]
  },
  {
   "cell_type": "code",
   "execution_count": 13,
   "id": "5ed20137",
   "metadata": {},
   "outputs": [],
   "source": [
    "X_train, X_test, y_train, y_test= train_test_split(\n",
    "    ecommerce_data.text,\n",
    "    ecommerce_data.category_label, \n",
    "    test_size=0.2, \n",
    "    random_state=2022, \n",
    "    stratify=ecommerce_data.category_label) "
   ]
  },
  {
   "cell_type": "code",
   "execution_count": 14,
   "id": "634a04db",
   "metadata": {},
   "outputs": [
    {
     "data": {
      "text/plain": [
       "category_label\n",
       "0    15450\n",
       "1     9456\n",
       "2     8497\n",
       "3     6936\n",
       "Name: count, dtype: int64"
      ]
     },
     "execution_count": 14,
     "metadata": {},
     "output_type": "execute_result"
    }
   ],
   "source": [
    "y_train.value_counts()"
   ]
  },
  {
   "cell_type": "code",
   "execution_count": 15,
   "id": "83ca7f48",
   "metadata": {},
   "outputs": [
    {
     "data": {
      "text/plain": [
       "category_label\n",
       "0    3863\n",
       "1    2364\n",
       "2    2124\n",
       "3    1734\n",
       "Name: count, dtype: int64"
      ]
     },
     "execution_count": 15,
     "metadata": {},
     "output_type": "execute_result"
    }
   ],
   "source": [
    "y_test.value_counts()"
   ]
  },
  {
   "cell_type": "code",
   "execution_count": 16,
   "id": "293cc980",
   "metadata": {},
   "outputs": [
    {
     "data": {
      "text/plain": [
       "6291     TCLPVC Economy Bamboo Blind Chick Window Close...\n",
       "10681    Primeway® Metaltex Rap Box 3 Grater with Conta...\n",
       "14771    IFB 20 L Convection Microwave Oven (20SC2, Met...\n",
       "Name: text, dtype: object"
      ]
     },
     "execution_count": 16,
     "metadata": {},
     "output_type": "execute_result"
    }
   ],
   "source": [
    "X_train.head(3)"
   ]
  },
  {
   "cell_type": "code",
   "execution_count": 17,
   "id": "c889e5fe",
   "metadata": {},
   "outputs": [],
   "source": [
    "cv= CountVectorizer()\n",
    "X_train_cv= cv.fit_transform(X_train)\n",
    "X_test_cv= cv.fit_transform(X_test)"
   ]
  },
  {
   "cell_type": "code",
   "execution_count": 18,
   "id": "c8e29d94",
   "metadata": {},
   "outputs": [
    {
     "data": {
      "text/plain": [
       "(40339,)"
      ]
     },
     "execution_count": 18,
     "metadata": {},
     "output_type": "execute_result"
    }
   ],
   "source": [
    "X_train.shape"
   ]
  },
  {
   "cell_type": "code",
   "execution_count": 19,
   "id": "2088e60e",
   "metadata": {},
   "outputs": [
    {
     "data": {
      "text/plain": [
       "<40339x74168 sparse matrix of type '<class 'numpy.int64'>'\n",
       "\twith 2858568 stored elements in Compressed Sparse Row format>"
      ]
     },
     "execution_count": 19,
     "metadata": {},
     "output_type": "execute_result"
    }
   ],
   "source": [
    "X_train_cv"
   ]
  },
  {
   "cell_type": "code",
   "execution_count": 20,
   "id": "1624a061",
   "metadata": {},
   "outputs": [
    {
     "data": {
      "text/plain": [
       "(40339, 74168)"
      ]
     },
     "execution_count": 20,
     "metadata": {},
     "output_type": "execute_result"
    }
   ],
   "source": [
    "X_train_cv.shape"
   ]
  },
  {
   "cell_type": "code",
   "execution_count": 21,
   "id": "60ca4661",
   "metadata": {},
   "outputs": [],
   "source": [
    "#print(cv.vocabulary_)"
   ]
  },
  {
   "cell_type": "code",
   "execution_count": 22,
   "id": "b703d26b",
   "metadata": {},
   "outputs": [
    {
     "data": {
      "text/plain": [
       "'seagate'"
      ]
     },
     "execution_count": 22,
     "metadata": {},
     "output_type": "execute_result"
    }
   ],
   "source": [
    "cv.get_feature_names_out()[34108]"
   ]
  },
  {
   "cell_type": "code",
   "execution_count": 23,
   "id": "2740480a",
   "metadata": {},
   "outputs": [
    {
     "data": {
      "text/plain": [
       "array(['00', '000', '0000', ..., '③supports', '④supports', 'ヒッジー'],\n",
       "      dtype=object)"
      ]
     },
     "execution_count": 23,
     "metadata": {},
     "output_type": "execute_result"
    }
   ],
   "source": [
    "cv.get_feature_names_out()"
   ]
  },
  {
   "cell_type": "markdown",
   "id": "d0f477cf",
   "metadata": {},
   "source": [
    "# TF-IDF VECTORIZER"
   ]
  },
  {
   "cell_type": "code",
   "execution_count": 24,
   "id": "cdd5c6a3",
   "metadata": {},
   "outputs": [
    {
     "name": "stdout",
     "output_type": "stream",
     "text": [
      "              precision    recall  f1-score   support\n",
      "\n",
      "           0       0.89      0.98      0.94      3863\n",
      "           1       0.98      0.92      0.95      2364\n",
      "           2       0.97      0.90      0.93      2124\n",
      "           3       0.98      0.93      0.95      1734\n",
      "\n",
      "    accuracy                           0.94     10085\n",
      "   macro avg       0.96      0.93      0.94     10085\n",
      "weighted avg       0.94      0.94      0.94     10085\n",
      "\n"
     ]
    }
   ],
   "source": [
    "clf= Pipeline([\n",
    "    ('vectorizer', TfidfVectorizer()),\n",
    "    ('Multi NB', MultinomialNB())\n",
    "])\n",
    "\n",
    "clf.fit(X_train, y_train)\n",
    "y_pred= clf.predict(X_test)\n",
    "print(classification_report(y_test, y_pred))"
   ]
  },
  {
   "cell_type": "code",
   "execution_count": 25,
   "id": "76224b79",
   "metadata": {},
   "outputs": [
    {
     "name": "stdout",
     "output_type": "stream",
     "text": [
      "              precision    recall  f1-score   support\n",
      "\n",
      "           0       0.95      0.97      0.96      3863\n",
      "           1       0.97      0.96      0.96      2364\n",
      "           2       0.96      0.94      0.95      2124\n",
      "           3       0.97      0.97      0.97      1734\n",
      "\n",
      "    accuracy                           0.96     10085\n",
      "   macro avg       0.96      0.96      0.96     10085\n",
      "weighted avg       0.96      0.96      0.96     10085\n",
      "\n"
     ]
    }
   ],
   "source": [
    "clf2= Pipeline([\n",
    "    ('vectorizer', TfidfVectorizer()),\n",
    "    ('Model', KNeighborsClassifier())\n",
    "])\n",
    "\n",
    "clf2.fit(X_train, y_train)\n",
    "y_pred2= clf2.predict(X_test)\n",
    "print(classification_report(y_test, y_pred2))"
   ]
  },
  {
   "cell_type": "code",
   "execution_count": 26,
   "id": "217c125b",
   "metadata": {},
   "outputs": [
    {
     "data": {
      "text/plain": [
       "41536    2\n",
       "9671     0\n",
       "49630    2\n",
       "33658    3\n",
       "19317    1\n",
       "Name: category_label, dtype: int64"
      ]
     },
     "execution_count": 26,
     "metadata": {},
     "output_type": "execute_result"
    }
   ],
   "source": [
    "y_test[:5]"
   ]
  },
  {
   "cell_type": "code",
   "execution_count": 27,
   "id": "c48b45d9",
   "metadata": {},
   "outputs": [
    {
     "data": {
      "text/plain": [
       "array([2, 0, 2, 3, 1], dtype=int64)"
      ]
     },
     "execution_count": 27,
     "metadata": {},
     "output_type": "execute_result"
    }
   ],
   "source": [
    "y_pred2[:5]"
   ]
  },
  {
   "cell_type": "code",
   "execution_count": 28,
   "id": "c156784b",
   "metadata": {},
   "outputs": [
    {
     "name": "stdout",
     "output_type": "stream",
     "text": [
      "              precision    recall  f1-score   support\n",
      "\n",
      "           0       0.95      0.98      0.97      3863\n",
      "           1       0.98      0.98      0.98      2364\n",
      "           2       0.98      0.94      0.96      2124\n",
      "           3       0.98      0.97      0.98      1734\n",
      "\n",
      "    accuracy                           0.97     10085\n",
      "   macro avg       0.97      0.97      0.97     10085\n",
      "weighted avg       0.97      0.97      0.97     10085\n",
      "\n"
     ]
    }
   ],
   "source": [
    "clf3= Pipeline([\n",
    "    ('vectorizer', TfidfVectorizer()),\n",
    "    ('Model', RandomForestClassifier())\n",
    "])\n",
    "\n",
    "clf3.fit(X_train, y_train)\n",
    "y_pred3= clf3.predict(X_test)\n",
    "print(classification_report(y_test, y_pred3))"
   ]
  },
  {
   "cell_type": "code",
   "execution_count": 29,
   "id": "35b49ed6",
   "metadata": {},
   "outputs": [
    {
     "data": {
      "text/plain": [
       "array([2, 0, 2, 3, 1], dtype=int64)"
      ]
     },
     "execution_count": 29,
     "metadata": {},
     "output_type": "execute_result"
    }
   ],
   "source": [
    "y_pred3[:5]"
   ]
  },
  {
   "cell_type": "code",
   "execution_count": 30,
   "id": "e314d886",
   "metadata": {},
   "outputs": [
    {
     "data": {
      "text/plain": [
       "41536    2\n",
       "9671     0\n",
       "49630    2\n",
       "33658    3\n",
       "19317    1\n",
       "Name: category_label, dtype: int64"
      ]
     },
     "execution_count": 30,
     "metadata": {},
     "output_type": "execute_result"
    }
   ],
   "source": [
    "y_test[:5]"
   ]
  },
  {
   "cell_type": "code",
   "execution_count": 33,
   "id": "c337a11c",
   "metadata": {},
   "outputs": [
    {
     "data": {
      "text/html": [
       "<div>\n",
       "<style scoped>\n",
       "    .dataframe tbody tr th:only-of-type {\n",
       "        vertical-align: middle;\n",
       "    }\n",
       "\n",
       "    .dataframe tbody tr th {\n",
       "        vertical-align: top;\n",
       "    }\n",
       "\n",
       "    .dataframe thead th {\n",
       "        text-align: right;\n",
       "    }\n",
       "</style>\n",
       "<table border=\"1\" class=\"dataframe\">\n",
       "  <thead>\n",
       "    <tr style=\"text-align: right;\">\n",
       "      <th></th>\n",
       "      <th>models</th>\n",
       "      <th>Accuracy</th>\n",
       "    </tr>\n",
       "  </thead>\n",
       "  <tbody>\n",
       "    <tr>\n",
       "      <th>2</th>\n",
       "      <td>Random Forest</td>\n",
       "      <td>0.970749</td>\n",
       "    </tr>\n",
       "    <tr>\n",
       "      <th>1</th>\n",
       "      <td>KNN</td>\n",
       "      <td>0.962519</td>\n",
       "    </tr>\n",
       "    <tr>\n",
       "      <th>0</th>\n",
       "      <td>MultinomialNB</td>\n",
       "      <td>0.941497</td>\n",
       "    </tr>\n",
       "  </tbody>\n",
       "</table>\n",
       "</div>"
      ],
      "text/plain": [
       "          models  Accuracy\n",
       "2  Random Forest  0.970749\n",
       "1            KNN  0.962519\n",
       "0  MultinomialNB  0.941497"
      ]
     },
     "execution_count": 33,
     "metadata": {},
     "output_type": "execute_result"
    }
   ],
   "source": [
    "un_processed_text_models= pd.DataFrame({\n",
    "    'models': ['MultinomialNB','KNN' ,'Random Forest'],\n",
    "    'Accuracy':[accuracy_score(y_test, y_pred),\n",
    "               accuracy_score(y_test, y_pred2),\n",
    "               accuracy_score(y_test, y_pred3)]\n",
    "})\n",
    "un_processed_text_models= un_processed_text_models.sort_values(by='Accuracy', ascending=False)\n",
    "un_processed_text_models"
   ]
  },
  {
   "cell_type": "markdown",
   "id": "0a258abb",
   "metadata": {},
   "source": [
    "# USING PREPROCESSED TEXT"
   ]
  },
  {
   "cell_type": "code",
   "execution_count": 34,
   "id": "d2412f59",
   "metadata": {},
   "outputs": [],
   "source": [
    "#Defining a function to preprocess text\n",
    "\n",
    "nlp= spacy.load(\"en_core_web_sm\")\n",
    "\n",
    "def preprocess_text(text):\n",
    "    doc= nlp(text)\n",
    "    filtered_tokens= []\n",
    "    \n",
    "    for token in doc:\n",
    "        if token.is_stop or token.is_punct:\n",
    "            continue \n",
    "        filtered_tokens.append(token.lemma_)\n",
    "        \n",
    "    return \" \".join(filtered_tokens)"
   ]
  },
  {
   "cell_type": "code",
   "execution_count": 35,
   "id": "499b05ae",
   "metadata": {},
   "outputs": [],
   "source": [
    "ecommerce_data[\"processed_text\"]= ecommerce_data.text.apply(preprocess_text)"
   ]
  },
  {
   "cell_type": "code",
   "execution_count": 36,
   "id": "a41b0ad3",
   "metadata": {},
   "outputs": [
    {
     "data": {
      "text/plain": [
       "'Paper Plane Design Framed Wall Hanging Motivational Office Decor Art Prints (8.7 X 8.7 inch) - Set of 4 Painting made up in synthetic frame with uv textured print which gives multi effects and attracts towards it. This is an special series of paintings which makes your wall very beautiful and gives a royal touch. This painting is ready to hang, you would be proud to possess this unique painting that is a niche apart. We use only the most modern and efficient printing technology on our prints, with only the and inks and precision epson, roland and hp printers. This innovative hd printing technique results in durable and spectacular looking prints of the highest that last a lifetime. We print solely with top-notch 100% inks, to achieve brilliant and true colours. Due to their high level of uv resistance, our prints retain their beautiful colours for many years. Add colour and style to your living space with this digitally printed painting. Some are for pleasure and some for eternal bliss.so bring home this elegant print that is lushed with rich colors that makes it nothing but sheer elegance to be to your friends and family.it would be treasured forever by whoever your lucky recipient is. Liven up your place with these intriguing paintings that are high definition hd graphic digital prints for home, office or any room.'"
      ]
     },
     "execution_count": 36,
     "metadata": {},
     "output_type": "execute_result"
    }
   ],
   "source": [
    "ecommerce_data.text[0]"
   ]
  },
  {
   "cell_type": "code",
   "execution_count": 37,
   "id": "5af3ee93",
   "metadata": {},
   "outputs": [
    {
     "data": {
      "text/plain": [
       "'Paper Plane Design Framed Wall Hanging Motivational Office Decor Art Prints 8.7 x 8.7 inch set 4 Painting synthetic frame uv texture print give multi effect attract special series painting make wall beautiful give royal touch painting ready hang proud possess unique painting niche apart use modern efficient print technology print ink precision epson roland hp printer innovative hd printing technique result durable spectacular look print high lifetime print solely notch 100 ink achieve brilliant true colour high level uv resistance print retain beautiful colour year add colour style live space digitally print painting pleasure eternal bliss.so bring home elegant print lushe rich color make sheer elegance friend family.it treasure forever lucky recipient liven place intriguing painting high definition hd graphic digital print home office room'"
      ]
     },
     "execution_count": 37,
     "metadata": {},
     "output_type": "execute_result"
    }
   ],
   "source": [
    "ecommerce_data.processed_text[0]"
   ]
  },
  {
   "cell_type": "code",
   "execution_count": 38,
   "id": "6a9f0a8c",
   "metadata": {},
   "outputs": [
    {
     "data": {
      "text/html": [
       "<div>\n",
       "<style scoped>\n",
       "    .dataframe tbody tr th:only-of-type {\n",
       "        vertical-align: middle;\n",
       "    }\n",
       "\n",
       "    .dataframe tbody tr th {\n",
       "        vertical-align: top;\n",
       "    }\n",
       "\n",
       "    .dataframe thead th {\n",
       "        text-align: right;\n",
       "    }\n",
       "</style>\n",
       "<table border=\"1\" class=\"dataframe\">\n",
       "  <thead>\n",
       "    <tr style=\"text-align: right;\">\n",
       "      <th></th>\n",
       "      <th>category</th>\n",
       "      <th>text</th>\n",
       "      <th>category_label</th>\n",
       "      <th>processed_text</th>\n",
       "    </tr>\n",
       "  </thead>\n",
       "  <tbody>\n",
       "    <tr>\n",
       "      <th>0</th>\n",
       "      <td>Household</td>\n",
       "      <td>Paper Plane Design Framed Wall Hanging Motivat...</td>\n",
       "      <td>0</td>\n",
       "      <td>Paper Plane Design Framed Wall Hanging Motivat...</td>\n",
       "    </tr>\n",
       "    <tr>\n",
       "      <th>1</th>\n",
       "      <td>Household</td>\n",
       "      <td>SAF 'Floral' Framed Painting (Wood, 30 inch x ...</td>\n",
       "      <td>0</td>\n",
       "      <td>SAF Floral Framed Painting Wood 30 inch x 10 i...</td>\n",
       "    </tr>\n",
       "    <tr>\n",
       "      <th>2</th>\n",
       "      <td>Household</td>\n",
       "      <td>SAF 'UV Textured Modern Art Print Framed' Pain...</td>\n",
       "      <td>0</td>\n",
       "      <td>saf uv texture Modern Art Print Framed Paintin...</td>\n",
       "    </tr>\n",
       "  </tbody>\n",
       "</table>\n",
       "</div>"
      ],
      "text/plain": [
       "    category                                               text  \\\n",
       "0  Household  Paper Plane Design Framed Wall Hanging Motivat...   \n",
       "1  Household  SAF 'Floral' Framed Painting (Wood, 30 inch x ...   \n",
       "2  Household  SAF 'UV Textured Modern Art Print Framed' Pain...   \n",
       "\n",
       "   category_label                                     processed_text  \n",
       "0               0  Paper Plane Design Framed Wall Hanging Motivat...  \n",
       "1               0  SAF Floral Framed Painting Wood 30 inch x 10 i...  \n",
       "2               0  saf uv texture Modern Art Print Framed Paintin...  "
      ]
     },
     "execution_count": 38,
     "metadata": {},
     "output_type": "execute_result"
    }
   ],
   "source": [
    "ecommerce_data[:3]"
   ]
  },
  {
   "cell_type": "code",
   "execution_count": 39,
   "id": "382ef243",
   "metadata": {},
   "outputs": [],
   "source": [
    "X_train, X_test, y_train, y_test= train_test_split(\n",
    "    ecommerce_data.processed_text,\n",
    "    ecommerce_data.category_label, \n",
    "    test_size=0.2, \n",
    "    random_state=2022, \n",
    "    stratify=ecommerce_data.category_label) "
   ]
  },
  {
   "cell_type": "markdown",
   "id": "64d412ad",
   "metadata": {},
   "source": [
    "# TF_IDF VECTORIZER"
   ]
  },
  {
   "cell_type": "code",
   "execution_count": 42,
   "id": "c042656e",
   "metadata": {},
   "outputs": [
    {
     "name": "stdout",
     "output_type": "stream",
     "text": [
      "              precision    recall  f1-score   support\n",
      "\n",
      "           0       0.91      0.98      0.94      3863\n",
      "           1       0.98      0.92      0.95      2364\n",
      "           2       0.96      0.91      0.94      2124\n",
      "           3       0.98      0.95      0.96      1734\n",
      "\n",
      "    accuracy                           0.95     10085\n",
      "   macro avg       0.96      0.94      0.95     10085\n",
      "weighted avg       0.95      0.95      0.95     10085\n",
      "\n"
     ]
    }
   ],
   "source": [
    "clf= Pipeline([\n",
    "    ('vectorizer', TfidfVectorizer()),\n",
    "    ('Multi NB', MultinomialNB())\n",
    "])\n",
    "\n",
    "clf.fit(X_train, y_train)\n",
    "y_pred_nb= clf.predict(X_test)\n",
    "print(classification_report(y_test, y_pred_nb))"
   ]
  },
  {
   "cell_type": "code",
   "execution_count": 46,
   "id": "0a6ee35e",
   "metadata": {},
   "outputs": [
    {
     "name": "stdout",
     "output_type": "stream",
     "text": [
      "              precision    recall  f1-score   support\n",
      "\n",
      "           0       0.97      0.96      0.96      3863\n",
      "           1       0.89      0.98      0.94      2364\n",
      "           2       0.98      0.92      0.95      2124\n",
      "           3       0.99      0.96      0.98      1734\n",
      "\n",
      "    accuracy                           0.96     10085\n",
      "   macro avg       0.96      0.95      0.96     10085\n",
      "weighted avg       0.96      0.96      0.96     10085\n",
      "\n"
     ]
    }
   ],
   "source": [
    "clf2= Pipeline([\n",
    "    ('vectorizer', TfidfVectorizer()),\n",
    "    ('Model', KNeighborsClassifier())\n",
    "])\n",
    "\n",
    "clf2.fit(X_train, y_train)\n",
    "y_pred_knn= clf2.predict(X_test)\n",
    "print(classification_report(y_test, y_pred_knn))"
   ]
  },
  {
   "cell_type": "code",
   "execution_count": 47,
   "id": "227c0131",
   "metadata": {},
   "outputs": [
    {
     "name": "stdout",
     "output_type": "stream",
     "text": [
      "              precision    recall  f1-score   support\n",
      "\n",
      "           0       0.96      0.99      0.97      3863\n",
      "           1       0.98      0.98      0.98      2364\n",
      "           2       0.98      0.95      0.97      2124\n",
      "           3       0.98      0.98      0.98      1734\n",
      "\n",
      "    accuracy                           0.97     10085\n",
      "   macro avg       0.98      0.97      0.97     10085\n",
      "weighted avg       0.97      0.97      0.97     10085\n",
      "\n"
     ]
    }
   ],
   "source": [
    "clf3= Pipeline([\n",
    "    ('vectorizer', TfidfVectorizer()),\n",
    "    ('Model', RandomForestClassifier())\n",
    "])\n",
    "\n",
    "clf3.fit(X_train, y_train)\n",
    "y_pred_rf= clf3.predict(X_test)\n",
    "print(classification_report(y_test, y_pred_rf))"
   ]
  },
  {
   "cell_type": "code",
   "execution_count": 48,
   "id": "d9e0bebc",
   "metadata": {},
   "outputs": [
    {
     "data": {
      "text/html": [
       "<div>\n",
       "<style scoped>\n",
       "    .dataframe tbody tr th:only-of-type {\n",
       "        vertical-align: middle;\n",
       "    }\n",
       "\n",
       "    .dataframe tbody tr th {\n",
       "        vertical-align: top;\n",
       "    }\n",
       "\n",
       "    .dataframe thead th {\n",
       "        text-align: right;\n",
       "    }\n",
       "</style>\n",
       "<table border=\"1\" class=\"dataframe\">\n",
       "  <thead>\n",
       "    <tr style=\"text-align: right;\">\n",
       "      <th></th>\n",
       "      <th>models</th>\n",
       "      <th>Accuracy</th>\n",
       "    </tr>\n",
       "  </thead>\n",
       "  <tbody>\n",
       "    <tr>\n",
       "      <th>2</th>\n",
       "      <td>Random Forest</td>\n",
       "      <td>0.973723</td>\n",
       "    </tr>\n",
       "    <tr>\n",
       "      <th>1</th>\n",
       "      <td>KNN</td>\n",
       "      <td>0.955875</td>\n",
       "    </tr>\n",
       "    <tr>\n",
       "      <th>0</th>\n",
       "      <td>MultinomialNB</td>\n",
       "      <td>0.946158</td>\n",
       "    </tr>\n",
       "  </tbody>\n",
       "</table>\n",
       "</div>"
      ],
      "text/plain": [
       "          models  Accuracy\n",
       "2  Random Forest  0.973723\n",
       "1            KNN  0.955875\n",
       "0  MultinomialNB  0.946158"
      ]
     },
     "execution_count": 48,
     "metadata": {},
     "output_type": "execute_result"
    }
   ],
   "source": [
    "processed_text_models= pd.DataFrame({\n",
    "    'models': ['MultinomialNB','KNN' ,'Random Forest'],\n",
    "    'Accuracy':[accuracy_score(y_test, y_pred_nb),\n",
    "               accuracy_score(y_test, y_pred_knn),\n",
    "               accuracy_score(y_test, y_pred_rf)]\n",
    "})\n",
    "processed_text_models= processed_text_models.sort_values(by='Accuracy', ascending=False)\n",
    "processed_text_models"
   ]
  }
 ],
 "metadata": {
  "kernelspec": {
   "display_name": "Python 3 (ipykernel)",
   "language": "python",
   "name": "python3"
  },
  "language_info": {
   "codemirror_mode": {
    "name": "ipython",
    "version": 3
   },
   "file_extension": ".py",
   "mimetype": "text/x-python",
   "name": "python",
   "nbconvert_exporter": "python",
   "pygments_lexer": "ipython3",
   "version": "3.11.5"
  }
 },
 "nbformat": 4,
 "nbformat_minor": 5
}
